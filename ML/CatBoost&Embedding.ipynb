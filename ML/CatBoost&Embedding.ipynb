{
 "cells": [
  {
   "cell_type": "code",
   "execution_count": 34,
   "id": "f7a4926f",
   "metadata": {},
   "outputs": [],
   "source": [
    "import pandas as pd\n",
    "import numpy as np\n",
    "from sklearn.preprocessing import LabelEncoder\n",
    "from sklearn.model_selection import train_test_split\n",
    "from sklearn.metrics import mean_squared_error\n",
    "from sklearn.metrics import r2_score\n",
    "from tensorflow import keras\n",
    "from tensorflow import math\n",
    "from catboost import CatBoostRegressor"
   ]
  },
  {
   "cell_type": "code",
   "execution_count": 2,
   "id": "dc4840f7",
   "metadata": {},
   "outputs": [
    {
     "data": {
      "text/html": [
       "<div>\n",
       "<style scoped>\n",
       "    .dataframe tbody tr th:only-of-type {\n",
       "        vertical-align: middle;\n",
       "    }\n",
       "\n",
       "    .dataframe tbody tr th {\n",
       "        vertical-align: top;\n",
       "    }\n",
       "\n",
       "    .dataframe thead th {\n",
       "        text-align: right;\n",
       "    }\n",
       "</style>\n",
       "<table border=\"1\" class=\"dataframe\">\n",
       "  <thead>\n",
       "    <tr style=\"text-align: right;\">\n",
       "      <th></th>\n",
       "      <th>User-ID</th>\n",
       "      <th>Book-Rating</th>\n",
       "      <th>Book-Author</th>\n",
       "      <th>Year-Of-Publication</th>\n",
       "      <th>Location</th>\n",
       "      <th>Age</th>\n",
       "      <th>raw_title</th>\n",
       "      <th>categories</th>\n",
       "    </tr>\n",
       "  </thead>\n",
       "  <tbody>\n",
       "    <tr>\n",
       "      <th>0</th>\n",
       "      <td>2313</td>\n",
       "      <td>7</td>\n",
       "      <td>raybradbury</td>\n",
       "      <td>1984.0</td>\n",
       "      <td>usa</td>\n",
       "      <td>23.0</td>\n",
       "      <td>themartianchronicles</td>\n",
       "      <td>fiction</td>\n",
       "    </tr>\n",
       "    <tr>\n",
       "      <th>1</th>\n",
       "      <td>2313</td>\n",
       "      <td>8</td>\n",
       "      <td>johnokada</td>\n",
       "      <td>1978.0</td>\n",
       "      <td>usa</td>\n",
       "      <td>23.0</td>\n",
       "      <td>nonoboy</td>\n",
       "      <td>japanese</td>\n",
       "    </tr>\n",
       "    <tr>\n",
       "      <th>2</th>\n",
       "      <td>6543</td>\n",
       "      <td>8</td>\n",
       "      <td>raybradbury</td>\n",
       "      <td>1976.0</td>\n",
       "      <td>usa</td>\n",
       "      <td>34.0</td>\n",
       "      <td>fahrenheit451</td>\n",
       "      <td>bookburning</td>\n",
       "    </tr>\n",
       "    <tr>\n",
       "      <th>3</th>\n",
       "      <td>6543</td>\n",
       "      <td>9</td>\n",
       "      <td>jamespatterson</td>\n",
       "      <td>2001.0</td>\n",
       "      <td>usa</td>\n",
       "      <td>34.0</td>\n",
       "      <td>1sttodieanovel</td>\n",
       "      <td>fiction</td>\n",
       "    </tr>\n",
       "    <tr>\n",
       "      <th>4</th>\n",
       "      <td>6543</td>\n",
       "      <td>6</td>\n",
       "      <td>alexandermccallsmith</td>\n",
       "      <td>2002.0</td>\n",
       "      <td>usa</td>\n",
       "      <td>34.0</td>\n",
       "      <td>theno1ladiesdetectiveagency</td>\n",
       "      <td>botswana</td>\n",
       "    </tr>\n",
       "  </tbody>\n",
       "</table>\n",
       "</div>"
      ],
      "text/plain": [
       "   User-ID  Book-Rating           Book-Author  Year-Of-Publication Location   \n",
       "0     2313            7           raybradbury               1984.0      usa  \\\n",
       "1     2313            8             johnokada               1978.0      usa   \n",
       "2     6543            8           raybradbury               1976.0      usa   \n",
       "3     6543            9        jamespatterson               2001.0      usa   \n",
       "4     6543            6  alexandermccallsmith               2002.0      usa   \n",
       "\n",
       "    Age                    raw_title   categories  \n",
       "0  23.0         themartianchronicles      fiction  \n",
       "1  23.0                      nonoboy     japanese  \n",
       "2  34.0                fahrenheit451  bookburning  \n",
       "3  34.0               1sttodieanovel      fiction  \n",
       "4  34.0  theno1ladiesdetectiveagency     botswana  "
      ]
     },
     "execution_count": 2,
     "metadata": {},
     "output_type": "execute_result"
    }
   ],
   "source": [
    "data = pd.read_csv('data/preprocessed_data.csv')\n",
    "data.head(5)"
   ]
  },
  {
   "cell_type": "code",
   "execution_count": 3,
   "id": "506c6d31",
   "metadata": {},
   "outputs": [],
   "source": [
    "data['Age'] = data['Age'].fillna(data['Age'].median())\n",
    "data['Year-Of-Publication'] = data['Year-Of-Publication'].fillna(data['Year-Of-Publication'].median())"
   ]
  },
  {
   "cell_type": "code",
   "execution_count": 4,
   "id": "63ce6640",
   "metadata": {},
   "outputs": [
    {
     "name": "stderr",
     "output_type": "stream",
     "text": [
      "C:\\Users\\79237\\AppData\\Local\\Temp\\ipykernel_5864\\1623552856.py:2: SettingWithCopyWarning: \n",
      "A value is trying to be set on a copy of a slice from a DataFrame.\n",
      "Try using .loc[row_indexer,col_indexer] = value instead\n",
      "\n",
      "See the caveats in the documentation: https://pandas.pydata.org/pandas-docs/stable/user_guide/indexing.html#returning-a-view-versus-a-copy\n",
      "  embedded_data['Book-Rating'] = embedded_data['Book-Rating'].astype(float)\n"
     ]
    },
    {
     "data": {
      "text/html": [
       "<div>\n",
       "<style scoped>\n",
       "    .dataframe tbody tr th:only-of-type {\n",
       "        vertical-align: middle;\n",
       "    }\n",
       "\n",
       "    .dataframe tbody tr th {\n",
       "        vertical-align: top;\n",
       "    }\n",
       "\n",
       "    .dataframe thead th {\n",
       "        text-align: right;\n",
       "    }\n",
       "</style>\n",
       "<table border=\"1\" class=\"dataframe\">\n",
       "  <thead>\n",
       "    <tr style=\"text-align: right;\">\n",
       "      <th></th>\n",
       "      <th>User-ID</th>\n",
       "      <th>raw_title</th>\n",
       "      <th>Book-Rating</th>\n",
       "    </tr>\n",
       "  </thead>\n",
       "  <tbody>\n",
       "    <tr>\n",
       "      <th>0</th>\n",
       "      <td>2313</td>\n",
       "      <td>themartianchronicles</td>\n",
       "      <td>7.0</td>\n",
       "    </tr>\n",
       "    <tr>\n",
       "      <th>1</th>\n",
       "      <td>2313</td>\n",
       "      <td>nonoboy</td>\n",
       "      <td>8.0</td>\n",
       "    </tr>\n",
       "    <tr>\n",
       "      <th>2</th>\n",
       "      <td>6543</td>\n",
       "      <td>fahrenheit451</td>\n",
       "      <td>8.0</td>\n",
       "    </tr>\n",
       "    <tr>\n",
       "      <th>3</th>\n",
       "      <td>6543</td>\n",
       "      <td>1sttodieanovel</td>\n",
       "      <td>9.0</td>\n",
       "    </tr>\n",
       "    <tr>\n",
       "      <th>4</th>\n",
       "      <td>6543</td>\n",
       "      <td>theno1ladiesdetectiveagency</td>\n",
       "      <td>6.0</td>\n",
       "    </tr>\n",
       "  </tbody>\n",
       "</table>\n",
       "</div>"
      ],
      "text/plain": [
       "   User-ID                    raw_title  Book-Rating\n",
       "0     2313         themartianchronicles          7.0\n",
       "1     2313                      nonoboy          8.0\n",
       "2     6543                fahrenheit451          8.0\n",
       "3     6543               1sttodieanovel          9.0\n",
       "4     6543  theno1ladiesdetectiveagency          6.0"
      ]
     },
     "execution_count": 4,
     "metadata": {},
     "output_type": "execute_result"
    }
   ],
   "source": [
    "embedded_data = data[['User-ID', 'raw_title', 'Book-Rating']]\n",
    "embedded_data['Book-Rating'] = embedded_data['Book-Rating'].astype(float)\n",
    "embedded_data.head(5)"
   ]
  },
  {
   "cell_type": "code",
   "execution_count": 5,
   "id": "7ff25fa8",
   "metadata": {},
   "outputs": [
    {
     "name": "stderr",
     "output_type": "stream",
     "text": [
      "C:\\Users\\79237\\AppData\\Local\\Temp\\ipykernel_5864\\3648230060.py:2: SettingWithCopyWarning: \n",
      "A value is trying to be set on a copy of a slice from a DataFrame.\n",
      "Try using .loc[row_indexer,col_indexer] = value instead\n",
      "\n",
      "See the caveats in the documentation: https://pandas.pydata.org/pandas-docs/stable/user_guide/indexing.html#returning-a-view-versus-a-copy\n",
      "  embedded_data['raw_title'] = label_encoder.fit_transform(embedded_data['raw_title'])\n"
     ]
    },
    {
     "data": {
      "text/html": [
       "<div>\n",
       "<style scoped>\n",
       "    .dataframe tbody tr th:only-of-type {\n",
       "        vertical-align: middle;\n",
       "    }\n",
       "\n",
       "    .dataframe tbody tr th {\n",
       "        vertical-align: top;\n",
       "    }\n",
       "\n",
       "    .dataframe thead th {\n",
       "        text-align: right;\n",
       "    }\n",
       "</style>\n",
       "<table border=\"1\" class=\"dataframe\">\n",
       "  <thead>\n",
       "    <tr style=\"text-align: right;\">\n",
       "      <th></th>\n",
       "      <th>user-id</th>\n",
       "      <th>book-id</th>\n",
       "      <th>rating</th>\n",
       "    </tr>\n",
       "  </thead>\n",
       "  <tbody>\n",
       "    <tr>\n",
       "      <th>0</th>\n",
       "      <td>2313</td>\n",
       "      <td>11266</td>\n",
       "      <td>7.0</td>\n",
       "    </tr>\n",
       "    <tr>\n",
       "      <th>1</th>\n",
       "      <td>2313</td>\n",
       "      <td>7036</td>\n",
       "      <td>8.0</td>\n",
       "    </tr>\n",
       "    <tr>\n",
       "      <th>2</th>\n",
       "      <td>6543</td>\n",
       "      <td>3469</td>\n",
       "      <td>8.0</td>\n",
       "    </tr>\n",
       "    <tr>\n",
       "      <th>3</th>\n",
       "      <td>6543</td>\n",
       "      <td>39</td>\n",
       "      <td>9.0</td>\n",
       "    </tr>\n",
       "    <tr>\n",
       "      <th>4</th>\n",
       "      <td>6543</td>\n",
       "      <td>11466</td>\n",
       "      <td>6.0</td>\n",
       "    </tr>\n",
       "  </tbody>\n",
       "</table>\n",
       "</div>"
      ],
      "text/plain": [
       "   user-id  book-id  rating\n",
       "0     2313    11266     7.0\n",
       "1     2313     7036     8.0\n",
       "2     6543     3469     8.0\n",
       "3     6543       39     9.0\n",
       "4     6543    11466     6.0"
      ]
     },
     "execution_count": 5,
     "metadata": {},
     "output_type": "execute_result"
    }
   ],
   "source": [
    "label_encoder = LabelEncoder()\n",
    "embedded_data['raw_title'] = label_encoder.fit_transform(embedded_data['raw_title'])\n",
    "embedded_data = embedded_data.rename(columns={'User-ID': 'user-id', 'raw_title': 'book-id', 'Book-Rating': 'rating'})\n",
    "embedded_data.head(5)"
   ]
  },
  {
   "cell_type": "code",
   "execution_count": 6,
   "id": "0839b8a5",
   "metadata": {},
   "outputs": [],
   "source": [
    "X_embedded = embedded_data[['user-id', 'book-id']]\n",
    "y_embedded = embedded_data['rating']"
   ]
  },
  {
   "cell_type": "code",
   "execution_count": 7,
   "id": "1f0dde07",
   "metadata": {},
   "outputs": [],
   "source": [
    "all_users = X_embedded['user-id'].unique()\n",
    "all_books = X_embedded['book-id'].unique()"
   ]
  },
  {
   "cell_type": "code",
   "execution_count": 8,
   "id": "bd12e089",
   "metadata": {},
   "outputs": [],
   "source": [
    "user_input = keras.layers.Input(shape=(1,), name=\"User\")\n",
    "user_as_integer = keras.layers.IntegerLookup(vocabulary=all_users)(user_input)\n",
    "user_embedding = keras.layers.Embedding(input_dim=len(all_users) + 1, output_dim=32, embeddings_regularizer=keras.regularizers.l2(0.1), name=\"user-embedding\")(user_as_integer)"
   ]
  },
  {
   "cell_type": "code",
   "execution_count": 9,
   "id": "c1469784",
   "metadata": {},
   "outputs": [],
   "source": [
    "book_input = keras.layers.Input(shape=(1,), name=\"Book\")\n",
    "book_as_integer = keras.layers.IntegerLookup(vocabulary=all_books)(book_input)\n",
    "book_embedding = keras.layers.Embedding(input_dim=len(all_books) + 1, output_dim=32, embeddings_regularizer=keras.regularizers.l2(0.1), name=\"book-embedding\")(book_as_integer)"
   ]
  },
  {
   "cell_type": "code",
   "execution_count": 10,
   "id": "24d2ec24",
   "metadata": {},
   "outputs": [],
   "source": [
    "dot_product = keras.layers.Dot(axes=-1)([user_embedding, book_embedding])\n",
    "flatten = keras.layers.Flatten()(dot_product)"
   ]
  },
  {
   "cell_type": "code",
   "execution_count": 11,
   "id": "b6d356b7",
   "metadata": {},
   "outputs": [
    {
     "name": "stdout",
     "output_type": "stream",
     "text": [
      "WARNING:tensorflow:From C:\\Users\\79237\\AppData\\Local\\Programs\\Python\\Python310\\lib\\site-packages\\keras\\src\\backend\\tensorflow\\core.py:188: The name tf.placeholder is deprecated. Please use tf.compat.v1.placeholder instead.\n",
      "\n"
     ]
    }
   ],
   "source": [
    "output = keras.layers.Lambda(lambda x: 9 * math.sigmoid(x) + 1, name=\"Rating\")(flatten)"
   ]
  },
  {
   "cell_type": "code",
   "execution_count": 12,
   "id": "56ab3fbe",
   "metadata": {},
   "outputs": [],
   "source": [
    "model = keras.Model(inputs=[user_input, book_input], outputs=output)\n",
    "model.compile(loss=\"mse\", metrics=[keras.metrics.RootMeanSquaredError])"
   ]
  },
  {
   "cell_type": "code",
   "execution_count": 13,
   "id": "2f1da1df",
   "metadata": {},
   "outputs": [
    {
     "name": "stdout",
     "output_type": "stream",
     "text": [
      "Epoch 1/40\n",
      "\u001b[1m245/245\u001b[0m \u001b[32m━━━━━━━━━━━━━━━━━━━━\u001b[0m\u001b[37m\u001b[0m \u001b[1m4s\u001b[0m 15ms/step - loss: 22.8450 - root_mean_squared_error: 2.8404 - val_loss: 7.6130 - val_root_mean_squared_error: 2.7535\n",
      "Epoch 2/40\n",
      "\u001b[1m245/245\u001b[0m \u001b[32m━━━━━━━━━━━━━━━━━━━━\u001b[0m\u001b[37m\u001b[0m \u001b[1m4s\u001b[0m 15ms/step - loss: 8.0639 - root_mean_squared_error: 2.8397 - val_loss: 7.6130 - val_root_mean_squared_error: 2.7535\n",
      "Epoch 3/40\n",
      "\u001b[1m245/245\u001b[0m \u001b[32m━━━━━━━━━━━━━━━━━━━━\u001b[0m\u001b[37m\u001b[0m \u001b[1m4s\u001b[0m 15ms/step - loss: 8.0931 - root_mean_squared_error: 2.8448 - val_loss: 7.6130 - val_root_mean_squared_error: 2.7535\n",
      "Epoch 4/40\n",
      "\u001b[1m245/245\u001b[0m \u001b[32m━━━━━━━━━━━━━━━━━━━━\u001b[0m\u001b[37m\u001b[0m \u001b[1m4s\u001b[0m 15ms/step - loss: 8.1314 - root_mean_squared_error: 2.8515 - val_loss: 7.6130 - val_root_mean_squared_error: 2.7535\n",
      "Epoch 5/40\n",
      "\u001b[1m245/245\u001b[0m \u001b[32m━━━━━━━━━━━━━━━━━━━━\u001b[0m\u001b[37m\u001b[0m \u001b[1m4s\u001b[0m 14ms/step - loss: 8.1406 - root_mean_squared_error: 2.8532 - val_loss: 7.6130 - val_root_mean_squared_error: 2.7535\n",
      "Epoch 6/40\n",
      "\u001b[1m245/245\u001b[0m \u001b[32m━━━━━━━━━━━━━━━━━━━━\u001b[0m\u001b[37m\u001b[0m \u001b[1m4s\u001b[0m 15ms/step - loss: 8.1092 - root_mean_squared_error: 2.8476 - val_loss: 7.6130 - val_root_mean_squared_error: 2.7535\n",
      "Epoch 7/40\n",
      "\u001b[1m245/245\u001b[0m \u001b[32m━━━━━━━━━━━━━━━━━━━━\u001b[0m\u001b[37m\u001b[0m \u001b[1m4s\u001b[0m 15ms/step - loss: 8.1722 - root_mean_squared_error: 2.8587 - val_loss: 7.6130 - val_root_mean_squared_error: 2.7535\n",
      "Epoch 8/40\n",
      "\u001b[1m245/245\u001b[0m \u001b[32m━━━━━━━━━━━━━━━━━━━━\u001b[0m\u001b[37m\u001b[0m \u001b[1m4s\u001b[0m 15ms/step - loss: 8.0912 - root_mean_squared_error: 2.8445 - val_loss: 7.6130 - val_root_mean_squared_error: 2.7535\n",
      "Epoch 9/40\n",
      "\u001b[1m245/245\u001b[0m \u001b[32m━━━━━━━━━━━━━━━━━━━━\u001b[0m\u001b[37m\u001b[0m \u001b[1m4s\u001b[0m 15ms/step - loss: 8.1202 - root_mean_squared_error: 2.8496 - val_loss: 7.6130 - val_root_mean_squared_error: 2.7535\n",
      "Epoch 10/40\n",
      "\u001b[1m245/245\u001b[0m \u001b[32m━━━━━━━━━━━━━━━━━━━━\u001b[0m\u001b[37m\u001b[0m \u001b[1m4s\u001b[0m 15ms/step - loss: 8.1043 - root_mean_squared_error: 2.8468 - val_loss: 7.6130 - val_root_mean_squared_error: 2.7535\n",
      "Epoch 11/40\n",
      "\u001b[1m245/245\u001b[0m \u001b[32m━━━━━━━━━━━━━━━━━━━━\u001b[0m\u001b[37m\u001b[0m \u001b[1m4s\u001b[0m 15ms/step - loss: 8.1072 - root_mean_squared_error: 2.8473 - val_loss: 7.6130 - val_root_mean_squared_error: 2.7535\n",
      "Epoch 12/40\n",
      "\u001b[1m245/245\u001b[0m \u001b[32m━━━━━━━━━━━━━━━━━━━━\u001b[0m\u001b[37m\u001b[0m \u001b[1m4s\u001b[0m 15ms/step - loss: 8.1281 - root_mean_squared_error: 2.8509 - val_loss: 7.6130 - val_root_mean_squared_error: 2.7535\n",
      "Epoch 13/40\n",
      "\u001b[1m245/245\u001b[0m \u001b[32m━━━━━━━━━━━━━━━━━━━━\u001b[0m\u001b[37m\u001b[0m \u001b[1m4s\u001b[0m 15ms/step - loss: 8.1262 - root_mean_squared_error: 2.8506 - val_loss: 7.6130 - val_root_mean_squared_error: 2.7535\n",
      "Epoch 14/40\n",
      "\u001b[1m245/245\u001b[0m \u001b[32m━━━━━━━━━━━━━━━━━━━━\u001b[0m\u001b[37m\u001b[0m \u001b[1m4s\u001b[0m 15ms/step - loss: 8.1254 - root_mean_squared_error: 2.8505 - val_loss: 7.6130 - val_root_mean_squared_error: 2.7535\n",
      "Epoch 15/40\n",
      "\u001b[1m245/245\u001b[0m \u001b[32m━━━━━━━━━━━━━━━━━━━━\u001b[0m\u001b[37m\u001b[0m \u001b[1m4s\u001b[0m 15ms/step - loss: 8.1087 - root_mean_squared_error: 2.8476 - val_loss: 7.6130 - val_root_mean_squared_error: 2.7535\n",
      "Epoch 16/40\n",
      "\u001b[1m245/245\u001b[0m \u001b[32m━━━━━━━━━━━━━━━━━━━━\u001b[0m\u001b[37m\u001b[0m \u001b[1m4s\u001b[0m 15ms/step - loss: 8.0920 - root_mean_squared_error: 2.8446 - val_loss: 7.6130 - val_root_mean_squared_error: 2.7535\n",
      "Epoch 17/40\n",
      "\u001b[1m245/245\u001b[0m \u001b[32m━━━━━━━━━━━━━━━━━━━━\u001b[0m\u001b[37m\u001b[0m \u001b[1m4s\u001b[0m 15ms/step - loss: 8.1076 - root_mean_squared_error: 2.8474 - val_loss: 7.6130 - val_root_mean_squared_error: 2.7535\n",
      "Epoch 18/40\n",
      "\u001b[1m245/245\u001b[0m \u001b[32m━━━━━━━━━━━━━━━━━━━━\u001b[0m\u001b[37m\u001b[0m \u001b[1m4s\u001b[0m 15ms/step - loss: 8.1345 - root_mean_squared_error: 2.8521 - val_loss: 7.6130 - val_root_mean_squared_error: 2.7535\n",
      "Epoch 19/40\n",
      "\u001b[1m245/245\u001b[0m \u001b[32m━━━━━━━━━━━━━━━━━━━━\u001b[0m\u001b[37m\u001b[0m \u001b[1m4s\u001b[0m 15ms/step - loss: 8.1141 - root_mean_squared_error: 2.8485 - val_loss: 7.6130 - val_root_mean_squared_error: 2.7535\n",
      "Epoch 20/40\n",
      "\u001b[1m245/245\u001b[0m \u001b[32m━━━━━━━━━━━━━━━━━━━━\u001b[0m\u001b[37m\u001b[0m \u001b[1m4s\u001b[0m 15ms/step - loss: 8.1316 - root_mean_squared_error: 2.8516 - val_loss: 7.6130 - val_root_mean_squared_error: 2.7535\n",
      "Epoch 21/40\n",
      "\u001b[1m245/245\u001b[0m \u001b[32m━━━━━━━━━━━━━━━━━━━━\u001b[0m\u001b[37m\u001b[0m \u001b[1m4s\u001b[0m 15ms/step - loss: 8.1111 - root_mean_squared_error: 2.8480 - val_loss: 7.6130 - val_root_mean_squared_error: 2.7535\n",
      "Epoch 22/40\n",
      "\u001b[1m245/245\u001b[0m \u001b[32m━━━━━━━━━━━━━━━━━━━━\u001b[0m\u001b[37m\u001b[0m \u001b[1m4s\u001b[0m 15ms/step - loss: 8.1109 - root_mean_squared_error: 2.8479 - val_loss: 7.6130 - val_root_mean_squared_error: 2.7535\n",
      "Epoch 23/40\n",
      "\u001b[1m245/245\u001b[0m \u001b[32m━━━━━━━━━━━━━━━━━━━━\u001b[0m\u001b[37m\u001b[0m \u001b[1m4s\u001b[0m 15ms/step - loss: 8.1487 - root_mean_squared_error: 2.8546 - val_loss: 7.6130 - val_root_mean_squared_error: 2.7535\n",
      "Epoch 24/40\n",
      "\u001b[1m245/245\u001b[0m \u001b[32m━━━━━━━━━━━━━━━━━━━━\u001b[0m\u001b[37m\u001b[0m \u001b[1m4s\u001b[0m 15ms/step - loss: 8.1292 - root_mean_squared_error: 2.8512 - val_loss: 7.6130 - val_root_mean_squared_error: 2.7535\n",
      "Epoch 25/40\n",
      "\u001b[1m245/245\u001b[0m \u001b[32m━━━━━━━━━━━━━━━━━━━━\u001b[0m\u001b[37m\u001b[0m \u001b[1m4s\u001b[0m 15ms/step - loss: 8.1057 - root_mean_squared_error: 2.8470 - val_loss: 7.6130 - val_root_mean_squared_error: 2.7535\n",
      "Epoch 26/40\n",
      "\u001b[1m245/245\u001b[0m \u001b[32m━━━━━━━━━━━━━━━━━━━━\u001b[0m\u001b[37m\u001b[0m \u001b[1m4s\u001b[0m 15ms/step - loss: 8.1098 - root_mean_squared_error: 2.8478 - val_loss: 7.6130 - val_root_mean_squared_error: 2.7535\n",
      "Epoch 27/40\n",
      "\u001b[1m245/245\u001b[0m \u001b[32m━━━━━━━━━━━━━━━━━━━━\u001b[0m\u001b[37m\u001b[0m \u001b[1m4s\u001b[0m 16ms/step - loss: 8.0756 - root_mean_squared_error: 2.8417 - val_loss: 7.6130 - val_root_mean_squared_error: 2.7535\n",
      "Epoch 28/40\n",
      "\u001b[1m245/245\u001b[0m \u001b[32m━━━━━━━━━━━━━━━━━━━━\u001b[0m\u001b[37m\u001b[0m \u001b[1m4s\u001b[0m 15ms/step - loss: 8.1136 - root_mean_squared_error: 2.8484 - val_loss: 7.6130 - val_root_mean_squared_error: 2.7535\n",
      "Epoch 29/40\n",
      "\u001b[1m245/245\u001b[0m \u001b[32m━━━━━━━━━━━━━━━━━━━━\u001b[0m\u001b[37m\u001b[0m \u001b[1m4s\u001b[0m 15ms/step - loss: 8.1108 - root_mean_squared_error: 2.8479 - val_loss: 7.6130 - val_root_mean_squared_error: 2.7535\n",
      "Epoch 30/40\n",
      "\u001b[1m245/245\u001b[0m \u001b[32m━━━━━━━━━━━━━━━━━━━━\u001b[0m\u001b[37m\u001b[0m \u001b[1m3s\u001b[0m 14ms/step - loss: 8.1444 - root_mean_squared_error: 2.8538 - val_loss: 7.6130 - val_root_mean_squared_error: 2.7535\n",
      "Epoch 31/40\n",
      "\u001b[1m245/245\u001b[0m \u001b[32m━━━━━━━━━━━━━━━━━━━━\u001b[0m\u001b[37m\u001b[0m \u001b[1m4s\u001b[0m 15ms/step - loss: 8.1107 - root_mean_squared_error: 2.8479 - val_loss: 7.6130 - val_root_mean_squared_error: 2.7535\n",
      "Epoch 32/40\n",
      "\u001b[1m245/245\u001b[0m \u001b[32m━━━━━━━━━━━━━━━━━━━━\u001b[0m\u001b[37m\u001b[0m \u001b[1m4s\u001b[0m 15ms/step - loss: 8.0897 - root_mean_squared_error: 2.8442 - val_loss: 7.6130 - val_root_mean_squared_error: 2.7535\n",
      "Epoch 33/40\n",
      "\u001b[1m245/245\u001b[0m \u001b[32m━━━━━━━━━━━━━━━━━━━━\u001b[0m\u001b[37m\u001b[0m \u001b[1m4s\u001b[0m 15ms/step - loss: 8.1102 - root_mean_squared_error: 2.8478 - val_loss: 7.6130 - val_root_mean_squared_error: 2.7535\n",
      "Epoch 34/40\n",
      "\u001b[1m245/245\u001b[0m \u001b[32m━━━━━━━━━━━━━━━━━━━━\u001b[0m\u001b[37m\u001b[0m \u001b[1m4s\u001b[0m 15ms/step - loss: 8.1076 - root_mean_squared_error: 2.8474 - val_loss: 7.6130 - val_root_mean_squared_error: 2.7535\n",
      "Epoch 35/40\n",
      "\u001b[1m245/245\u001b[0m \u001b[32m━━━━━━━━━━━━━━━━━━━━\u001b[0m\u001b[37m\u001b[0m \u001b[1m4s\u001b[0m 15ms/step - loss: 8.0994 - root_mean_squared_error: 2.8459 - val_loss: 7.6130 - val_root_mean_squared_error: 2.7535\n",
      "Epoch 36/40\n",
      "\u001b[1m245/245\u001b[0m \u001b[32m━━━━━━━━━━━━━━━━━━━━\u001b[0m\u001b[37m\u001b[0m \u001b[1m4s\u001b[0m 15ms/step - loss: 8.1059 - root_mean_squared_error: 2.8471 - val_loss: 7.6130 - val_root_mean_squared_error: 2.7535\n",
      "Epoch 37/40\n",
      "\u001b[1m245/245\u001b[0m \u001b[32m━━━━━━━━━━━━━━━━━━━━\u001b[0m\u001b[37m\u001b[0m \u001b[1m4s\u001b[0m 15ms/step - loss: 8.1240 - root_mean_squared_error: 2.8503 - val_loss: 7.6130 - val_root_mean_squared_error: 2.7535\n",
      "Epoch 38/40\n",
      "\u001b[1m245/245\u001b[0m \u001b[32m━━━━━━━━━━━━━━━━━━━━\u001b[0m\u001b[37m\u001b[0m \u001b[1m4s\u001b[0m 15ms/step - loss: 8.1451 - root_mean_squared_error: 2.8539 - val_loss: 7.6130 - val_root_mean_squared_error: 2.7535\n",
      "Epoch 39/40\n",
      "\u001b[1m245/245\u001b[0m \u001b[32m━━━━━━━━━━━━━━━━━━━━\u001b[0m\u001b[37m\u001b[0m \u001b[1m4s\u001b[0m 15ms/step - loss: 8.1230 - root_mean_squared_error: 2.8501 - val_loss: 7.6130 - val_root_mean_squared_error: 2.7535\n",
      "Epoch 40/40\n",
      "\u001b[1m245/245\u001b[0m \u001b[32m━━━━━━━━━━━━━━━━━━━━\u001b[0m\u001b[37m\u001b[0m \u001b[1m4s\u001b[0m 15ms/step - loss: 8.1371 - root_mean_squared_error: 2.8525 - val_loss: 7.6130 - val_root_mean_squared_error: 2.7535\n"
     ]
    },
    {
     "data": {
      "text/plain": [
       "<keras.src.callbacks.history.History at 0x238250465f0>"
      ]
     },
     "execution_count": 13,
     "metadata": {},
     "output_type": "execute_result"
    }
   ],
   "source": [
    "model.fit(x=[X_embedded['user-id'], X_embedded['book-id']], y=y_embedded, batch_size=256, epochs=40, validation_split=0.1)"
   ]
  },
  {
   "cell_type": "code",
   "execution_count": 14,
   "id": "df7de3fd",
   "metadata": {},
   "outputs": [],
   "source": [
    "embedded_user_output = model.get_layer(\"user-embedding\").output\n",
    "embedded_book_output = model.get_layer(\"book-embedding\").output\n",
    "embedding_user_model = keras.Model(inputs=[user_input, book_input], outputs=embedded_user_output)\n",
    "embedding_book_model = keras.Model(inputs=[user_input, book_input], outputs=embedded_book_output)"
   ]
  },
  {
   "cell_type": "code",
   "execution_count": 15,
   "id": "c6f69fc9",
   "metadata": {},
   "outputs": [
    {
     "name": "stdout",
     "output_type": "stream",
     "text": [
      "\u001b[1m2177/2177\u001b[0m \u001b[32m━━━━━━━━━━━━━━━━━━━━\u001b[0m\u001b[37m\u001b[0m \u001b[1m2s\u001b[0m 981us/step\n",
      "\u001b[1m2177/2177\u001b[0m \u001b[32m━━━━━━━━━━━━━━━━━━━━\u001b[0m\u001b[37m\u001b[0m \u001b[1m2s\u001b[0m 970us/step\n"
     ]
    }
   ],
   "source": [
    "user_feature = embedding_user_model.predict(x=[X_embedded['user-id'], X_embedded['book-id']]).reshape((69659, 32)).tolist()\n",
    "user_df = pd.DataFrame(user_feature)\n",
    "user_df = user_df.add_suffix('_user')\n",
    "book_feature = embedding_book_model.predict(x=[X_embedded['user-id'], X_embedded['book-id']]).reshape((69659, 32)).tolist()\n",
    "book_df = pd.DataFrame(book_feature)\n",
    "book_df = book_df.add_suffix('_book')"
   ]
  },
  {
   "cell_type": "code",
   "execution_count": 17,
   "id": "3534f436",
   "metadata": {},
   "outputs": [
    {
     "data": {
      "text/html": [
       "<div>\n",
       "<style scoped>\n",
       "    .dataframe tbody tr th:only-of-type {\n",
       "        vertical-align: middle;\n",
       "    }\n",
       "\n",
       "    .dataframe tbody tr th {\n",
       "        vertical-align: top;\n",
       "    }\n",
       "\n",
       "    .dataframe thead th {\n",
       "        text-align: right;\n",
       "    }\n",
       "</style>\n",
       "<table border=\"1\" class=\"dataframe\">\n",
       "  <thead>\n",
       "    <tr style=\"text-align: right;\">\n",
       "      <th></th>\n",
       "      <th>Book-Rating</th>\n",
       "      <th>Book-Author</th>\n",
       "      <th>Year-Of-Publication</th>\n",
       "      <th>Location</th>\n",
       "      <th>Age</th>\n",
       "      <th>categories</th>\n",
       "    </tr>\n",
       "  </thead>\n",
       "  <tbody>\n",
       "    <tr>\n",
       "      <th>0</th>\n",
       "      <td>7</td>\n",
       "      <td>raybradbury</td>\n",
       "      <td>1984.0</td>\n",
       "      <td>usa</td>\n",
       "      <td>23.0</td>\n",
       "      <td>fiction</td>\n",
       "    </tr>\n",
       "    <tr>\n",
       "      <th>1</th>\n",
       "      <td>8</td>\n",
       "      <td>johnokada</td>\n",
       "      <td>1978.0</td>\n",
       "      <td>usa</td>\n",
       "      <td>23.0</td>\n",
       "      <td>japanese</td>\n",
       "    </tr>\n",
       "    <tr>\n",
       "      <th>2</th>\n",
       "      <td>8</td>\n",
       "      <td>raybradbury</td>\n",
       "      <td>1976.0</td>\n",
       "      <td>usa</td>\n",
       "      <td>34.0</td>\n",
       "      <td>bookburning</td>\n",
       "    </tr>\n",
       "    <tr>\n",
       "      <th>3</th>\n",
       "      <td>9</td>\n",
       "      <td>jamespatterson</td>\n",
       "      <td>2001.0</td>\n",
       "      <td>usa</td>\n",
       "      <td>34.0</td>\n",
       "      <td>fiction</td>\n",
       "    </tr>\n",
       "    <tr>\n",
       "      <th>4</th>\n",
       "      <td>6</td>\n",
       "      <td>alexandermccallsmith</td>\n",
       "      <td>2002.0</td>\n",
       "      <td>usa</td>\n",
       "      <td>34.0</td>\n",
       "      <td>botswana</td>\n",
       "    </tr>\n",
       "  </tbody>\n",
       "</table>\n",
       "</div>"
      ],
      "text/plain": [
       "   Book-Rating           Book-Author  Year-Of-Publication Location   Age   \n",
       "0            7           raybradbury               1984.0      usa  23.0  \\\n",
       "1            8             johnokada               1978.0      usa  23.0   \n",
       "2            8           raybradbury               1976.0      usa  34.0   \n",
       "3            9        jamespatterson               2001.0      usa  34.0   \n",
       "4            6  alexandermccallsmith               2002.0      usa  34.0   \n",
       "\n",
       "    categories  \n",
       "0      fiction  \n",
       "1     japanese  \n",
       "2  bookburning  \n",
       "3      fiction  \n",
       "4     botswana  "
      ]
     },
     "execution_count": 17,
     "metadata": {},
     "output_type": "execute_result"
    }
   ],
   "source": [
    "data = data.drop(columns=['User-ID', 'raw_title'])\n",
    "data.head(5)"
   ]
  },
  {
   "cell_type": "code",
   "execution_count": 24,
   "id": "bdfaaecb",
   "metadata": {},
   "outputs": [
    {
     "data": {
      "text/html": [
       "<div>\n",
       "<style scoped>\n",
       "    .dataframe tbody tr th:only-of-type {\n",
       "        vertical-align: middle;\n",
       "    }\n",
       "\n",
       "    .dataframe tbody tr th {\n",
       "        vertical-align: top;\n",
       "    }\n",
       "\n",
       "    .dataframe thead th {\n",
       "        text-align: right;\n",
       "    }\n",
       "</style>\n",
       "<table border=\"1\" class=\"dataframe\">\n",
       "  <thead>\n",
       "    <tr style=\"text-align: right;\">\n",
       "      <th></th>\n",
       "      <th>Book-Rating</th>\n",
       "      <th>Book-Author</th>\n",
       "      <th>Year-Of-Publication</th>\n",
       "      <th>Location</th>\n",
       "      <th>Age</th>\n",
       "      <th>categories</th>\n",
       "      <th>0_user</th>\n",
       "      <th>1_user</th>\n",
       "      <th>2_user</th>\n",
       "      <th>3_user</th>\n",
       "      <th>...</th>\n",
       "      <th>22_book</th>\n",
       "      <th>23_book</th>\n",
       "      <th>24_book</th>\n",
       "      <th>25_book</th>\n",
       "      <th>26_book</th>\n",
       "      <th>27_book</th>\n",
       "      <th>28_book</th>\n",
       "      <th>29_book</th>\n",
       "      <th>30_book</th>\n",
       "      <th>31_book</th>\n",
       "    </tr>\n",
       "  </thead>\n",
       "  <tbody>\n",
       "    <tr>\n",
       "      <th>0</th>\n",
       "      <td>7</td>\n",
       "      <td>raybradbury</td>\n",
       "      <td>1984.0</td>\n",
       "      <td>usa</td>\n",
       "      <td>23.0</td>\n",
       "      <td>fiction</td>\n",
       "      <td>5.383851e-35</td>\n",
       "      <td>2.213598e-35</td>\n",
       "      <td>5.186988e-35</td>\n",
       "      <td>2.470529e-35</td>\n",
       "      <td>...</td>\n",
       "      <td>9.475914e-36</td>\n",
       "      <td>-8.186681e-36</td>\n",
       "      <td>-1.679035e-35</td>\n",
       "      <td>9.918262e-36</td>\n",
       "      <td>-2.765350e-36</td>\n",
       "      <td>-3.266017e-35</td>\n",
       "      <td>2.205530e-35</td>\n",
       "      <td>-3.903327e-36</td>\n",
       "      <td>2.279142e-35</td>\n",
       "      <td>-3.846418e-35</td>\n",
       "    </tr>\n",
       "    <tr>\n",
       "      <th>1</th>\n",
       "      <td>8</td>\n",
       "      <td>johnokada</td>\n",
       "      <td>1978.0</td>\n",
       "      <td>usa</td>\n",
       "      <td>23.0</td>\n",
       "      <td>japanese</td>\n",
       "      <td>5.383851e-35</td>\n",
       "      <td>2.213598e-35</td>\n",
       "      <td>5.186988e-35</td>\n",
       "      <td>2.470529e-35</td>\n",
       "      <td>...</td>\n",
       "      <td>4.005529e-35</td>\n",
       "      <td>4.530857e-35</td>\n",
       "      <td>2.558716e-35</td>\n",
       "      <td>-3.194719e-35</td>\n",
       "      <td>4.720458e-35</td>\n",
       "      <td>2.547220e-35</td>\n",
       "      <td>-2.309097e-35</td>\n",
       "      <td>4.423635e-35</td>\n",
       "      <td>5.765179e-35</td>\n",
       "      <td>2.776359e-35</td>\n",
       "    </tr>\n",
       "    <tr>\n",
       "      <th>2</th>\n",
       "      <td>8</td>\n",
       "      <td>raybradbury</td>\n",
       "      <td>1976.0</td>\n",
       "      <td>usa</td>\n",
       "      <td>34.0</td>\n",
       "      <td>bookburning</td>\n",
       "      <td>-2.248257e-35</td>\n",
       "      <td>1.282254e-35</td>\n",
       "      <td>1.618739e-35</td>\n",
       "      <td>-1.077885e-35</td>\n",
       "      <td>...</td>\n",
       "      <td>7.491415e-36</td>\n",
       "      <td>-1.126411e-35</td>\n",
       "      <td>2.433774e-35</td>\n",
       "      <td>-2.865133e-35</td>\n",
       "      <td>-1.066970e-35</td>\n",
       "      <td>3.172230e-36</td>\n",
       "      <td>-7.990629e-36</td>\n",
       "      <td>1.757548e-36</td>\n",
       "      <td>-6.606846e-36</td>\n",
       "      <td>-7.093147e-36</td>\n",
       "    </tr>\n",
       "    <tr>\n",
       "      <th>3</th>\n",
       "      <td>9</td>\n",
       "      <td>jamespatterson</td>\n",
       "      <td>2001.0</td>\n",
       "      <td>usa</td>\n",
       "      <td>34.0</td>\n",
       "      <td>fiction</td>\n",
       "      <td>-2.248257e-35</td>\n",
       "      <td>1.282254e-35</td>\n",
       "      <td>1.618739e-35</td>\n",
       "      <td>-1.077885e-35</td>\n",
       "      <td>...</td>\n",
       "      <td>-6.760812e-36</td>\n",
       "      <td>-8.619048e-37</td>\n",
       "      <td>-5.694455e-36</td>\n",
       "      <td>2.825074e-35</td>\n",
       "      <td>-9.676850e-36</td>\n",
       "      <td>2.024149e-36</td>\n",
       "      <td>-1.019590e-35</td>\n",
       "      <td>-1.454614e-35</td>\n",
       "      <td>7.187703e-36</td>\n",
       "      <td>-4.760319e-36</td>\n",
       "    </tr>\n",
       "    <tr>\n",
       "      <th>4</th>\n",
       "      <td>6</td>\n",
       "      <td>alexandermccallsmith</td>\n",
       "      <td>2002.0</td>\n",
       "      <td>usa</td>\n",
       "      <td>34.0</td>\n",
       "      <td>botswana</td>\n",
       "      <td>-2.248257e-35</td>\n",
       "      <td>1.282254e-35</td>\n",
       "      <td>1.618739e-35</td>\n",
       "      <td>-1.077885e-35</td>\n",
       "      <td>...</td>\n",
       "      <td>2.290771e-35</td>\n",
       "      <td>-5.962316e-36</td>\n",
       "      <td>3.699239e-35</td>\n",
       "      <td>2.699168e-35</td>\n",
       "      <td>1.879260e-35</td>\n",
       "      <td>-4.142673e-36</td>\n",
       "      <td>5.994246e-36</td>\n",
       "      <td>1.632059e-35</td>\n",
       "      <td>-3.537558e-36</td>\n",
       "      <td>-2.238457e-35</td>\n",
       "    </tr>\n",
       "  </tbody>\n",
       "</table>\n",
       "<p>5 rows × 70 columns</p>\n",
       "</div>"
      ],
      "text/plain": [
       "   Book-Rating           Book-Author  Year-Of-Publication Location   Age   \n",
       "0            7           raybradbury               1984.0      usa  23.0  \\\n",
       "1            8             johnokada               1978.0      usa  23.0   \n",
       "2            8           raybradbury               1976.0      usa  34.0   \n",
       "3            9        jamespatterson               2001.0      usa  34.0   \n",
       "4            6  alexandermccallsmith               2002.0      usa  34.0   \n",
       "\n",
       "    categories        0_user        1_user        2_user        3_user  ...   \n",
       "0      fiction  5.383851e-35  2.213598e-35  5.186988e-35  2.470529e-35  ...  \\\n",
       "1     japanese  5.383851e-35  2.213598e-35  5.186988e-35  2.470529e-35  ...   \n",
       "2  bookburning -2.248257e-35  1.282254e-35  1.618739e-35 -1.077885e-35  ...   \n",
       "3      fiction -2.248257e-35  1.282254e-35  1.618739e-35 -1.077885e-35  ...   \n",
       "4     botswana -2.248257e-35  1.282254e-35  1.618739e-35 -1.077885e-35  ...   \n",
       "\n",
       "        22_book       23_book       24_book       25_book       26_book   \n",
       "0  9.475914e-36 -8.186681e-36 -1.679035e-35  9.918262e-36 -2.765350e-36  \\\n",
       "1  4.005529e-35  4.530857e-35  2.558716e-35 -3.194719e-35  4.720458e-35   \n",
       "2  7.491415e-36 -1.126411e-35  2.433774e-35 -2.865133e-35 -1.066970e-35   \n",
       "3 -6.760812e-36 -8.619048e-37 -5.694455e-36  2.825074e-35 -9.676850e-36   \n",
       "4  2.290771e-35 -5.962316e-36  3.699239e-35  2.699168e-35  1.879260e-35   \n",
       "\n",
       "        27_book       28_book       29_book       30_book       31_book  \n",
       "0 -3.266017e-35  2.205530e-35 -3.903327e-36  2.279142e-35 -3.846418e-35  \n",
       "1  2.547220e-35 -2.309097e-35  4.423635e-35  5.765179e-35  2.776359e-35  \n",
       "2  3.172230e-36 -7.990629e-36  1.757548e-36 -6.606846e-36 -7.093147e-36  \n",
       "3  2.024149e-36 -1.019590e-35 -1.454614e-35  7.187703e-36 -4.760319e-36  \n",
       "4 -4.142673e-36  5.994246e-36  1.632059e-35 -3.537558e-36 -2.238457e-35  \n",
       "\n",
       "[5 rows x 70 columns]"
      ]
     },
     "execution_count": 24,
     "metadata": {},
     "output_type": "execute_result"
    }
   ],
   "source": [
    "data = pd.concat([data, user_df, book_df], axis=1)\n",
    "data.head(5)"
   ]
  },
  {
   "cell_type": "code",
   "execution_count": 31,
   "id": "025aa7b2",
   "metadata": {},
   "outputs": [],
   "source": [
    "X = data.drop(columns=['Book-Rating'])\n",
    "y = data['Book-Rating']\n",
    "cat_features = ['Book-Author', 'Location', 'categories']"
   ]
  },
  {
   "cell_type": "code",
   "execution_count": 32,
   "id": "77885d0c",
   "metadata": {},
   "outputs": [],
   "source": [
    "X_train, X_test, y_train, y_test = train_test_split(X, y, test_size=0.2, random_state=42)"
   ]
  },
  {
   "cell_type": "code",
   "execution_count": 33,
   "id": "74e3e0ed",
   "metadata": {},
   "outputs": [
    {
     "data": {
      "text/plain": [
       "<catboost.core.CatBoostRegressor at 0x23825a08af0>"
      ]
     },
     "execution_count": 33,
     "metadata": {},
     "output_type": "execute_result"
    }
   ],
   "source": [
    "model_cat_boost = CatBoostRegressor(loss_function='RMSE', random_state=42)\n",
    "model_cat_boost.fit(X_train, y_train, cat_features=cat_features, verbose=False)"
   ]
  },
  {
   "cell_type": "code",
   "execution_count": 36,
   "id": "33bea0f5",
   "metadata": {},
   "outputs": [
    {
     "data": {
      "text/plain": [
       "1.5498313095943363"
      ]
     },
     "execution_count": 36,
     "metadata": {},
     "output_type": "execute_result"
    }
   ],
   "source": [
    "predictions = model_cat_boost.predict(X_test).tolist()\n",
    "np.sqrt(mean_squared_error(y_test.tolist(), predictions))"
   ]
  },
  {
   "cell_type": "code",
   "execution_count": 37,
   "id": "752a0088",
   "metadata": {},
   "outputs": [
    {
     "data": {
      "text/plain": [
       "0.2554328207390917"
      ]
     },
     "execution_count": 37,
     "metadata": {},
     "output_type": "execute_result"
    }
   ],
   "source": [
    "r2_score(y_test.tolist(), predictions)"
   ]
  }
 ],
 "metadata": {
  "kernelspec": {
   "display_name": "Python 3 (ipykernel)",
   "language": "python",
   "name": "python3"
  },
  "language_info": {
   "codemirror_mode": {
    "name": "ipython",
    "version": 3
   },
   "file_extension": ".py",
   "mimetype": "text/x-python",
   "name": "python",
   "nbconvert_exporter": "python",
   "pygments_lexer": "ipython3",
   "version": "3.10.6"
  }
 },
 "nbformat": 4,
 "nbformat_minor": 5
}
