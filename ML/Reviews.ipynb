{
 "cells": [
  {
   "cell_type": "code",
   "execution_count": 81,
   "id": "6fa38e77-ee33-4a56-8cca-238d99b11b81",
   "metadata": {},
   "outputs": [],
   "source": [
    "# !pip install bitsandbytes accelerate"
   ]
  },
  {
   "cell_type": "code",
   "execution_count": 82,
   "id": "33902ac6-fbd7-456e-aeaf-ba25748d55dc",
   "metadata": {},
   "outputs": [],
   "source": [
    "import pandas as pd\n",
    "import numpy as np"
   ]
  },
  {
   "cell_type": "code",
   "execution_count": 84,
   "id": "3a299336-3022-4acc-a207-ce58d3c28e6d",
   "metadata": {},
   "outputs": [
    {
     "data": {
      "text/plain": [
       "device(type='cuda')"
      ]
     },
     "execution_count": 84,
     "metadata": {},
     "output_type": "execute_result"
    }
   ],
   "source": [
    "import torch\n",
    "device = torch.device('cuda' if torch.cuda.is_available() else 'cpu')\n",
    "device"
   ]
  },
  {
   "cell_type": "markdown",
   "id": "92abd719-c6b7-4627-8f4a-4d2be7980a2b",
   "metadata": {},
   "source": [
    "### Подготовка данных"
   ]
  },
  {
   "cell_type": "code",
   "execution_count": 85,
   "id": "fac1020c-0a47-47b6-ab4c-b7781e19190c",
   "metadata": {},
   "outputs": [
    {
     "data": {
      "text/html": [
       "<div>\n",
       "<style scoped>\n",
       "    .dataframe tbody tr th:only-of-type {\n",
       "        vertical-align: middle;\n",
       "    }\n",
       "\n",
       "    .dataframe tbody tr th {\n",
       "        vertical-align: top;\n",
       "    }\n",
       "\n",
       "    .dataframe thead th {\n",
       "        text-align: right;\n",
       "    }\n",
       "</style>\n",
       "<table border=\"1\" class=\"dataframe\">\n",
       "  <thead>\n",
       "    <tr style=\"text-align: right;\">\n",
       "      <th></th>\n",
       "      <th>Id</th>\n",
       "      <th>Title</th>\n",
       "      <th>Price</th>\n",
       "      <th>User_id</th>\n",
       "      <th>profileName</th>\n",
       "      <th>review/helpfulness</th>\n",
       "      <th>review/score</th>\n",
       "      <th>review/time</th>\n",
       "      <th>review/summary</th>\n",
       "      <th>review/text</th>\n",
       "    </tr>\n",
       "  </thead>\n",
       "  <tbody>\n",
       "    <tr>\n",
       "      <th>0</th>\n",
       "      <td>1882931173</td>\n",
       "      <td>Its Only Art If Its Well Hung!</td>\n",
       "      <td>NaN</td>\n",
       "      <td>AVCGYZL8FQQTD</td>\n",
       "      <td>Jim of Oz \"jim-of-oz\"</td>\n",
       "      <td>7/7</td>\n",
       "      <td>4.0</td>\n",
       "      <td>940636800</td>\n",
       "      <td>Nice collection of Julie Strain images</td>\n",
       "      <td>This is only for Julie Strain fans. It's a col...</td>\n",
       "    </tr>\n",
       "    <tr>\n",
       "      <th>1</th>\n",
       "      <td>826414346</td>\n",
       "      <td>Dr. Seuss: American Icon</td>\n",
       "      <td>NaN</td>\n",
       "      <td>A30TK6U7DNS82R</td>\n",
       "      <td>Kevin Killian</td>\n",
       "      <td>10/10</td>\n",
       "      <td>5.0</td>\n",
       "      <td>1095724800</td>\n",
       "      <td>Really Enjoyed It</td>\n",
       "      <td>I don't care much for Dr. Seuss but after read...</td>\n",
       "    </tr>\n",
       "    <tr>\n",
       "      <th>2</th>\n",
       "      <td>826414346</td>\n",
       "      <td>Dr. Seuss: American Icon</td>\n",
       "      <td>NaN</td>\n",
       "      <td>A3UH4UZ4RSVO82</td>\n",
       "      <td>John Granger</td>\n",
       "      <td>10/11</td>\n",
       "      <td>5.0</td>\n",
       "      <td>1078790400</td>\n",
       "      <td>Essential for every personal and Public Library</td>\n",
       "      <td>If people become the books they read and if \"t...</td>\n",
       "    </tr>\n",
       "  </tbody>\n",
       "</table>\n",
       "</div>"
      ],
      "text/plain": [
       "           Id                           Title  Price         User_id  \\\n",
       "0  1882931173  Its Only Art If Its Well Hung!    NaN   AVCGYZL8FQQTD   \n",
       "1   826414346        Dr. Seuss: American Icon    NaN  A30TK6U7DNS82R   \n",
       "2   826414346        Dr. Seuss: American Icon    NaN  A3UH4UZ4RSVO82   \n",
       "\n",
       "             profileName review/helpfulness  review/score  review/time  \\\n",
       "0  Jim of Oz \"jim-of-oz\"                7/7           4.0    940636800   \n",
       "1          Kevin Killian              10/10           5.0   1095724800   \n",
       "2           John Granger              10/11           5.0   1078790400   \n",
       "\n",
       "                                    review/summary  \\\n",
       "0           Nice collection of Julie Strain images   \n",
       "1                                Really Enjoyed It   \n",
       "2  Essential for every personal and Public Library   \n",
       "\n",
       "                                         review/text  \n",
       "0  This is only for Julie Strain fans. It's a col...  \n",
       "1  I don't care much for Dr. Seuss but after read...  \n",
       "2  If people become the books they read and if \"t...  "
      ]
     },
     "execution_count": 85,
     "metadata": {},
     "output_type": "execute_result"
    }
   ],
   "source": [
    "reviews_data = pd.read_csv(\"C:\\\\Users\\\\just_\\\\Downloads\\\\archive\\\\Books_rating.csv\", nrows=10)\n",
    "reviews_data.head(3)"
   ]
  },
  {
   "cell_type": "code",
   "execution_count": 86,
   "id": "862a227f-cb41-468e-8b86-e5e7bda8d1c9",
   "metadata": {},
   "outputs": [
    {
     "data": {
      "text/html": [
       "<div>\n",
       "<style scoped>\n",
       "    .dataframe tbody tr th:only-of-type {\n",
       "        vertical-align: middle;\n",
       "    }\n",
       "\n",
       "    .dataframe tbody tr th {\n",
       "        vertical-align: top;\n",
       "    }\n",
       "\n",
       "    .dataframe thead th {\n",
       "        text-align: right;\n",
       "    }\n",
       "</style>\n",
       "<table border=\"1\" class=\"dataframe\">\n",
       "  <thead>\n",
       "    <tr style=\"text-align: right;\">\n",
       "      <th></th>\n",
       "      <th>Id</th>\n",
       "      <th>review/text</th>\n",
       "    </tr>\n",
       "  </thead>\n",
       "  <tbody>\n",
       "    <tr>\n",
       "      <th>0</th>\n",
       "      <td>826414346</td>\n",
       "      <td>[Review 1: I don't care much for Dr. Seuss but...</td>\n",
       "    </tr>\n",
       "    <tr>\n",
       "      <th>1</th>\n",
       "      <td>1882931173</td>\n",
       "      <td>[Review 1: This is only for Julie Strain fans....</td>\n",
       "    </tr>\n",
       "  </tbody>\n",
       "</table>\n",
       "</div>"
      ],
      "text/plain": [
       "           Id                                        review/text\n",
       "0   826414346  [Review 1: I don't care much for Dr. Seuss but...\n",
       "1  1882931173  [Review 1: This is only for Julie Strain fans...."
      ]
     },
     "execution_count": 86,
     "metadata": {},
     "output_type": "execute_result"
    }
   ],
   "source": [
    "grouped_reviews = reviews_data.groupby('Id')['review/text'].apply(lambda x: list([f'Review {i + 1}: ' + v for i, v in enumerate(x)])).reset_index()\n",
    "grouped_reviews.head(3)"
   ]
  },
  {
   "cell_type": "code",
   "execution_count": 87,
   "id": "0632ab21-f6b3-4541-9176-39038907b038",
   "metadata": {},
   "outputs": [
    {
     "name": "stderr",
     "output_type": "stream",
     "text": [
      "Special tokens have been added in the vocabulary, make sure the associated word embeddings are fine-tuned or trained.\n"
     ]
    }
   ],
   "source": [
    "from transformers import T5Tokenizer, T5ForConditionalGeneration\n",
    "\n",
    "tokenizer = T5Tokenizer.from_pretrained('google/flan-t5-base')\n",
    "model = T5ForConditionalGeneration.from_pretrained('google/flan-t5-base')"
   ]
  },
  {
   "cell_type": "code",
   "execution_count": 88,
   "id": "96ef8689-6992-42cc-a787-5960e12c6273",
   "metadata": {},
   "outputs": [
    {
     "name": "stdout",
     "output_type": "stream",
     "text": [
      "[\"This is a collection of Julie Strain's photos, but it's not a book for everyone.\"]\n"
     ]
    }
   ],
   "source": [
    "input_text =  f\"\"\"Your task is to summarize book reviews and to exctract pros and cons. \n",
    "Example:\n",
    "Review: I didn't like this book, because it has so stupid characters. But the world in the book is great.\n",
    "Review: Amazing! It's very intersting and breathtaking.\n",
    "Review: The book is very good, plot especially. But Sam takes too much attention to him.\n",
    "Summary: Interesting plot, bad characters, great world\n",
    "\n",
    "{''.join(grouped_reviews['review/text'].iloc[1])}\n",
    "Summary:\n",
    "\"\"\"\n",
    "input_ids = tokenizer(input_text, return_tensors=\"pt\").input_ids\n",
    "\n",
    "outputs = model.generate(input_ids, \n",
    "                            max_length=1024,\n",
    "                            min_length=8,\n",
    "                            top_k=150,\n",
    "                            top_p=0.9,\n",
    "#                             num_beams=10,o\n",
    "#                             no_repeat_ngram_size=3,\n",
    "                            temperature=0.2,\n",
    "#                             repetition_penalty=2.1,\n",
    "                            do_sample=True\n",
    ")\n",
    "print(tokenizer.batch_decode(outputs, skip_special_tokens=True))"
   ]
  },
  {
   "cell_type": "code",
   "execution_count": 89,
   "id": "fb4f2a39-36bb-478c-bd26-2af35c5527e8",
   "metadata": {},
   "outputs": [
    {
     "name": "stdout",
     "output_type": "stream",
     "text": [
      "Your task is to summarize book reviews and to exctract pros and cons. \n",
      "Example:\n",
      "Review: I didn't like this book, because it has so stupid characters. But the world in the book is great.\n",
      "Review: Amazing! It's very intersting and breathtaking.\n",
      "Review: The book is very good, plot especially. But Sam takes too much attention to him.\n",
      "Summary: Interesting plot, bad characters, great world\n",
      "\n",
      "Review 1: This is only for Julie Strain fans. It's a collection of her photos -- about 80 pages worth with a nice section of paintings by Olivia.If you're looking for heavy literary content, this isn't the place to find it -- there's only about 2 pages with text and everything else is photos.Bottom line: if you only want one book, the Six Foot One ... is probably a better choice, however, if you like Julie like I like Julie, you won't go wrong on this one either.\n",
      "Summary:\n",
      "\n"
     ]
    }
   ],
   "source": [
    "print(input_text)"
   ]
  },
  {
   "cell_type": "code",
   "execution_count": 90,
   "id": "a090ca10-15a5-425c-90eb-5b3a88cdd1ed",
   "metadata": {},
   "outputs": [],
   "source": [
    "from transformers import pipeline\n",
    "summarizer = pipeline(\"summarization\", model=\"knkarthick/MEETING_SUMMARY\", )"
   ]
  },
  {
   "cell_type": "code",
   "execution_count": 94,
   "id": "b4f3b6bf-74d5-4c5f-b796-8afcfd780c3b",
   "metadata": {},
   "outputs": [
    {
     "data": {
      "text/plain": [
       "[{'summary_text': \"Julie Strain fans will enjoy this book. It's a collection of her photos with paintings by Olivia.\"}]"
      ]
     },
     "execution_count": 94,
     "metadata": {},
     "output_type": "execute_result"
    }
   ],
   "source": [
    "input_text =  f\"\"\"\n",
    "{''.join(grouped_reviews['review/text'].iloc[1])[:1024]}\n",
    "\"\"\"\n",
    "summarizer(input_text)"
   ]
  },
  {
   "cell_type": "code",
   "execution_count": null,
   "id": "d9021fd8-788b-41e5-993c-52ddfdcb7eef",
   "metadata": {},
   "outputs": [],
   "source": []
  }
 ],
 "metadata": {
  "kernelspec": {
   "display_name": "Python 3 (ipykernel)",
   "language": "python",
   "name": "python3"
  },
  "language_info": {
   "codemirror_mode": {
    "name": "ipython",
    "version": 3
   },
   "file_extension": ".py",
   "mimetype": "text/x-python",
   "name": "python",
   "nbconvert_exporter": "python",
   "pygments_lexer": "ipython3",
   "version": "3.11.5"
  }
 },
 "nbformat": 4,
 "nbformat_minor": 5
}
