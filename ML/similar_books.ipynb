{
 "cells": [
  {
   "cell_type": "code",
   "execution_count": 1,
   "id": "1df460ce",
   "metadata": {},
   "outputs": [],
   "source": [
    "import pandas as pd\n",
    "from gensim.models import Word2Vec\n",
    "from annoy import AnnoyIndex\n",
    "from sklearn.preprocessing import MinMaxScaler"
   ]
  },
  {
   "cell_type": "code",
   "execution_count": 2,
   "id": "fbff1399",
   "metadata": {},
   "outputs": [
    {
     "data": {
      "text/html": [
       "<div>\n",
       "<style scoped>\n",
       "    .dataframe tbody tr th:only-of-type {\n",
       "        vertical-align: middle;\n",
       "    }\n",
       "\n",
       "    .dataframe tbody tr th {\n",
       "        vertical-align: top;\n",
       "    }\n",
       "\n",
       "    .dataframe thead th {\n",
       "        text-align: right;\n",
       "    }\n",
       "</style>\n",
       "<table border=\"1\" class=\"dataframe\">\n",
       "  <thead>\n",
       "    <tr style=\"text-align: right;\">\n",
       "      <th></th>\n",
       "      <th>title</th>\n",
       "      <th>Book-Author</th>\n",
       "      <th>Year-Of-Publication</th>\n",
       "      <th>categories</th>\n",
       "    </tr>\n",
       "  </thead>\n",
       "  <tbody>\n",
       "    <tr>\n",
       "      <th>0</th>\n",
       "      <td>themartianchronicles</td>\n",
       "      <td>raybradbury</td>\n",
       "      <td>1984.0</td>\n",
       "      <td>fiction</td>\n",
       "    </tr>\n",
       "    <tr>\n",
       "      <th>1</th>\n",
       "      <td>nonoboy</td>\n",
       "      <td>johnokada</td>\n",
       "      <td>1978.0</td>\n",
       "      <td>japanese</td>\n",
       "    </tr>\n",
       "    <tr>\n",
       "      <th>2</th>\n",
       "      <td>fahrenheit451</td>\n",
       "      <td>raybradbury</td>\n",
       "      <td>1976.0</td>\n",
       "      <td>bookburning</td>\n",
       "    </tr>\n",
       "    <tr>\n",
       "      <th>3</th>\n",
       "      <td>1sttodieanovel</td>\n",
       "      <td>jamespatterson</td>\n",
       "      <td>2001.0</td>\n",
       "      <td>fiction</td>\n",
       "    </tr>\n",
       "    <tr>\n",
       "      <th>4</th>\n",
       "      <td>theno1ladiesdetectiveagency</td>\n",
       "      <td>alexandermccallsmith</td>\n",
       "      <td>2002.0</td>\n",
       "      <td>botswana</td>\n",
       "    </tr>\n",
       "  </tbody>\n",
       "</table>\n",
       "</div>"
      ],
      "text/plain": [
       "                         title           Book-Author  Year-Of-Publication   \n",
       "0         themartianchronicles           raybradbury               1984.0  \\\n",
       "1                      nonoboy             johnokada               1978.0   \n",
       "2                fahrenheit451           raybradbury               1976.0   \n",
       "3               1sttodieanovel        jamespatterson               2001.0   \n",
       "4  theno1ladiesdetectiveagency  alexandermccallsmith               2002.0   \n",
       "\n",
       "    categories  \n",
       "0      fiction  \n",
       "1     japanese  \n",
       "2  bookburning  \n",
       "3      fiction  \n",
       "4     botswana  "
      ]
     },
     "execution_count": 2,
     "metadata": {},
     "output_type": "execute_result"
    }
   ],
   "source": [
    "books_data = pd.read_csv('D:/2_course/recomendational_system/new_term_new_life_new_project/data/books_data.csv')\n",
    "books_data.head(5)"
   ]
  },
  {
   "cell_type": "code",
   "execution_count": 3,
   "id": "804f6f48",
   "metadata": {},
   "outputs": [],
   "source": [
    "old_books_data = books_data.copy()"
   ]
  },
  {
   "cell_type": "code",
   "execution_count": 4,
   "id": "f58d5153",
   "metadata": {},
   "outputs": [],
   "source": [
    "old_books = books_data['Year-Of-Publication'].quantile(0.25)\n",
    "new_books = books_data['Year-Of-Publication'].quantile(0.75)"
   ]
  },
  {
   "cell_type": "code",
   "execution_count": 5,
   "id": "4a46f2bd",
   "metadata": {},
   "outputs": [],
   "source": [
    "word2vec_data = books_data.copy()"
   ]
  },
  {
   "cell_type": "code",
   "execution_count": 6,
   "id": "27c935c9",
   "metadata": {},
   "outputs": [],
   "source": [
    "word2vec_data.loc[word2vec_data['Year-Of-Publication'] <= old_books, 'Age'] = 'old'\n",
    "word2vec_data.loc[word2vec_data['Year-Of-Publication'] >= new_books, 'Age'] = 'new'\n",
    "word2vec_data.loc[(word2vec_data['Year-Of-Publication'] > old_books) & (word2vec_data['Year-Of-Publication'] < new_books), 'Age'] = 'medium'"
   ]
  },
  {
   "cell_type": "code",
   "execution_count": 7,
   "id": "87f326a6",
   "metadata": {},
   "outputs": [
    {
     "data": {
      "text/html": [
       "<div>\n",
       "<style scoped>\n",
       "    .dataframe tbody tr th:only-of-type {\n",
       "        vertical-align: middle;\n",
       "    }\n",
       "\n",
       "    .dataframe tbody tr th {\n",
       "        vertical-align: top;\n",
       "    }\n",
       "\n",
       "    .dataframe thead th {\n",
       "        text-align: right;\n",
       "    }\n",
       "</style>\n",
       "<table border=\"1\" class=\"dataframe\">\n",
       "  <thead>\n",
       "    <tr style=\"text-align: right;\">\n",
       "      <th></th>\n",
       "      <th>title</th>\n",
       "      <th>Book-Author</th>\n",
       "      <th>categories</th>\n",
       "      <th>Age</th>\n",
       "    </tr>\n",
       "  </thead>\n",
       "  <tbody>\n",
       "    <tr>\n",
       "      <th>0</th>\n",
       "      <td>themartianchronicles</td>\n",
       "      <td>raybradbury</td>\n",
       "      <td>fiction</td>\n",
       "      <td>old</td>\n",
       "    </tr>\n",
       "    <tr>\n",
       "      <th>1</th>\n",
       "      <td>nonoboy</td>\n",
       "      <td>johnokada</td>\n",
       "      <td>japanese</td>\n",
       "      <td>old</td>\n",
       "    </tr>\n",
       "    <tr>\n",
       "      <th>2</th>\n",
       "      <td>fahrenheit451</td>\n",
       "      <td>raybradbury</td>\n",
       "      <td>bookburning</td>\n",
       "      <td>old</td>\n",
       "    </tr>\n",
       "    <tr>\n",
       "      <th>3</th>\n",
       "      <td>1sttodieanovel</td>\n",
       "      <td>jamespatterson</td>\n",
       "      <td>fiction</td>\n",
       "      <td>new</td>\n",
       "    </tr>\n",
       "    <tr>\n",
       "      <th>4</th>\n",
       "      <td>theno1ladiesdetectiveagency</td>\n",
       "      <td>alexandermccallsmith</td>\n",
       "      <td>botswana</td>\n",
       "      <td>new</td>\n",
       "    </tr>\n",
       "  </tbody>\n",
       "</table>\n",
       "</div>"
      ],
      "text/plain": [
       "                         title           Book-Author   categories  Age\n",
       "0         themartianchronicles           raybradbury      fiction  old\n",
       "1                      nonoboy             johnokada     japanese  old\n",
       "2                fahrenheit451           raybradbury  bookburning  old\n",
       "3               1sttodieanovel        jamespatterson      fiction  new\n",
       "4  theno1ladiesdetectiveagency  alexandermccallsmith     botswana  new"
      ]
     },
     "execution_count": 7,
     "metadata": {},
     "output_type": "execute_result"
    }
   ],
   "source": [
    "word2vec_data = word2vec_data.drop(columns=['Year-Of-Publication'], axis=1)\n",
    "word2vec_data.head(5)"
   ]
  },
  {
   "cell_type": "code",
   "execution_count": 8,
   "id": "5d71da32",
   "metadata": {},
   "outputs": [],
   "source": [
    "tokens = [list(row) for index, row in word2vec_data.iterrows()]"
   ]
  },
  {
   "cell_type": "code",
   "execution_count": 9,
   "id": "a9fa3376",
   "metadata": {},
   "outputs": [],
   "source": [
    "vectorSize = 5\n",
    "embedding_model = Word2Vec(tokens, vector_size=vectorSize, workers=6, min_count=1)"
   ]
  },
  {
   "cell_type": "code",
   "execution_count": 10,
   "id": "c0ea781e",
   "metadata": {},
   "outputs": [],
   "source": [
    "books_data['categories'] = books_data['categories'].apply(lambda x: embedding_model.wv[x])\n",
    "books_data['Book-Author'] = books_data['Book-Author'].apply(lambda x: embedding_model.wv[x])\n",
    "books_data['title'] = books_data['title'].apply(lambda x: embedding_model.wv[x])"
   ]
  },
  {
   "cell_type": "code",
   "execution_count": 11,
   "id": "809a89b9",
   "metadata": {},
   "outputs": [
    {
     "data": {
      "text/html": [
       "<div>\n",
       "<style scoped>\n",
       "    .dataframe tbody tr th:only-of-type {\n",
       "        vertical-align: middle;\n",
       "    }\n",
       "\n",
       "    .dataframe tbody tr th {\n",
       "        vertical-align: top;\n",
       "    }\n",
       "\n",
       "    .dataframe thead th {\n",
       "        text-align: right;\n",
       "    }\n",
       "</style>\n",
       "<table border=\"1\" class=\"dataframe\">\n",
       "  <thead>\n",
       "    <tr style=\"text-align: right;\">\n",
       "      <th></th>\n",
       "      <th>title</th>\n",
       "      <th>Book-Author</th>\n",
       "      <th>Year-Of-Publication</th>\n",
       "      <th>categories</th>\n",
       "    </tr>\n",
       "  </thead>\n",
       "  <tbody>\n",
       "    <tr>\n",
       "      <th>0</th>\n",
       "      <td>[-0.1589609, -0.12047824, 0.105400525, 0.20482...</td>\n",
       "      <td>[0.20753618, 0.15359612, 0.15577872, 0.1535045...</td>\n",
       "      <td>0.634921</td>\n",
       "      <td>[0.365427, 1.7963643, 1.9628439, -1.1997832, -...</td>\n",
       "    </tr>\n",
       "    <tr>\n",
       "      <th>1</th>\n",
       "      <td>[0.15081216, -0.08867208, 0.18637246, 0.039561...</td>\n",
       "      <td>[0.035992485, -0.051977538, -0.0811907, -0.022...</td>\n",
       "      <td>0.587302</td>\n",
       "      <td>[0.081445545, 0.03007207, -0.08950874, -0.0727...</td>\n",
       "    </tr>\n",
       "    <tr>\n",
       "      <th>2</th>\n",
       "      <td>[0.0885797, 0.12104141, 0.201732, -0.13435763,...</td>\n",
       "      <td>[0.20753618, 0.15359612, 0.15577872, 0.1535045...</td>\n",
       "      <td>0.571429</td>\n",
       "      <td>[0.095903516, 0.011547155, 0.14294764, 0.05322...</td>\n",
       "    </tr>\n",
       "    <tr>\n",
       "      <th>3</th>\n",
       "      <td>[0.04621587, -0.100881785, 0.18313536, 0.02327...</td>\n",
       "      <td>[-0.017149108, -0.09995801, -0.007233374, -0.1...</td>\n",
       "      <td>0.769841</td>\n",
       "      <td>[0.365427, 1.7963643, 1.9628439, -1.1997832, -...</td>\n",
       "    </tr>\n",
       "    <tr>\n",
       "      <th>4</th>\n",
       "      <td>[0.17594343, -0.09071953, 0.0020906762, -0.011...</td>\n",
       "      <td>[-0.028140398, 0.09627315, -0.008315163, -0.11...</td>\n",
       "      <td>0.777778</td>\n",
       "      <td>[-0.012512286, 0.12762418, -0.098618105, 0.064...</td>\n",
       "    </tr>\n",
       "  </tbody>\n",
       "</table>\n",
       "</div>"
      ],
      "text/plain": [
       "                                               title   \n",
       "0  [-0.1589609, -0.12047824, 0.105400525, 0.20482...  \\\n",
       "1  [0.15081216, -0.08867208, 0.18637246, 0.039561...   \n",
       "2  [0.0885797, 0.12104141, 0.201732, -0.13435763,...   \n",
       "3  [0.04621587, -0.100881785, 0.18313536, 0.02327...   \n",
       "4  [0.17594343, -0.09071953, 0.0020906762, -0.011...   \n",
       "\n",
       "                                         Book-Author  Year-Of-Publication   \n",
       "0  [0.20753618, 0.15359612, 0.15577872, 0.1535045...             0.634921  \\\n",
       "1  [0.035992485, -0.051977538, -0.0811907, -0.022...             0.587302   \n",
       "2  [0.20753618, 0.15359612, 0.15577872, 0.1535045...             0.571429   \n",
       "3  [-0.017149108, -0.09995801, -0.007233374, -0.1...             0.769841   \n",
       "4  [-0.028140398, 0.09627315, -0.008315163, -0.11...             0.777778   \n",
       "\n",
       "                                          categories  \n",
       "0  [0.365427, 1.7963643, 1.9628439, -1.1997832, -...  \n",
       "1  [0.081445545, 0.03007207, -0.08950874, -0.0727...  \n",
       "2  [0.095903516, 0.011547155, 0.14294764, 0.05322...  \n",
       "3  [0.365427, 1.7963643, 1.9628439, -1.1997832, -...  \n",
       "4  [-0.012512286, 0.12762418, -0.098618105, 0.064...  "
      ]
     },
     "execution_count": 11,
     "metadata": {},
     "output_type": "execute_result"
    }
   ],
   "source": [
    "scaler = MinMaxScaler()\n",
    "scaler.fit(books_data[['Year-Of-Publication']])\n",
    "books_data['Year-Of-Publication'] = scaler.transform(books_data[['Year-Of-Publication']])\n",
    "books_data.head(5)"
   ]
  },
  {
   "cell_type": "code",
   "execution_count": 12,
   "id": "116b9ce0",
   "metadata": {},
   "outputs": [],
   "source": [
    "def func(column, vector_size):\n",
    "    split = pd.DataFrame(books_data[column].apply(pd.Series))\n",
    "    split_columns = []\n",
    "    for i in range(vector_size):\n",
    "        split_columns.append(column + str(i))\n",
    "    split.columns = split_columns\n",
    "    return split"
   ]
  },
  {
   "cell_type": "code",
   "execution_count": 13,
   "id": "abe5d403",
   "metadata": {},
   "outputs": [
    {
     "data": {
      "text/html": [
       "<div>\n",
       "<style scoped>\n",
       "    .dataframe tbody tr th:only-of-type {\n",
       "        vertical-align: middle;\n",
       "    }\n",
       "\n",
       "    .dataframe tbody tr th {\n",
       "        vertical-align: top;\n",
       "    }\n",
       "\n",
       "    .dataframe thead th {\n",
       "        text-align: right;\n",
       "    }\n",
       "</style>\n",
       "<table border=\"1\" class=\"dataframe\">\n",
       "  <thead>\n",
       "    <tr style=\"text-align: right;\">\n",
       "      <th></th>\n",
       "      <th>title0</th>\n",
       "      <th>title1</th>\n",
       "      <th>title2</th>\n",
       "      <th>title3</th>\n",
       "      <th>title4</th>\n",
       "      <th>Book-Author0</th>\n",
       "      <th>Book-Author1</th>\n",
       "      <th>Book-Author2</th>\n",
       "      <th>Book-Author3</th>\n",
       "      <th>Book-Author4</th>\n",
       "      <th>categories0</th>\n",
       "      <th>categories1</th>\n",
       "      <th>categories2</th>\n",
       "      <th>categories3</th>\n",
       "      <th>categories4</th>\n",
       "      <th>Year-Of-Publication</th>\n",
       "    </tr>\n",
       "  </thead>\n",
       "  <tbody>\n",
       "    <tr>\n",
       "      <th>0</th>\n",
       "      <td>-0.158961</td>\n",
       "      <td>-0.120478</td>\n",
       "      <td>0.105401</td>\n",
       "      <td>0.204827</td>\n",
       "      <td>0.078647</td>\n",
       "      <td>0.207536</td>\n",
       "      <td>0.153596</td>\n",
       "      <td>0.155779</td>\n",
       "      <td>0.153505</td>\n",
       "      <td>-0.244842</td>\n",
       "      <td>0.365427</td>\n",
       "      <td>1.796364</td>\n",
       "      <td>1.962844</td>\n",
       "      <td>-1.199783</td>\n",
       "      <td>-1.459167</td>\n",
       "      <td>0.634921</td>\n",
       "    </tr>\n",
       "    <tr>\n",
       "      <th>1</th>\n",
       "      <td>0.150812</td>\n",
       "      <td>-0.088672</td>\n",
       "      <td>0.186372</td>\n",
       "      <td>0.039562</td>\n",
       "      <td>-0.112990</td>\n",
       "      <td>0.035992</td>\n",
       "      <td>-0.051978</td>\n",
       "      <td>-0.081191</td>\n",
       "      <td>-0.022568</td>\n",
       "      <td>-0.094587</td>\n",
       "      <td>0.081446</td>\n",
       "      <td>0.030072</td>\n",
       "      <td>-0.089509</td>\n",
       "      <td>-0.072790</td>\n",
       "      <td>-0.209239</td>\n",
       "      <td>0.587302</td>\n",
       "    </tr>\n",
       "    <tr>\n",
       "      <th>2</th>\n",
       "      <td>0.088580</td>\n",
       "      <td>0.121041</td>\n",
       "      <td>0.201732</td>\n",
       "      <td>-0.134358</td>\n",
       "      <td>-0.137923</td>\n",
       "      <td>0.207536</td>\n",
       "      <td>0.153596</td>\n",
       "      <td>0.155779</td>\n",
       "      <td>0.153505</td>\n",
       "      <td>-0.244842</td>\n",
       "      <td>0.095904</td>\n",
       "      <td>0.011547</td>\n",
       "      <td>0.142948</td>\n",
       "      <td>0.053226</td>\n",
       "      <td>0.076690</td>\n",
       "      <td>0.571429</td>\n",
       "    </tr>\n",
       "    <tr>\n",
       "      <th>3</th>\n",
       "      <td>0.046216</td>\n",
       "      <td>-0.100882</td>\n",
       "      <td>0.183135</td>\n",
       "      <td>0.023275</td>\n",
       "      <td>-0.183189</td>\n",
       "      <td>-0.017149</td>\n",
       "      <td>-0.099958</td>\n",
       "      <td>-0.007233</td>\n",
       "      <td>-0.149294</td>\n",
       "      <td>0.034346</td>\n",
       "      <td>0.365427</td>\n",
       "      <td>1.796364</td>\n",
       "      <td>1.962844</td>\n",
       "      <td>-1.199783</td>\n",
       "      <td>-1.459167</td>\n",
       "      <td>0.769841</td>\n",
       "    </tr>\n",
       "    <tr>\n",
       "      <th>4</th>\n",
       "      <td>0.175943</td>\n",
       "      <td>-0.090720</td>\n",
       "      <td>0.002091</td>\n",
       "      <td>-0.011578</td>\n",
       "      <td>0.127756</td>\n",
       "      <td>-0.028140</td>\n",
       "      <td>0.096273</td>\n",
       "      <td>-0.008315</td>\n",
       "      <td>-0.111623</td>\n",
       "      <td>0.059503</td>\n",
       "      <td>-0.012512</td>\n",
       "      <td>0.127624</td>\n",
       "      <td>-0.098618</td>\n",
       "      <td>0.064544</td>\n",
       "      <td>-0.088841</td>\n",
       "      <td>0.777778</td>\n",
       "    </tr>\n",
       "  </tbody>\n",
       "</table>\n",
       "</div>"
      ],
      "text/plain": [
       "     title0    title1    title2    title3    title4  Book-Author0   \n",
       "0 -0.158961 -0.120478  0.105401  0.204827  0.078647      0.207536  \\\n",
       "1  0.150812 -0.088672  0.186372  0.039562 -0.112990      0.035992   \n",
       "2  0.088580  0.121041  0.201732 -0.134358 -0.137923      0.207536   \n",
       "3  0.046216 -0.100882  0.183135  0.023275 -0.183189     -0.017149   \n",
       "4  0.175943 -0.090720  0.002091 -0.011578  0.127756     -0.028140   \n",
       "\n",
       "   Book-Author1  Book-Author2  Book-Author3  Book-Author4  categories0   \n",
       "0      0.153596      0.155779      0.153505     -0.244842     0.365427  \\\n",
       "1     -0.051978     -0.081191     -0.022568     -0.094587     0.081446   \n",
       "2      0.153596      0.155779      0.153505     -0.244842     0.095904   \n",
       "3     -0.099958     -0.007233     -0.149294      0.034346     0.365427   \n",
       "4      0.096273     -0.008315     -0.111623      0.059503    -0.012512   \n",
       "\n",
       "   categories1  categories2  categories3  categories4  Year-Of-Publication  \n",
       "0     1.796364     1.962844    -1.199783    -1.459167             0.634921  \n",
       "1     0.030072    -0.089509    -0.072790    -0.209239             0.587302  \n",
       "2     0.011547     0.142948     0.053226     0.076690             0.571429  \n",
       "3     1.796364     1.962844    -1.199783    -1.459167             0.769841  \n",
       "4     0.127624    -0.098618     0.064544    -0.088841             0.777778  "
      ]
     },
     "execution_count": 13,
     "metadata": {},
     "output_type": "execute_result"
    }
   ],
   "source": [
    "annoy_data = pd.concat([func('title', vectorSize), func('Book-Author', vectorSize), func('categories', vectorSize), books_data['Year-Of-Publication']], axis=1)\n",
    "annoy_data.head(5)"
   ]
  },
  {
   "cell_type": "code",
   "execution_count": 14,
   "id": "f10a0b63",
   "metadata": {},
   "outputs": [],
   "source": [
    "annoy_index = AnnoyIndex(16, 'euclidean')\n",
    "for index, row in annoy_data.iterrows():\n",
    "    annoy_index.add_item(index, list(row))"
   ]
  },
  {
   "cell_type": "code",
   "execution_count": 15,
   "id": "108d534d",
   "metadata": {},
   "outputs": [
    {
     "data": {
      "text/plain": [
       "True"
      ]
     },
     "execution_count": 15,
     "metadata": {},
     "output_type": "execute_result"
    }
   ],
   "source": [
    "annoy_index.build(30)"
   ]
  },
  {
   "cell_type": "code",
   "execution_count": 16,
   "id": "5c3c78a6",
   "metadata": {},
   "outputs": [
    {
     "data": {
      "text/plain": [
       "[15152, 8492, 4357, 13425, 13147]"
      ]
     },
     "execution_count": 16,
     "metadata": {},
     "output_type": "execute_result"
    }
   ],
   "source": [
    "annoy_index.get_nns_by_item(2, 6)[1:]"
   ]
  }
 ],
 "metadata": {
  "kernelspec": {
   "display_name": "Python 3 (ipykernel)",
   "language": "python",
   "name": "python3"
  },
  "language_info": {
   "codemirror_mode": {
    "name": "ipython",
    "version": 3
   },
   "file_extension": ".py",
   "mimetype": "text/x-python",
   "name": "python",
   "nbconvert_exporter": "python",
   "pygments_lexer": "ipython3",
   "version": "3.10.6"
  }
 },
 "nbformat": 4,
 "nbformat_minor": 5
}
