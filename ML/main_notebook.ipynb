{
 "cells": [
  {
   "cell_type": "code",
   "execution_count": 37,
   "id": "c9ee78e1",
   "metadata": {},
   "outputs": [],
   "source": [
    "import pandas as pd\n",
    "import numpy as np\n",
    "from sklearn.preprocessing import LabelEncoder\n",
    "from sklearn.model_selection import train_test_split\n",
    "from sklearn.metrics import mean_squared_error\n",
    "from sklearn.metrics import r2_score\n",
    "from tensorflow import keras\n",
    "from tensorflow import math\n",
    "from catboost import CatBoostRegressor\n",
    "from catboost import Pool\n",
    "from catboost import cv"
   ]
  },
  {
   "cell_type": "code",
   "execution_count": 3,
   "id": "385aadbe",
   "metadata": {},
   "outputs": [
    {
     "data": {
      "text/html": [
       "<div>\n",
       "<style scoped>\n",
       "    .dataframe tbody tr th:only-of-type {\n",
       "        vertical-align: middle;\n",
       "    }\n",
       "\n",
       "    .dataframe tbody tr th {\n",
       "        vertical-align: top;\n",
       "    }\n",
       "\n",
       "    .dataframe thead th {\n",
       "        text-align: right;\n",
       "    }\n",
       "</style>\n",
       "<table border=\"1\" class=\"dataframe\">\n",
       "  <thead>\n",
       "    <tr style=\"text-align: right;\">\n",
       "      <th></th>\n",
       "      <th>User-ID</th>\n",
       "      <th>Book-Rating</th>\n",
       "      <th>Book-Author</th>\n",
       "      <th>Year-Of-Publication</th>\n",
       "      <th>Location</th>\n",
       "      <th>Age</th>\n",
       "      <th>raw_title</th>\n",
       "      <th>categories</th>\n",
       "    </tr>\n",
       "  </thead>\n",
       "  <tbody>\n",
       "    <tr>\n",
       "      <th>0</th>\n",
       "      <td>2313</td>\n",
       "      <td>7</td>\n",
       "      <td>raybradbury</td>\n",
       "      <td>1984.0</td>\n",
       "      <td>usa</td>\n",
       "      <td>23.0</td>\n",
       "      <td>themartianchronicles</td>\n",
       "      <td>fiction</td>\n",
       "    </tr>\n",
       "    <tr>\n",
       "      <th>1</th>\n",
       "      <td>2313</td>\n",
       "      <td>8</td>\n",
       "      <td>johnokada</td>\n",
       "      <td>1978.0</td>\n",
       "      <td>usa</td>\n",
       "      <td>23.0</td>\n",
       "      <td>nonoboy</td>\n",
       "      <td>japanese</td>\n",
       "    </tr>\n",
       "    <tr>\n",
       "      <th>2</th>\n",
       "      <td>6543</td>\n",
       "      <td>8</td>\n",
       "      <td>raybradbury</td>\n",
       "      <td>1976.0</td>\n",
       "      <td>usa</td>\n",
       "      <td>34.0</td>\n",
       "      <td>fahrenheit451</td>\n",
       "      <td>bookburning</td>\n",
       "    </tr>\n",
       "    <tr>\n",
       "      <th>3</th>\n",
       "      <td>6543</td>\n",
       "      <td>9</td>\n",
       "      <td>jamespatterson</td>\n",
       "      <td>2001.0</td>\n",
       "      <td>usa</td>\n",
       "      <td>34.0</td>\n",
       "      <td>1sttodieanovel</td>\n",
       "      <td>fiction</td>\n",
       "    </tr>\n",
       "    <tr>\n",
       "      <th>4</th>\n",
       "      <td>6543</td>\n",
       "      <td>6</td>\n",
       "      <td>alexandermccallsmith</td>\n",
       "      <td>2002.0</td>\n",
       "      <td>usa</td>\n",
       "      <td>34.0</td>\n",
       "      <td>theno1ladiesdetectiveagency</td>\n",
       "      <td>botswana</td>\n",
       "    </tr>\n",
       "  </tbody>\n",
       "</table>\n",
       "</div>"
      ],
      "text/plain": [
       "   User-ID  Book-Rating           Book-Author  Year-Of-Publication Location   \n",
       "0     2313            7           raybradbury               1984.0      usa  \\\n",
       "1     2313            8             johnokada               1978.0      usa   \n",
       "2     6543            8           raybradbury               1976.0      usa   \n",
       "3     6543            9        jamespatterson               2001.0      usa   \n",
       "4     6543            6  alexandermccallsmith               2002.0      usa   \n",
       "\n",
       "    Age                    raw_title   categories  \n",
       "0  23.0         themartianchronicles      fiction  \n",
       "1  23.0                      nonoboy     japanese  \n",
       "2  34.0                fahrenheit451  bookburning  \n",
       "3  34.0               1sttodieanovel      fiction  \n",
       "4  34.0  theno1ladiesdetectiveagency     botswana  "
      ]
     },
     "execution_count": 3,
     "metadata": {},
     "output_type": "execute_result"
    }
   ],
   "source": [
    "data = pd.read_csv('data/preprocessed_data.csv')\n",
    "data.head(5)"
   ]
  },
  {
   "cell_type": "code",
   "execution_count": 4,
   "id": "ae410ce6",
   "metadata": {},
   "outputs": [
    {
     "data": {
      "text/html": [
       "<div>\n",
       "<style scoped>\n",
       "    .dataframe tbody tr th:only-of-type {\n",
       "        vertical-align: middle;\n",
       "    }\n",
       "\n",
       "    .dataframe tbody tr th {\n",
       "        vertical-align: top;\n",
       "    }\n",
       "\n",
       "    .dataframe thead th {\n",
       "        text-align: right;\n",
       "    }\n",
       "</style>\n",
       "<table border=\"1\" class=\"dataframe\">\n",
       "  <thead>\n",
       "    <tr style=\"text-align: right;\">\n",
       "      <th></th>\n",
       "      <th>user_id</th>\n",
       "      <th>book_rating</th>\n",
       "      <th>book_author</th>\n",
       "      <th>year_of_publication</th>\n",
       "      <th>location</th>\n",
       "      <th>age</th>\n",
       "      <th>book_id</th>\n",
       "      <th>category</th>\n",
       "    </tr>\n",
       "  </thead>\n",
       "  <tbody>\n",
       "    <tr>\n",
       "      <th>0</th>\n",
       "      <td>2313</td>\n",
       "      <td>7</td>\n",
       "      <td>raybradbury</td>\n",
       "      <td>1984.0</td>\n",
       "      <td>usa</td>\n",
       "      <td>23.0</td>\n",
       "      <td>themartianchronicles</td>\n",
       "      <td>fiction</td>\n",
       "    </tr>\n",
       "    <tr>\n",
       "      <th>1</th>\n",
       "      <td>2313</td>\n",
       "      <td>8</td>\n",
       "      <td>johnokada</td>\n",
       "      <td>1978.0</td>\n",
       "      <td>usa</td>\n",
       "      <td>23.0</td>\n",
       "      <td>nonoboy</td>\n",
       "      <td>japanese</td>\n",
       "    </tr>\n",
       "    <tr>\n",
       "      <th>2</th>\n",
       "      <td>6543</td>\n",
       "      <td>8</td>\n",
       "      <td>raybradbury</td>\n",
       "      <td>1976.0</td>\n",
       "      <td>usa</td>\n",
       "      <td>34.0</td>\n",
       "      <td>fahrenheit451</td>\n",
       "      <td>bookburning</td>\n",
       "    </tr>\n",
       "    <tr>\n",
       "      <th>3</th>\n",
       "      <td>6543</td>\n",
       "      <td>9</td>\n",
       "      <td>jamespatterson</td>\n",
       "      <td>2001.0</td>\n",
       "      <td>usa</td>\n",
       "      <td>34.0</td>\n",
       "      <td>1sttodieanovel</td>\n",
       "      <td>fiction</td>\n",
       "    </tr>\n",
       "    <tr>\n",
       "      <th>4</th>\n",
       "      <td>6543</td>\n",
       "      <td>6</td>\n",
       "      <td>alexandermccallsmith</td>\n",
       "      <td>2002.0</td>\n",
       "      <td>usa</td>\n",
       "      <td>34.0</td>\n",
       "      <td>theno1ladiesdetectiveagency</td>\n",
       "      <td>botswana</td>\n",
       "    </tr>\n",
       "  </tbody>\n",
       "</table>\n",
       "</div>"
      ],
      "text/plain": [
       "   user_id  book_rating           book_author  year_of_publication location   \n",
       "0     2313            7           raybradbury               1984.0      usa  \\\n",
       "1     2313            8             johnokada               1978.0      usa   \n",
       "2     6543            8           raybradbury               1976.0      usa   \n",
       "3     6543            9        jamespatterson               2001.0      usa   \n",
       "4     6543            6  alexandermccallsmith               2002.0      usa   \n",
       "\n",
       "    age                      book_id     category  \n",
       "0  23.0         themartianchronicles      fiction  \n",
       "1  23.0                      nonoboy     japanese  \n",
       "2  34.0                fahrenheit451  bookburning  \n",
       "3  34.0               1sttodieanovel      fiction  \n",
       "4  34.0  theno1ladiesdetectiveagency     botswana  "
      ]
     },
     "execution_count": 4,
     "metadata": {},
     "output_type": "execute_result"
    }
   ],
   "source": [
    "data = data.rename(columns={'User-ID': 'user_id', 'Location': 'location', 'Age': 'age', 'raw_title': 'book_id', 'Book-Author': 'book_author', 'Year-Of-Publication': 'year_of_publication', 'categories': 'category', 'Book-Rating': 'book_rating'})\n",
    "data.head(5)"
   ]
  },
  {
   "cell_type": "code",
   "execution_count": 5,
   "id": "27212a11",
   "metadata": {},
   "outputs": [
    {
     "data": {
      "text/plain": [
       "user_id                    0\n",
       "book_rating                0\n",
       "book_author                0\n",
       "year_of_publication       38\n",
       "location                   0\n",
       "age                    21675\n",
       "book_id                    0\n",
       "category                   0\n",
       "dtype: int64"
      ]
     },
     "execution_count": 5,
     "metadata": {},
     "output_type": "execute_result"
    }
   ],
   "source": [
    "data.isna().sum()"
   ]
  },
  {
   "cell_type": "code",
   "execution_count": 6,
   "id": "d0d1e80a",
   "metadata": {},
   "outputs": [],
   "source": [
    "data['age'] = data['age'].fillna(data['age'].median())\n",
    "data['year_of_publication'] = data['year_of_publication'].fillna(data['year_of_publication'].median())"
   ]
  },
  {
   "cell_type": "code",
   "execution_count": 7,
   "id": "da65fa9d",
   "metadata": {},
   "outputs": [
    {
     "data": {
      "text/plain": [
       "user_id                0\n",
       "book_rating            0\n",
       "book_author            0\n",
       "year_of_publication    0\n",
       "location               0\n",
       "age                    0\n",
       "book_id                0\n",
       "category               0\n",
       "dtype: int64"
      ]
     },
     "execution_count": 7,
     "metadata": {},
     "output_type": "execute_result"
    }
   ],
   "source": [
    "data.isna().sum()"
   ]
  },
  {
   "cell_type": "code",
   "execution_count": 8,
   "id": "c2de8142",
   "metadata": {},
   "outputs": [
    {
     "name": "stderr",
     "output_type": "stream",
     "text": [
      "C:\\Users\\79237\\AppData\\Local\\Temp\\ipykernel_10776\\4068247931.py:2: SettingWithCopyWarning: \n",
      "A value is trying to be set on a copy of a slice from a DataFrame.\n",
      "Try using .loc[row_indexer,col_indexer] = value instead\n",
      "\n",
      "See the caveats in the documentation: https://pandas.pydata.org/pandas-docs/stable/user_guide/indexing.html#returning-a-view-versus-a-copy\n",
      "  embedded_data['book_rating'] = embedded_data['book_rating'].astype(float)\n"
     ]
    },
    {
     "data": {
      "text/html": [
       "<div>\n",
       "<style scoped>\n",
       "    .dataframe tbody tr th:only-of-type {\n",
       "        vertical-align: middle;\n",
       "    }\n",
       "\n",
       "    .dataframe tbody tr th {\n",
       "        vertical-align: top;\n",
       "    }\n",
       "\n",
       "    .dataframe thead th {\n",
       "        text-align: right;\n",
       "    }\n",
       "</style>\n",
       "<table border=\"1\" class=\"dataframe\">\n",
       "  <thead>\n",
       "    <tr style=\"text-align: right;\">\n",
       "      <th></th>\n",
       "      <th>user_id</th>\n",
       "      <th>book_id</th>\n",
       "      <th>book_rating</th>\n",
       "    </tr>\n",
       "  </thead>\n",
       "  <tbody>\n",
       "    <tr>\n",
       "      <th>0</th>\n",
       "      <td>2313</td>\n",
       "      <td>themartianchronicles</td>\n",
       "      <td>7.0</td>\n",
       "    </tr>\n",
       "    <tr>\n",
       "      <th>1</th>\n",
       "      <td>2313</td>\n",
       "      <td>nonoboy</td>\n",
       "      <td>8.0</td>\n",
       "    </tr>\n",
       "    <tr>\n",
       "      <th>2</th>\n",
       "      <td>6543</td>\n",
       "      <td>fahrenheit451</td>\n",
       "      <td>8.0</td>\n",
       "    </tr>\n",
       "    <tr>\n",
       "      <th>3</th>\n",
       "      <td>6543</td>\n",
       "      <td>1sttodieanovel</td>\n",
       "      <td>9.0</td>\n",
       "    </tr>\n",
       "    <tr>\n",
       "      <th>4</th>\n",
       "      <td>6543</td>\n",
       "      <td>theno1ladiesdetectiveagency</td>\n",
       "      <td>6.0</td>\n",
       "    </tr>\n",
       "  </tbody>\n",
       "</table>\n",
       "</div>"
      ],
      "text/plain": [
       "   user_id                      book_id  book_rating\n",
       "0     2313         themartianchronicles          7.0\n",
       "1     2313                      nonoboy          8.0\n",
       "2     6543                fahrenheit451          8.0\n",
       "3     6543               1sttodieanovel          9.0\n",
       "4     6543  theno1ladiesdetectiveagency          6.0"
      ]
     },
     "execution_count": 8,
     "metadata": {},
     "output_type": "execute_result"
    }
   ],
   "source": [
    "embedded_data = data[['user_id', 'book_id', 'book_rating']]\n",
    "embedded_data['book_rating'] = embedded_data['book_rating'].astype(float)\n",
    "embedded_data.head(5)"
   ]
  },
  {
   "cell_type": "code",
   "execution_count": 9,
   "id": "ba676e75",
   "metadata": {},
   "outputs": [
    {
     "name": "stderr",
     "output_type": "stream",
     "text": [
      "C:\\Users\\79237\\AppData\\Local\\Temp\\ipykernel_10776\\1563009035.py:2: SettingWithCopyWarning: \n",
      "A value is trying to be set on a copy of a slice from a DataFrame.\n",
      "Try using .loc[row_indexer,col_indexer] = value instead\n",
      "\n",
      "See the caveats in the documentation: https://pandas.pydata.org/pandas-docs/stable/user_guide/indexing.html#returning-a-view-versus-a-copy\n",
      "  embedded_data['book_id'] = label_encoder.fit_transform(embedded_data['book_id'])\n"
     ]
    },
    {
     "data": {
      "text/html": [
       "<div>\n",
       "<style scoped>\n",
       "    .dataframe tbody tr th:only-of-type {\n",
       "        vertical-align: middle;\n",
       "    }\n",
       "\n",
       "    .dataframe tbody tr th {\n",
       "        vertical-align: top;\n",
       "    }\n",
       "\n",
       "    .dataframe thead th {\n",
       "        text-align: right;\n",
       "    }\n",
       "</style>\n",
       "<table border=\"1\" class=\"dataframe\">\n",
       "  <thead>\n",
       "    <tr style=\"text-align: right;\">\n",
       "      <th></th>\n",
       "      <th>user_id</th>\n",
       "      <th>book_id</th>\n",
       "      <th>book_rating</th>\n",
       "    </tr>\n",
       "  </thead>\n",
       "  <tbody>\n",
       "    <tr>\n",
       "      <th>0</th>\n",
       "      <td>2313</td>\n",
       "      <td>11266</td>\n",
       "      <td>7.0</td>\n",
       "    </tr>\n",
       "    <tr>\n",
       "      <th>1</th>\n",
       "      <td>2313</td>\n",
       "      <td>7036</td>\n",
       "      <td>8.0</td>\n",
       "    </tr>\n",
       "    <tr>\n",
       "      <th>2</th>\n",
       "      <td>6543</td>\n",
       "      <td>3469</td>\n",
       "      <td>8.0</td>\n",
       "    </tr>\n",
       "    <tr>\n",
       "      <th>3</th>\n",
       "      <td>6543</td>\n",
       "      <td>39</td>\n",
       "      <td>9.0</td>\n",
       "    </tr>\n",
       "    <tr>\n",
       "      <th>4</th>\n",
       "      <td>6543</td>\n",
       "      <td>11466</td>\n",
       "      <td>6.0</td>\n",
       "    </tr>\n",
       "  </tbody>\n",
       "</table>\n",
       "</div>"
      ],
      "text/plain": [
       "   user_id  book_id  book_rating\n",
       "0     2313    11266          7.0\n",
       "1     2313     7036          8.0\n",
       "2     6543     3469          8.0\n",
       "3     6543       39          9.0\n",
       "4     6543    11466          6.0"
      ]
     },
     "execution_count": 9,
     "metadata": {},
     "output_type": "execute_result"
    }
   ],
   "source": [
    "label_encoder = LabelEncoder()\n",
    "embedded_data['book_id'] = label_encoder.fit_transform(embedded_data['book_id'])\n",
    "embedded_data.head(5)"
   ]
  },
  {
   "cell_type": "code",
   "execution_count": 10,
   "id": "7fdb6273",
   "metadata": {},
   "outputs": [],
   "source": [
    "X_embedded = embedded_data[['user_id', 'book_id']]\n",
    "y_embedded = embedded_data['book_rating']"
   ]
  },
  {
   "cell_type": "code",
   "execution_count": 11,
   "id": "2defe6cf",
   "metadata": {},
   "outputs": [],
   "source": [
    "all_users = X_embedded['user_id'].unique()\n",
    "all_books = X_embedded['book_id'].unique()"
   ]
  },
  {
   "cell_type": "code",
   "execution_count": 12,
   "id": "d8736c22",
   "metadata": {},
   "outputs": [],
   "source": [
    "user_input = keras.layers.Input(shape=(1,), name=\"user\")\n",
    "user_as_integer = keras.layers.IntegerLookup(vocabulary=all_users)(user_input)\n",
    "user_embedding = keras.layers.Embedding(input_dim=len(all_users) + 1, output_dim=32, embeddings_regularizer=keras.regularizers.l2(0.1), name=\"user_embedding\")(user_as_integer)"
   ]
  },
  {
   "cell_type": "code",
   "execution_count": 13,
   "id": "6a8a348f",
   "metadata": {},
   "outputs": [],
   "source": [
    "book_input = keras.layers.Input(shape=(1,), name=\"book\")\n",
    "book_as_integer = keras.layers.IntegerLookup(vocabulary=all_books)(book_input)\n",
    "book_embedding = keras.layers.Embedding(input_dim=len(all_books) + 1, output_dim=32, embeddings_regularizer=keras.regularizers.l2(0.1), name=\"book_embedding\")(book_as_integer)"
   ]
  },
  {
   "cell_type": "code",
   "execution_count": 14,
   "id": "09294ab3",
   "metadata": {},
   "outputs": [],
   "source": [
    "dot_product = keras.layers.Dot(axes=-1)([user_embedding, book_embedding])\n",
    "flatten = keras.layers.Flatten()(dot_product)"
   ]
  },
  {
   "cell_type": "code",
   "execution_count": 15,
   "id": "bbc15f36",
   "metadata": {},
   "outputs": [
    {
     "name": "stdout",
     "output_type": "stream",
     "text": [
      "WARNING:tensorflow:From C:\\Users\\79237\\AppData\\Local\\Programs\\Python\\Python310\\lib\\site-packages\\keras\\src\\backend\\tensorflow\\core.py:188: The name tf.placeholder is deprecated. Please use tf.compat.v1.placeholder instead.\n",
      "\n"
     ]
    }
   ],
   "source": [
    "output = keras.layers.Lambda(lambda x: 9 * math.sigmoid(x) + 1, name=\"rating\")(flatten)"
   ]
  },
  {
   "cell_type": "code",
   "execution_count": 16,
   "id": "bdc154ce",
   "metadata": {},
   "outputs": [],
   "source": [
    "embedding_model = keras.Model(inputs=[user_input, book_input], outputs=output)\n",
    "embedding_model.compile(loss=\"mse\", metrics=[keras.metrics.RootMeanSquaredError])"
   ]
  },
  {
   "cell_type": "code",
   "execution_count": 17,
   "id": "3fdf63c4",
   "metadata": {},
   "outputs": [
    {
     "name": "stdout",
     "output_type": "stream",
     "text": [
      "Epoch 1/40\n",
      "\u001b[1m245/245\u001b[0m \u001b[32m━━━━━━━━━━━━━━━━━━━━\u001b[0m\u001b[37m\u001b[0m \u001b[1m4s\u001b[0m 12ms/step - loss: 22.9034 - root_mean_squared_error: 2.8527 - val_loss: 7.6130 - val_root_mean_squared_error: 2.7535\n",
      "Epoch 2/40\n",
      "\u001b[1m245/245\u001b[0m \u001b[32m━━━━━━━━━━━━━━━━━━━━\u001b[0m\u001b[37m\u001b[0m \u001b[1m3s\u001b[0m 12ms/step - loss: 8.1193 - root_mean_squared_error: 2.8494 - val_loss: 7.6130 - val_root_mean_squared_error: 2.7535\n",
      "Epoch 3/40\n",
      "\u001b[1m245/245\u001b[0m \u001b[32m━━━━━━━━━━━━━━━━━━━━\u001b[0m\u001b[37m\u001b[0m \u001b[1m3s\u001b[0m 12ms/step - loss: 8.1546 - root_mean_squared_error: 2.8556 - val_loss: 7.6130 - val_root_mean_squared_error: 2.7535\n",
      "Epoch 4/40\n",
      "\u001b[1m245/245\u001b[0m \u001b[32m━━━━━━━━━━━━━━━━━━━━\u001b[0m\u001b[37m\u001b[0m \u001b[1m3s\u001b[0m 12ms/step - loss: 8.1412 - root_mean_squared_error: 2.8532 - val_loss: 7.6130 - val_root_mean_squared_error: 2.7535\n",
      "Epoch 5/40\n",
      "\u001b[1m245/245\u001b[0m \u001b[32m━━━━━━━━━━━━━━━━━━━━\u001b[0m\u001b[37m\u001b[0m \u001b[1m3s\u001b[0m 12ms/step - loss: 8.1306 - root_mean_squared_error: 2.8514 - val_loss: 7.6130 - val_root_mean_squared_error: 2.7535\n",
      "Epoch 6/40\n",
      "\u001b[1m245/245\u001b[0m \u001b[32m━━━━━━━━━━━━━━━━━━━━\u001b[0m\u001b[37m\u001b[0m \u001b[1m3s\u001b[0m 11ms/step - loss: 8.0972 - root_mean_squared_error: 2.8455 - val_loss: 7.6130 - val_root_mean_squared_error: 2.7535\n",
      "Epoch 7/40\n",
      "\u001b[1m245/245\u001b[0m \u001b[32m━━━━━━━━━━━━━━━━━━━━\u001b[0m\u001b[37m\u001b[0m \u001b[1m3s\u001b[0m 12ms/step - loss: 8.0909 - root_mean_squared_error: 2.8445 - val_loss: 7.6130 - val_root_mean_squared_error: 2.7535\n",
      "Epoch 8/40\n",
      "\u001b[1m245/245\u001b[0m \u001b[32m━━━━━━━━━━━━━━━━━━━━\u001b[0m\u001b[37m\u001b[0m \u001b[1m3s\u001b[0m 11ms/step - loss: 8.1123 - root_mean_squared_error: 2.8482 - val_loss: 7.6130 - val_root_mean_squared_error: 2.7535\n",
      "Epoch 9/40\n",
      "\u001b[1m245/245\u001b[0m \u001b[32m━━━━━━━━━━━━━━━━━━━━\u001b[0m\u001b[37m\u001b[0m \u001b[1m3s\u001b[0m 11ms/step - loss: 8.0864 - root_mean_squared_error: 2.8436 - val_loss: 7.6130 - val_root_mean_squared_error: 2.7535\n",
      "Epoch 10/40\n",
      "\u001b[1m245/245\u001b[0m \u001b[32m━━━━━━━━━━━━━━━━━━━━\u001b[0m\u001b[37m\u001b[0m \u001b[1m3s\u001b[0m 12ms/step - loss: 8.1244 - root_mean_squared_error: 2.8503 - val_loss: 7.6130 - val_root_mean_squared_error: 2.7535\n",
      "Epoch 11/40\n",
      "\u001b[1m245/245\u001b[0m \u001b[32m━━━━━━━━━━━━━━━━━━━━\u001b[0m\u001b[37m\u001b[0m \u001b[1m3s\u001b[0m 12ms/step - loss: 8.0517 - root_mean_squared_error: 2.8375 - val_loss: 7.6130 - val_root_mean_squared_error: 2.7535\n",
      "Epoch 12/40\n",
      "\u001b[1m245/245\u001b[0m \u001b[32m━━━━━━━━━━━━━━━━━━━━\u001b[0m\u001b[37m\u001b[0m \u001b[1m3s\u001b[0m 12ms/step - loss: 8.1131 - root_mean_squared_error: 2.8483 - val_loss: 7.6130 - val_root_mean_squared_error: 2.7535\n",
      "Epoch 13/40\n",
      "\u001b[1m245/245\u001b[0m \u001b[32m━━━━━━━━━━━━━━━━━━━━\u001b[0m\u001b[37m\u001b[0m \u001b[1m3s\u001b[0m 13ms/step - loss: 8.1045 - root_mean_squared_error: 2.8468 - val_loss: 7.6130 - val_root_mean_squared_error: 2.7535\n",
      "Epoch 14/40\n",
      "\u001b[1m245/245\u001b[0m \u001b[32m━━━━━━━━━━━━━━━━━━━━\u001b[0m\u001b[37m\u001b[0m \u001b[1m3s\u001b[0m 12ms/step - loss: 8.0429 - root_mean_squared_error: 2.8359 - val_loss: 7.6130 - val_root_mean_squared_error: 2.7535\n",
      "Epoch 15/40\n",
      "\u001b[1m245/245\u001b[0m \u001b[32m━━━━━━━━━━━━━━━━━━━━\u001b[0m\u001b[37m\u001b[0m \u001b[1m3s\u001b[0m 12ms/step - loss: 8.1097 - root_mean_squared_error: 2.8477 - val_loss: 7.6130 - val_root_mean_squared_error: 2.7535\n",
      "Epoch 16/40\n",
      "\u001b[1m245/245\u001b[0m \u001b[32m━━━━━━━━━━━━━━━━━━━━\u001b[0m\u001b[37m\u001b[0m \u001b[1m3s\u001b[0m 12ms/step - loss: 8.1117 - root_mean_squared_error: 2.8481 - val_loss: 7.6130 - val_root_mean_squared_error: 2.7535\n",
      "Epoch 17/40\n",
      "\u001b[1m245/245\u001b[0m \u001b[32m━━━━━━━━━━━━━━━━━━━━\u001b[0m\u001b[37m\u001b[0m \u001b[1m3s\u001b[0m 12ms/step - loss: 8.0737 - root_mean_squared_error: 2.8414 - val_loss: 7.6130 - val_root_mean_squared_error: 2.7535\n",
      "Epoch 18/40\n",
      "\u001b[1m245/245\u001b[0m \u001b[32m━━━━━━━━━━━━━━━━━━━━\u001b[0m\u001b[37m\u001b[0m \u001b[1m3s\u001b[0m 12ms/step - loss: 8.1334 - root_mean_squared_error: 2.8519 - val_loss: 7.6130 - val_root_mean_squared_error: 2.7535\n",
      "Epoch 19/40\n",
      "\u001b[1m245/245\u001b[0m \u001b[32m━━━━━━━━━━━━━━━━━━━━\u001b[0m\u001b[37m\u001b[0m \u001b[1m3s\u001b[0m 12ms/step - loss: 8.1387 - root_mean_squared_error: 2.8528 - val_loss: 7.6130 - val_root_mean_squared_error: 2.7535\n",
      "Epoch 20/40\n",
      "\u001b[1m245/245\u001b[0m \u001b[32m━━━━━━━━━━━━━━━━━━━━\u001b[0m\u001b[37m\u001b[0m \u001b[1m3s\u001b[0m 12ms/step - loss: 8.0891 - root_mean_squared_error: 2.8441 - val_loss: 7.6130 - val_root_mean_squared_error: 2.7535\n",
      "Epoch 21/40\n",
      "\u001b[1m245/245\u001b[0m \u001b[32m━━━━━━━━━━━━━━━━━━━━\u001b[0m\u001b[37m\u001b[0m \u001b[1m3s\u001b[0m 12ms/step - loss: 8.1219 - root_mean_squared_error: 2.8499 - val_loss: 7.6130 - val_root_mean_squared_error: 2.7535\n",
      "Epoch 22/40\n",
      "\u001b[1m245/245\u001b[0m \u001b[32m━━━━━━━━━━━━━━━━━━━━\u001b[0m\u001b[37m\u001b[0m \u001b[1m3s\u001b[0m 12ms/step - loss: 8.1637 - root_mean_squared_error: 2.8572 - val_loss: 7.6130 - val_root_mean_squared_error: 2.7535\n",
      "Epoch 23/40\n",
      "\u001b[1m245/245\u001b[0m \u001b[32m━━━━━━━━━━━━━━━━━━━━\u001b[0m\u001b[37m\u001b[0m \u001b[1m3s\u001b[0m 12ms/step - loss: 8.0860 - root_mean_squared_error: 2.8436 - val_loss: 7.6130 - val_root_mean_squared_error: 2.7535\n",
      "Epoch 24/40\n",
      "\u001b[1m245/245\u001b[0m \u001b[32m━━━━━━━━━━━━━━━━━━━━\u001b[0m\u001b[37m\u001b[0m \u001b[1m3s\u001b[0m 12ms/step - loss: 8.1370 - root_mean_squared_error: 2.8525 - val_loss: 7.6130 - val_root_mean_squared_error: 2.7535\n",
      "Epoch 25/40\n",
      "\u001b[1m245/245\u001b[0m \u001b[32m━━━━━━━━━━━━━━━━━━━━\u001b[0m\u001b[37m\u001b[0m \u001b[1m3s\u001b[0m 11ms/step - loss: 8.1117 - root_mean_squared_error: 2.8481 - val_loss: 7.6130 - val_root_mean_squared_error: 2.7535\n",
      "Epoch 26/40\n",
      "\u001b[1m245/245\u001b[0m \u001b[32m━━━━━━━━━━━━━━━━━━━━\u001b[0m\u001b[37m\u001b[0m \u001b[1m3s\u001b[0m 12ms/step - loss: 8.1179 - root_mean_squared_error: 2.8492 - val_loss: 7.6130 - val_root_mean_squared_error: 2.7535\n",
      "Epoch 27/40\n",
      "\u001b[1m245/245\u001b[0m \u001b[32m━━━━━━━━━━━━━━━━━━━━\u001b[0m\u001b[37m\u001b[0m \u001b[1m3s\u001b[0m 12ms/step - loss: 8.0853 - root_mean_squared_error: 2.8435 - val_loss: 7.6130 - val_root_mean_squared_error: 2.7535\n",
      "Epoch 28/40\n",
      "\u001b[1m245/245\u001b[0m \u001b[32m━━━━━━━━━━━━━━━━━━━━\u001b[0m\u001b[37m\u001b[0m \u001b[1m3s\u001b[0m 12ms/step - loss: 8.1293 - root_mean_squared_error: 2.8512 - val_loss: 7.6130 - val_root_mean_squared_error: 2.7535\n",
      "Epoch 29/40\n",
      "\u001b[1m245/245\u001b[0m \u001b[32m━━━━━━━━━━━━━━━━━━━━\u001b[0m\u001b[37m\u001b[0m \u001b[1m3s\u001b[0m 12ms/step - loss: 8.0932 - root_mean_squared_error: 2.8448 - val_loss: 7.6130 - val_root_mean_squared_error: 2.7535\n",
      "Epoch 30/40\n",
      "\u001b[1m245/245\u001b[0m \u001b[32m━━━━━━━━━━━━━━━━━━━━\u001b[0m\u001b[37m\u001b[0m \u001b[1m3s\u001b[0m 12ms/step - loss: 8.1267 - root_mean_squared_error: 2.8507 - val_loss: 7.6130 - val_root_mean_squared_error: 2.7535\n",
      "Epoch 31/40\n",
      "\u001b[1m245/245\u001b[0m \u001b[32m━━━━━━━━━━━━━━━━━━━━\u001b[0m\u001b[37m\u001b[0m \u001b[1m3s\u001b[0m 12ms/step - loss: 8.1322 - root_mean_squared_error: 2.8517 - val_loss: 7.6130 - val_root_mean_squared_error: 2.7535\n",
      "Epoch 32/40\n",
      "\u001b[1m245/245\u001b[0m \u001b[32m━━━━━━━━━━━━━━━━━━━━\u001b[0m\u001b[37m\u001b[0m \u001b[1m3s\u001b[0m 12ms/step - loss: 8.1423 - root_mean_squared_error: 2.8535 - val_loss: 7.6130 - val_root_mean_squared_error: 2.7535\n",
      "Epoch 33/40\n",
      "\u001b[1m245/245\u001b[0m \u001b[32m━━━━━━━━━━━━━━━━━━━━\u001b[0m\u001b[37m\u001b[0m \u001b[1m3s\u001b[0m 12ms/step - loss: 8.1394 - root_mean_squared_error: 2.8529 - val_loss: 7.6130 - val_root_mean_squared_error: 2.7535\n",
      "Epoch 34/40\n",
      "\u001b[1m245/245\u001b[0m \u001b[32m━━━━━━━━━━━━━━━━━━━━\u001b[0m\u001b[37m\u001b[0m \u001b[1m3s\u001b[0m 12ms/step - loss: 8.1491 - root_mean_squared_error: 2.8547 - val_loss: 7.6130 - val_root_mean_squared_error: 2.7535\n",
      "Epoch 35/40\n",
      "\u001b[1m245/245\u001b[0m \u001b[32m━━━━━━━━━━━━━━━━━━━━\u001b[0m\u001b[37m\u001b[0m \u001b[1m3s\u001b[0m 12ms/step - loss: 8.1114 - root_mean_squared_error: 2.8480 - val_loss: 7.6130 - val_root_mean_squared_error: 2.7535\n",
      "Epoch 36/40\n",
      "\u001b[1m245/245\u001b[0m \u001b[32m━━━━━━━━━━━━━━━━━━━━\u001b[0m\u001b[37m\u001b[0m \u001b[1m3s\u001b[0m 12ms/step - loss: 8.1456 - root_mean_squared_error: 2.8540 - val_loss: 7.6130 - val_root_mean_squared_error: 2.7535\n",
      "Epoch 37/40\n",
      "\u001b[1m245/245\u001b[0m \u001b[32m━━━━━━━━━━━━━━━━━━━━\u001b[0m\u001b[37m\u001b[0m \u001b[1m3s\u001b[0m 12ms/step - loss: 8.1385 - root_mean_squared_error: 2.8528 - val_loss: 7.6130 - val_root_mean_squared_error: 2.7535\n",
      "Epoch 38/40\n",
      "\u001b[1m245/245\u001b[0m \u001b[32m━━━━━━━━━━━━━━━━━━━━\u001b[0m\u001b[37m\u001b[0m \u001b[1m3s\u001b[0m 12ms/step - loss: 8.1506 - root_mean_squared_error: 2.8549 - val_loss: 7.6130 - val_root_mean_squared_error: 2.7535\n",
      "Epoch 39/40\n",
      "\u001b[1m245/245\u001b[0m \u001b[32m━━━━━━━━━━━━━━━━━━━━\u001b[0m\u001b[37m\u001b[0m \u001b[1m3s\u001b[0m 12ms/step - loss: 8.1351 - root_mean_squared_error: 2.8522 - val_loss: 7.6130 - val_root_mean_squared_error: 2.7535\n",
      "Epoch 40/40\n",
      "\u001b[1m245/245\u001b[0m \u001b[32m━━━━━━━━━━━━━━━━━━━━\u001b[0m\u001b[37m\u001b[0m \u001b[1m3s\u001b[0m 12ms/step - loss: 8.0932 - root_mean_squared_error: 2.8448 - val_loss: 7.6130 - val_root_mean_squared_error: 2.7535\n"
     ]
    },
    {
     "data": {
      "text/plain": [
       "<keras.src.callbacks.history.History at 0x12df5dca5f0>"
      ]
     },
     "execution_count": 17,
     "metadata": {},
     "output_type": "execute_result"
    }
   ],
   "source": [
    "embedding_model.fit(x=[X_embedded['user_id'], X_embedded['book_id']], y=y_embedded, batch_size=256, epochs=40, validation_split=0.1)"
   ]
  },
  {
   "cell_type": "code",
   "execution_count": 18,
   "id": "78e53e12",
   "metadata": {},
   "outputs": [],
   "source": [
    "embedded_user_output = embedding_model.get_layer(\"user_embedding\").output\n",
    "embedded_book_output = embedding_model.get_layer(\"book_embedding\").output\n",
    "embedding_user_model = keras.Model(inputs=[user_input, book_input], outputs=embedded_user_output)\n",
    "embedding_book_model = keras.Model(inputs=[user_input, book_input], outputs=embedded_book_output)"
   ]
  },
  {
   "cell_type": "code",
   "execution_count": 19,
   "id": "6e317dc8",
   "metadata": {},
   "outputs": [
    {
     "name": "stdout",
     "output_type": "stream",
     "text": [
      "\u001b[1m2177/2177\u001b[0m \u001b[32m━━━━━━━━━━━━━━━━━━━━\u001b[0m\u001b[37m\u001b[0m \u001b[1m2s\u001b[0m 840us/step\n",
      "\u001b[1m2177/2177\u001b[0m \u001b[32m━━━━━━━━━━━━━━━━━━━━\u001b[0m\u001b[37m\u001b[0m \u001b[1m2s\u001b[0m 840us/step\n"
     ]
    }
   ],
   "source": [
    "user_feature = embedding_user_model.predict(x=[X_embedded['user_id'], X_embedded['book_id']]).reshape((data.shape[0], 32)).tolist()\n",
    "user_df = pd.DataFrame(user_feature)\n",
    "user_df = user_df.add_suffix('_user')\n",
    "book_feature = embedding_book_model.predict(x=[X_embedded['user_id'], X_embedded['book_id']]).reshape((data.shape[0], 32)).tolist()\n",
    "book_df = pd.DataFrame(book_feature)\n",
    "book_df = book_df.add_suffix('_book')"
   ]
  },
  {
   "cell_type": "code",
   "execution_count": 20,
   "id": "823cf3ef",
   "metadata": {},
   "outputs": [
    {
     "data": {
      "text/html": [
       "<div>\n",
       "<style scoped>\n",
       "    .dataframe tbody tr th:only-of-type {\n",
       "        vertical-align: middle;\n",
       "    }\n",
       "\n",
       "    .dataframe tbody tr th {\n",
       "        vertical-align: top;\n",
       "    }\n",
       "\n",
       "    .dataframe thead th {\n",
       "        text-align: right;\n",
       "    }\n",
       "</style>\n",
       "<table border=\"1\" class=\"dataframe\">\n",
       "  <thead>\n",
       "    <tr style=\"text-align: right;\">\n",
       "      <th></th>\n",
       "      <th>book_rating</th>\n",
       "      <th>book_author</th>\n",
       "      <th>year_of_publication</th>\n",
       "      <th>location</th>\n",
       "      <th>age</th>\n",
       "      <th>category</th>\n",
       "    </tr>\n",
       "  </thead>\n",
       "  <tbody>\n",
       "    <tr>\n",
       "      <th>0</th>\n",
       "      <td>7</td>\n",
       "      <td>raybradbury</td>\n",
       "      <td>1984.0</td>\n",
       "      <td>usa</td>\n",
       "      <td>23.0</td>\n",
       "      <td>fiction</td>\n",
       "    </tr>\n",
       "    <tr>\n",
       "      <th>1</th>\n",
       "      <td>8</td>\n",
       "      <td>johnokada</td>\n",
       "      <td>1978.0</td>\n",
       "      <td>usa</td>\n",
       "      <td>23.0</td>\n",
       "      <td>japanese</td>\n",
       "    </tr>\n",
       "    <tr>\n",
       "      <th>2</th>\n",
       "      <td>8</td>\n",
       "      <td>raybradbury</td>\n",
       "      <td>1976.0</td>\n",
       "      <td>usa</td>\n",
       "      <td>34.0</td>\n",
       "      <td>bookburning</td>\n",
       "    </tr>\n",
       "    <tr>\n",
       "      <th>3</th>\n",
       "      <td>9</td>\n",
       "      <td>jamespatterson</td>\n",
       "      <td>2001.0</td>\n",
       "      <td>usa</td>\n",
       "      <td>34.0</td>\n",
       "      <td>fiction</td>\n",
       "    </tr>\n",
       "    <tr>\n",
       "      <th>4</th>\n",
       "      <td>6</td>\n",
       "      <td>alexandermccallsmith</td>\n",
       "      <td>2002.0</td>\n",
       "      <td>usa</td>\n",
       "      <td>34.0</td>\n",
       "      <td>botswana</td>\n",
       "    </tr>\n",
       "  </tbody>\n",
       "</table>\n",
       "</div>"
      ],
      "text/plain": [
       "   book_rating           book_author  year_of_publication location   age   \n",
       "0            7           raybradbury               1984.0      usa  23.0  \\\n",
       "1            8             johnokada               1978.0      usa  23.0   \n",
       "2            8           raybradbury               1976.0      usa  34.0   \n",
       "3            9        jamespatterson               2001.0      usa  34.0   \n",
       "4            6  alexandermccallsmith               2002.0      usa  34.0   \n",
       "\n",
       "      category  \n",
       "0      fiction  \n",
       "1     japanese  \n",
       "2  bookburning  \n",
       "3      fiction  \n",
       "4     botswana  "
      ]
     },
     "execution_count": 20,
     "metadata": {},
     "output_type": "execute_result"
    }
   ],
   "source": [
    "data = data.drop(columns=['user_id', 'book_id'])\n",
    "data.head(5)"
   ]
  },
  {
   "cell_type": "code",
   "execution_count": 21,
   "id": "4c236968",
   "metadata": {},
   "outputs": [
    {
     "data": {
      "text/html": [
       "<div>\n",
       "<style scoped>\n",
       "    .dataframe tbody tr th:only-of-type {\n",
       "        vertical-align: middle;\n",
       "    }\n",
       "\n",
       "    .dataframe tbody tr th {\n",
       "        vertical-align: top;\n",
       "    }\n",
       "\n",
       "    .dataframe thead th {\n",
       "        text-align: right;\n",
       "    }\n",
       "</style>\n",
       "<table border=\"1\" class=\"dataframe\">\n",
       "  <thead>\n",
       "    <tr style=\"text-align: right;\">\n",
       "      <th></th>\n",
       "      <th>book_rating</th>\n",
       "      <th>book_author</th>\n",
       "      <th>year_of_publication</th>\n",
       "      <th>location</th>\n",
       "      <th>age</th>\n",
       "      <th>category</th>\n",
       "      <th>0_user</th>\n",
       "      <th>1_user</th>\n",
       "      <th>2_user</th>\n",
       "      <th>3_user</th>\n",
       "      <th>...</th>\n",
       "      <th>22_book</th>\n",
       "      <th>23_book</th>\n",
       "      <th>24_book</th>\n",
       "      <th>25_book</th>\n",
       "      <th>26_book</th>\n",
       "      <th>27_book</th>\n",
       "      <th>28_book</th>\n",
       "      <th>29_book</th>\n",
       "      <th>30_book</th>\n",
       "      <th>31_book</th>\n",
       "    </tr>\n",
       "  </thead>\n",
       "  <tbody>\n",
       "    <tr>\n",
       "      <th>0</th>\n",
       "      <td>7</td>\n",
       "      <td>raybradbury</td>\n",
       "      <td>1984.0</td>\n",
       "      <td>usa</td>\n",
       "      <td>23.0</td>\n",
       "      <td>fiction</td>\n",
       "      <td>-1.618703e-35</td>\n",
       "      <td>3.216250e-35</td>\n",
       "      <td>2.324770e-35</td>\n",
       "      <td>-4.432507e-35</td>\n",
       "      <td>...</td>\n",
       "      <td>2.635972e-35</td>\n",
       "      <td>-1.474804e-35</td>\n",
       "      <td>-6.191572e-36</td>\n",
       "      <td>-1.605098e-35</td>\n",
       "      <td>-3.507932e-35</td>\n",
       "      <td>3.220586e-35</td>\n",
       "      <td>4.080667e-36</td>\n",
       "      <td>1.175463e-36</td>\n",
       "      <td>-3.585158e-35</td>\n",
       "      <td>-3.071780e-36</td>\n",
       "    </tr>\n",
       "    <tr>\n",
       "      <th>1</th>\n",
       "      <td>8</td>\n",
       "      <td>johnokada</td>\n",
       "      <td>1978.0</td>\n",
       "      <td>usa</td>\n",
       "      <td>23.0</td>\n",
       "      <td>japanese</td>\n",
       "      <td>-1.618703e-35</td>\n",
       "      <td>3.216250e-35</td>\n",
       "      <td>2.324770e-35</td>\n",
       "      <td>-4.432507e-35</td>\n",
       "      <td>...</td>\n",
       "      <td>4.966776e-35</td>\n",
       "      <td>-4.013646e-35</td>\n",
       "      <td>3.602758e-35</td>\n",
       "      <td>-5.663110e-35</td>\n",
       "      <td>2.905765e-35</td>\n",
       "      <td>-2.721745e-35</td>\n",
       "      <td>-4.050468e-35</td>\n",
       "      <td>-3.191607e-35</td>\n",
       "      <td>3.047668e-35</td>\n",
       "      <td>-2.668279e-35</td>\n",
       "    </tr>\n",
       "    <tr>\n",
       "      <th>2</th>\n",
       "      <td>8</td>\n",
       "      <td>raybradbury</td>\n",
       "      <td>1976.0</td>\n",
       "      <td>usa</td>\n",
       "      <td>34.0</td>\n",
       "      <td>bookburning</td>\n",
       "      <td>9.045199e-36</td>\n",
       "      <td>2.402558e-35</td>\n",
       "      <td>-2.382347e-35</td>\n",
       "      <td>-6.284702e-36</td>\n",
       "      <td>...</td>\n",
       "      <td>4.264390e-36</td>\n",
       "      <td>-7.029181e-36</td>\n",
       "      <td>9.120700e-38</td>\n",
       "      <td>-7.444527e-36</td>\n",
       "      <td>-5.974926e-36</td>\n",
       "      <td>5.404129e-36</td>\n",
       "      <td>-1.190291e-35</td>\n",
       "      <td>5.922095e-36</td>\n",
       "      <td>-2.147113e-35</td>\n",
       "      <td>1.232466e-35</td>\n",
       "    </tr>\n",
       "    <tr>\n",
       "      <th>3</th>\n",
       "      <td>9</td>\n",
       "      <td>jamespatterson</td>\n",
       "      <td>2001.0</td>\n",
       "      <td>usa</td>\n",
       "      <td>34.0</td>\n",
       "      <td>fiction</td>\n",
       "      <td>9.045199e-36</td>\n",
       "      <td>2.402558e-35</td>\n",
       "      <td>-2.382347e-35</td>\n",
       "      <td>-6.284702e-36</td>\n",
       "      <td>...</td>\n",
       "      <td>9.800239e-36</td>\n",
       "      <td>1.192074e-35</td>\n",
       "      <td>8.240201e-36</td>\n",
       "      <td>4.130697e-36</td>\n",
       "      <td>-4.337147e-36</td>\n",
       "      <td>-7.616007e-36</td>\n",
       "      <td>5.684807e-36</td>\n",
       "      <td>-2.086665e-35</td>\n",
       "      <td>-1.810264e-35</td>\n",
       "      <td>-2.044654e-36</td>\n",
       "    </tr>\n",
       "    <tr>\n",
       "      <th>4</th>\n",
       "      <td>6</td>\n",
       "      <td>alexandermccallsmith</td>\n",
       "      <td>2002.0</td>\n",
       "      <td>usa</td>\n",
       "      <td>34.0</td>\n",
       "      <td>botswana</td>\n",
       "      <td>9.045199e-36</td>\n",
       "      <td>2.402558e-35</td>\n",
       "      <td>-2.382347e-35</td>\n",
       "      <td>-6.284702e-36</td>\n",
       "      <td>...</td>\n",
       "      <td>-3.304633e-35</td>\n",
       "      <td>3.422190e-35</td>\n",
       "      <td>-1.022814e-35</td>\n",
       "      <td>1.343375e-35</td>\n",
       "      <td>2.372908e-35</td>\n",
       "      <td>1.814841e-35</td>\n",
       "      <td>-5.006544e-36</td>\n",
       "      <td>-1.380913e-35</td>\n",
       "      <td>-3.437544e-35</td>\n",
       "      <td>-3.467882e-35</td>\n",
       "    </tr>\n",
       "  </tbody>\n",
       "</table>\n",
       "<p>5 rows × 70 columns</p>\n",
       "</div>"
      ],
      "text/plain": [
       "   book_rating           book_author  year_of_publication location   age   \n",
       "0            7           raybradbury               1984.0      usa  23.0  \\\n",
       "1            8             johnokada               1978.0      usa  23.0   \n",
       "2            8           raybradbury               1976.0      usa  34.0   \n",
       "3            9        jamespatterson               2001.0      usa  34.0   \n",
       "4            6  alexandermccallsmith               2002.0      usa  34.0   \n",
       "\n",
       "      category        0_user        1_user        2_user        3_user  ...   \n",
       "0      fiction -1.618703e-35  3.216250e-35  2.324770e-35 -4.432507e-35  ...  \\\n",
       "1     japanese -1.618703e-35  3.216250e-35  2.324770e-35 -4.432507e-35  ...   \n",
       "2  bookburning  9.045199e-36  2.402558e-35 -2.382347e-35 -6.284702e-36  ...   \n",
       "3      fiction  9.045199e-36  2.402558e-35 -2.382347e-35 -6.284702e-36  ...   \n",
       "4     botswana  9.045199e-36  2.402558e-35 -2.382347e-35 -6.284702e-36  ...   \n",
       "\n",
       "        22_book       23_book       24_book       25_book       26_book   \n",
       "0  2.635972e-35 -1.474804e-35 -6.191572e-36 -1.605098e-35 -3.507932e-35  \\\n",
       "1  4.966776e-35 -4.013646e-35  3.602758e-35 -5.663110e-35  2.905765e-35   \n",
       "2  4.264390e-36 -7.029181e-36  9.120700e-38 -7.444527e-36 -5.974926e-36   \n",
       "3  9.800239e-36  1.192074e-35  8.240201e-36  4.130697e-36 -4.337147e-36   \n",
       "4 -3.304633e-35  3.422190e-35 -1.022814e-35  1.343375e-35  2.372908e-35   \n",
       "\n",
       "        27_book       28_book       29_book       30_book       31_book  \n",
       "0  3.220586e-35  4.080667e-36  1.175463e-36 -3.585158e-35 -3.071780e-36  \n",
       "1 -2.721745e-35 -4.050468e-35 -3.191607e-35  3.047668e-35 -2.668279e-35  \n",
       "2  5.404129e-36 -1.190291e-35  5.922095e-36 -2.147113e-35  1.232466e-35  \n",
       "3 -7.616007e-36  5.684807e-36 -2.086665e-35 -1.810264e-35 -2.044654e-36  \n",
       "4  1.814841e-35 -5.006544e-36 -1.380913e-35 -3.437544e-35 -3.467882e-35  \n",
       "\n",
       "[5 rows x 70 columns]"
      ]
     },
     "execution_count": 21,
     "metadata": {},
     "output_type": "execute_result"
    }
   ],
   "source": [
    "data = pd.concat([data, user_df, book_df], axis=1)\n",
    "data.head(5)"
   ]
  },
  {
   "cell_type": "code",
   "execution_count": 24,
   "id": "5eab18a7",
   "metadata": {},
   "outputs": [],
   "source": [
    "X = data.drop(columns=['book_rating'])\n",
    "y = data['book_rating']\n",
    "cat_features = ['book_author', 'location', 'category']"
   ]
  },
  {
   "cell_type": "code",
   "execution_count": 25,
   "id": "5a235850",
   "metadata": {},
   "outputs": [],
   "source": [
    "X_train, X_test, y_train, y_test = train_test_split(X, y, test_size=0.2, random_state=42)"
   ]
  },
  {
   "cell_type": "code",
   "execution_count": 41,
   "id": "f2b11e1b",
   "metadata": {},
   "outputs": [
    {
     "data": {
      "application/vnd.jupyter.widget-view+json": {
       "model_id": "1874a46fc87c4e88b5174495dd162808",
       "version_major": 2,
       "version_minor": 0
      },
      "text/plain": [
       "MetricVisualizer(layout=Layout(align_self='stretch', height='500px'))"
      ]
     },
     "metadata": {},
     "output_type": "display_data"
    },
    {
     "ename": "CatBoostError",
     "evalue": "C:/Go_Agent/pipelines/BuildMaster/catboost.git/catboost/private/libs/options/json_helper.h:173: Can't parse parameter \"iterations\" with value: [500,1000,1500]",
     "output_type": "error",
     "traceback": [
      "\u001b[1;31m---------------------------------------------------------------------------\u001b[0m",
      "\u001b[1;31mCatBoostError\u001b[0m                             Traceback (most recent call last)",
      "Cell \u001b[1;32mIn[41], line 4\u001b[0m\n\u001b[0;32m      2\u001b[0m params \u001b[38;5;241m=\u001b[39m {\u001b[38;5;124m'\u001b[39m\u001b[38;5;124mdepth\u001b[39m\u001b[38;5;124m'\u001b[39m: [\u001b[38;5;241m4\u001b[39m, \u001b[38;5;241m8\u001b[39m, \u001b[38;5;241m12\u001b[39m, \u001b[38;5;241m16\u001b[39m], \u001b[38;5;124m'\u001b[39m\u001b[38;5;124ml2_leaf_reg\u001b[39m\u001b[38;5;124m'\u001b[39m: [\u001b[38;5;241m0.5\u001b[39m, \u001b[38;5;241m1\u001b[39m, \u001b[38;5;241m1.5\u001b[39m], \u001b[38;5;124m'\u001b[39m\u001b[38;5;124miterations\u001b[39m\u001b[38;5;124m'\u001b[39m: [\u001b[38;5;241m500\u001b[39m, \u001b[38;5;241m1000\u001b[39m, \u001b[38;5;241m1500\u001b[39m], \u001b[38;5;124m'\u001b[39m\u001b[38;5;124mloss_function\u001b[39m\u001b[38;5;124m'\u001b[39m: \u001b[38;5;124m'\u001b[39m\u001b[38;5;124mRMSE\u001b[39m\u001b[38;5;124m'\u001b[39m, \u001b[38;5;124m'\u001b[39m\u001b[38;5;124mverbose\u001b[39m\u001b[38;5;124m'\u001b[39m: \u001b[38;5;241m400\u001b[39m, \u001b[38;5;124m'\u001b[39m\u001b[38;5;124mrandom_state\u001b[39m\u001b[38;5;124m'\u001b[39m: \u001b[38;5;241m42\u001b[39m}\n\u001b[0;32m      3\u001b[0m train_pool \u001b[38;5;241m=\u001b[39m Pool(X_train, y_train, cat_features\u001b[38;5;241m=\u001b[39mcat_features)\n\u001b[1;32m----> 4\u001b[0m cv_results \u001b[38;5;241m=\u001b[39m \u001b[43mcv\u001b[49m\u001b[43m(\u001b[49m\u001b[43mtrain_pool\u001b[49m\u001b[43m,\u001b[49m\u001b[43m \u001b[49m\u001b[43mparams\u001b[49m\u001b[43m,\u001b[49m\u001b[43m \u001b[49m\u001b[43mfold_count\u001b[49m\u001b[38;5;241;43m=\u001b[39;49m\u001b[38;5;241;43m3\u001b[39;49m\u001b[43m,\u001b[49m\u001b[43m \u001b[49m\u001b[43mplot\u001b[49m\u001b[38;5;241;43m=\u001b[39;49m\u001b[38;5;28;43;01mTrue\u001b[39;49;00m\u001b[43m)\u001b[49m\n",
      "File \u001b[1;32m~\\AppData\\Local\\Programs\\Python\\Python310\\lib\\site-packages\\catboost\\core.py:6794\u001b[0m, in \u001b[0;36mcv\u001b[1;34m(pool, params, dtrain, iterations, num_boost_round, fold_count, nfold, inverted, partition_random_seed, seed, shuffle, logging_level, stratified, as_pandas, metric_period, verbose, verbose_eval, plot, plot_file, early_stopping_rounds, save_snapshot, snapshot_file, snapshot_interval, metric_update_interval, folds, type, return_models, log_cout, log_cerr)\u001b[0m\n\u001b[0;32m   6792\u001b[0m \u001b[38;5;28;01mwith\u001b[39;00m log_fixup(log_cout, log_cerr), plot_wrapper(plot, plot_file\u001b[38;5;241m=\u001b[39mplot_file, plot_title\u001b[38;5;241m=\u001b[39m\u001b[38;5;124m'\u001b[39m\u001b[38;5;124mCross-validation plot\u001b[39m\u001b[38;5;124m'\u001b[39m, train_dirs\u001b[38;5;241m=\u001b[39mplot_dirs):\n\u001b[0;32m   6793\u001b[0m     \u001b[38;5;28;01mif\u001b[39;00m \u001b[38;5;129;01mnot\u001b[39;00m return_models:\n\u001b[1;32m-> 6794\u001b[0m         \u001b[38;5;28;01mreturn\u001b[39;00m \u001b[43m_cv\u001b[49m\u001b[43m(\u001b[49m\u001b[43mparams\u001b[49m\u001b[43m,\u001b[49m\u001b[43m \u001b[49m\u001b[43mpool\u001b[49m\u001b[43m,\u001b[49m\u001b[43m \u001b[49m\u001b[43mfold_count\u001b[49m\u001b[43m,\u001b[49m\u001b[43m \u001b[49m\u001b[43minverted\u001b[49m\u001b[43m,\u001b[49m\u001b[43m \u001b[49m\u001b[43mpartition_random_seed\u001b[49m\u001b[43m,\u001b[49m\u001b[43m \u001b[49m\u001b[43mshuffle\u001b[49m\u001b[43m,\u001b[49m\u001b[43m \u001b[49m\u001b[43mstratified\u001b[49m\u001b[43m,\u001b[49m\n\u001b[0;32m   6795\u001b[0m \u001b[43m                \u001b[49m\u001b[43mmetric_update_interval\u001b[49m\u001b[43m,\u001b[49m\u001b[43m \u001b[49m\u001b[43mas_pandas\u001b[49m\u001b[43m,\u001b[49m\u001b[43m \u001b[49m\u001b[43mfolds\u001b[49m\u001b[43m,\u001b[49m\u001b[43m \u001b[49m\u001b[38;5;28;43mtype\u001b[39;49m\u001b[43m,\u001b[49m\u001b[43m \u001b[49m\u001b[43mreturn_models\u001b[49m\u001b[43m)\u001b[49m\n\u001b[0;32m   6796\u001b[0m     \u001b[38;5;28;01melse\u001b[39;00m:\n\u001b[0;32m   6797\u001b[0m         results, cv_models \u001b[38;5;241m=\u001b[39m _cv(params, pool, fold_count, inverted, partition_random_seed, shuffle, stratified,\n\u001b[0;32m   6798\u001b[0m                                  metric_update_interval, as_pandas, folds, \u001b[38;5;28mtype\u001b[39m, return_models)\n",
      "File \u001b[1;32m_catboost.pyx:5517\u001b[0m, in \u001b[0;36m_catboost._cv\u001b[1;34m()\u001b[0m\n",
      "File \u001b[1;32m_catboost.pyx:5549\u001b[0m, in \u001b[0;36m_catboost._cv\u001b[1;34m()\u001b[0m\n",
      "\u001b[1;31mCatBoostError\u001b[0m: C:/Go_Agent/pipelines/BuildMaster/catboost.git/catboost/private/libs/options/json_helper.h:173: Can't parse parameter \"iterations\" with value: [500,1000,1500]"
     ]
    }
   ],
   "source": [
    "model_cat_boost = CatBoostRegressor()\n",
    "params = {'depth': [4, 8, 12, 16], 'l2_leaf_reg': [0.5, 1, 1.5], 'iterations': [500, 1000, 1500], 'loss_function': 'RMSE', 'verbose': False, 'random_state': 42}\n",
    "train_pool = Pool(X_train, y_train, cat_features=cat_features)\n",
    "cv_results = cv(train_pool, params, fold_count=3, plot=True)"
   ]
  },
  {
   "cell_type": "code",
   "execution_count": 42,
   "id": "26e84814",
   "metadata": {},
   "outputs": [
    {
     "data": {
      "text/plain": [
       "<catboost.core.CatBoostRegressor at 0x12d949078b0>"
      ]
     },
     "execution_count": 42,
     "metadata": {},
     "output_type": "execute_result"
    }
   ],
   "source": [
    "model_cat_boost.fit(X_train, y_train, cat_features=cat_features, verbose=False)"
   ]
  },
  {
   "cell_type": "code",
   "execution_count": 31,
   "id": "389d5d52",
   "metadata": {},
   "outputs": [
    {
     "data": {
      "text/plain": [
       "1.560285055145355"
      ]
     },
     "execution_count": 31,
     "metadata": {},
     "output_type": "execute_result"
    }
   ],
   "source": [
    "predictions = model_cat_boost.predict(X_test).tolist()\n",
    "np.sqrt(mean_squared_error(y_test.tolist(), predictions))"
   ]
  },
  {
   "cell_type": "code",
   "execution_count": 32,
   "id": "d008b20c",
   "metadata": {},
   "outputs": [
    {
     "data": {
      "text/plain": [
       "0.24535460637944262"
      ]
     },
     "execution_count": 32,
     "metadata": {},
     "output_type": "execute_result"
    }
   ],
   "source": [
    "r2_score(y_test.tolist(), predictions)"
   ]
  },
  {
   "cell_type": "markdown",
   "id": "ab97b4cb",
   "metadata": {},
   "source": [
    "# Обертка"
   ]
  },
  {
   "cell_type": "code",
   "execution_count": null,
   "id": "687dbea5",
   "metadata": {},
   "outputs": [],
   "source": [
    "class RecSys:\n",
    "    def __init__(self, book_embedding_model, user_embedding_model, main_model):\n",
    "        self.book_embedding_model = book_embedding_model\n",
    "        self.user_embedding_model = user_embedding_model\n",
    "        self.main_model = main_model\n",
    "    def get_recommendations(self, user_id, n=10):\n",
    "        # sql запрос\n",
    "        user_feature = self.user_embedding_model.predict(x=[data['user_id'], data['book_id']]).reshape((data.shape[0], 32)).tolist()\n",
    "        user_df = pd.DataFrame(user_feature)\n",
    "        user_df = user_df.add_suffix('_user')\n",
    "        book_feature = self.book_embedding_model.predict(x=[data['user_id'], data['book_id']]).reshape((data.shape[0], 32)).tolist()\n",
    "        book_df = pd.DataFrame(book_feature)\n",
    "        book_df = book_df.add_suffix('_book')\n",
    "        data = data.drop(columns=['user_id', 'book_id'])\n",
    "        data = pd.concat([data, user_df, book_df], axis=1)\n",
    "        X = data.drop(columns=['book_rating'])\n",
    "        cat_features = ['book_author', 'location', 'category']\n",
    "        predictions = model_cat_boost.predict(X).tolist()\n",
    "        recommendations = pd.DataFrame({'book_id': data['book_id'], 'rating': predictions})\n",
    "        recommendations = recommendations.sort_values(by='rating')\n",
    "        return recommendations.head(n)['book_id'].tolist()\n",
    "    def get_user_history(self, user_id, n=10):\n",
    "        # sql запрос\n",
    "    def get_popular_books(self, n=10):\n",
    "        # sql запрос"
   ]
  }
 ],
 "metadata": {
  "kernelspec": {
   "display_name": "Python 3 (ipykernel)",
   "language": "python",
   "name": "python3"
  },
  "language_info": {
   "codemirror_mode": {
    "name": "ipython",
    "version": 3
   },
   "file_extension": ".py",
   "mimetype": "text/x-python",
   "name": "python",
   "nbconvert_exporter": "python",
   "pygments_lexer": "ipython3",
   "version": "3.10.6"
  }
 },
 "nbformat": 4,
 "nbformat_minor": 5
}
