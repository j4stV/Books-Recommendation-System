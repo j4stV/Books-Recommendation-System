{
 "cells": [
  {
   "cell_type": "code",
   "execution_count": 1,
   "id": "6a1e4f20",
   "metadata": {},
   "outputs": [],
   "source": [
    "import pandas as pd\n",
    "import numpy as np\n",
    "import seaborn as sns\n",
    "import matplotlib.pyplot as plt\n",
    "from tensorflow import keras\n",
    "from tensorflow import math\n",
    "from sklearn.model_selection import train_test_split\n",
    "from sklearn.preprocessing import LabelEncoder\n",
    "from sklearn.preprocessing import StandardScaler \n",
    "from sklearn.metrics import r2_score"
   ]
  },
  {
   "cell_type": "code",
   "execution_count": 2,
   "id": "31216e6d",
   "metadata": {},
   "outputs": [
    {
     "data": {
      "text/html": [
       "<div>\n",
       "<style scoped>\n",
       "    .dataframe tbody tr th:only-of-type {\n",
       "        vertical-align: middle;\n",
       "    }\n",
       "\n",
       "    .dataframe tbody tr th {\n",
       "        vertical-align: top;\n",
       "    }\n",
       "\n",
       "    .dataframe thead th {\n",
       "        text-align: right;\n",
       "    }\n",
       "</style>\n",
       "<table border=\"1\" class=\"dataframe\">\n",
       "  <thead>\n",
       "    <tr style=\"text-align: right;\">\n",
       "      <th></th>\n",
       "      <th>User-ID</th>\n",
       "      <th>Book-Rating</th>\n",
       "      <th>Book-Author</th>\n",
       "      <th>Year-Of-Publication</th>\n",
       "      <th>Location</th>\n",
       "      <th>Age</th>\n",
       "      <th>raw_title</th>\n",
       "      <th>categories</th>\n",
       "    </tr>\n",
       "  </thead>\n",
       "  <tbody>\n",
       "    <tr>\n",
       "      <th>0</th>\n",
       "      <td>2313</td>\n",
       "      <td>7</td>\n",
       "      <td>raybradbury</td>\n",
       "      <td>1984.0</td>\n",
       "      <td>usa</td>\n",
       "      <td>23.0</td>\n",
       "      <td>themartianchronicles</td>\n",
       "      <td>fiction</td>\n",
       "    </tr>\n",
       "    <tr>\n",
       "      <th>1</th>\n",
       "      <td>2313</td>\n",
       "      <td>8</td>\n",
       "      <td>johnokada</td>\n",
       "      <td>1978.0</td>\n",
       "      <td>usa</td>\n",
       "      <td>23.0</td>\n",
       "      <td>nonoboy</td>\n",
       "      <td>japanese</td>\n",
       "    </tr>\n",
       "    <tr>\n",
       "      <th>2</th>\n",
       "      <td>6543</td>\n",
       "      <td>8</td>\n",
       "      <td>raybradbury</td>\n",
       "      <td>1976.0</td>\n",
       "      <td>usa</td>\n",
       "      <td>34.0</td>\n",
       "      <td>fahrenheit451</td>\n",
       "      <td>bookburning</td>\n",
       "    </tr>\n",
       "    <tr>\n",
       "      <th>3</th>\n",
       "      <td>6543</td>\n",
       "      <td>9</td>\n",
       "      <td>jamespatterson</td>\n",
       "      <td>2001.0</td>\n",
       "      <td>usa</td>\n",
       "      <td>34.0</td>\n",
       "      <td>1sttodieanovel</td>\n",
       "      <td>fiction</td>\n",
       "    </tr>\n",
       "    <tr>\n",
       "      <th>4</th>\n",
       "      <td>6543</td>\n",
       "      <td>6</td>\n",
       "      <td>alexandermccallsmith</td>\n",
       "      <td>2002.0</td>\n",
       "      <td>usa</td>\n",
       "      <td>34.0</td>\n",
       "      <td>theno1ladiesdetectiveagency</td>\n",
       "      <td>botswana</td>\n",
       "    </tr>\n",
       "  </tbody>\n",
       "</table>\n",
       "</div>"
      ],
      "text/plain": [
       "   User-ID  Book-Rating           Book-Author  Year-Of-Publication Location   \n",
       "0     2313            7           raybradbury               1984.0      usa  \\\n",
       "1     2313            8             johnokada               1978.0      usa   \n",
       "2     6543            8           raybradbury               1976.0      usa   \n",
       "3     6543            9        jamespatterson               2001.0      usa   \n",
       "4     6543            6  alexandermccallsmith               2002.0      usa   \n",
       "\n",
       "    Age                    raw_title   categories  \n",
       "0  23.0         themartianchronicles      fiction  \n",
       "1  23.0                      nonoboy     japanese  \n",
       "2  34.0                fahrenheit451  bookburning  \n",
       "3  34.0               1sttodieanovel      fiction  \n",
       "4  34.0  theno1ladiesdetectiveagency     botswana  "
      ]
     },
     "execution_count": 2,
     "metadata": {},
     "output_type": "execute_result"
    }
   ],
   "source": [
    "data = pd.read_csv('data/preprocessed_data.csv')\n",
    "data.head(5)"
   ]
  },
  {
   "cell_type": "code",
   "execution_count": 3,
   "id": "2e8c3534",
   "metadata": {},
   "outputs": [],
   "source": [
    "data['Age'] = data['Age'].fillna(data['Age'].median())\n",
    "data['Year-Of-Publication'] = data['Year-Of-Publication'].fillna(data['Year-Of-Publication'].median())"
   ]
  },
  {
   "cell_type": "code",
   "execution_count": 4,
   "id": "e0708138",
   "metadata": {},
   "outputs": [
    {
     "data": {
      "text/html": [
       "<div>\n",
       "<style scoped>\n",
       "    .dataframe tbody tr th:only-of-type {\n",
       "        vertical-align: middle;\n",
       "    }\n",
       "\n",
       "    .dataframe tbody tr th {\n",
       "        vertical-align: top;\n",
       "    }\n",
       "\n",
       "    .dataframe thead th {\n",
       "        text-align: right;\n",
       "    }\n",
       "</style>\n",
       "<table border=\"1\" class=\"dataframe\">\n",
       "  <thead>\n",
       "    <tr style=\"text-align: right;\">\n",
       "      <th></th>\n",
       "      <th>User-ID</th>\n",
       "      <th>Book-Rating</th>\n",
       "      <th>Book-Author</th>\n",
       "      <th>Year-Of-Publication</th>\n",
       "      <th>Location</th>\n",
       "      <th>Age</th>\n",
       "      <th>raw_title</th>\n",
       "      <th>categories</th>\n",
       "    </tr>\n",
       "  </thead>\n",
       "  <tbody>\n",
       "    <tr>\n",
       "      <th>0</th>\n",
       "      <td>2313</td>\n",
       "      <td>7</td>\n",
       "      <td>raybradbury</td>\n",
       "      <td>-0.670241</td>\n",
       "      <td>usa</td>\n",
       "      <td>-1.171054</td>\n",
       "      <td>themartianchronicles</td>\n",
       "      <td>fiction</td>\n",
       "    </tr>\n",
       "    <tr>\n",
       "      <th>1</th>\n",
       "      <td>2313</td>\n",
       "      <td>8</td>\n",
       "      <td>johnokada</td>\n",
       "      <td>-1.207090</td>\n",
       "      <td>usa</td>\n",
       "      <td>-1.171054</td>\n",
       "      <td>nonoboy</td>\n",
       "      <td>japanese</td>\n",
       "    </tr>\n",
       "    <tr>\n",
       "      <th>2</th>\n",
       "      <td>6543</td>\n",
       "      <td>8</td>\n",
       "      <td>raybradbury</td>\n",
       "      <td>-1.386040</td>\n",
       "      <td>usa</td>\n",
       "      <td>-0.227732</td>\n",
       "      <td>fahrenheit451</td>\n",
       "      <td>bookburning</td>\n",
       "    </tr>\n",
       "    <tr>\n",
       "      <th>3</th>\n",
       "      <td>6543</td>\n",
       "      <td>9</td>\n",
       "      <td>jamespatterson</td>\n",
       "      <td>0.850831</td>\n",
       "      <td>usa</td>\n",
       "      <td>-0.227732</td>\n",
       "      <td>1sttodieanovel</td>\n",
       "      <td>fiction</td>\n",
       "    </tr>\n",
       "    <tr>\n",
       "      <th>4</th>\n",
       "      <td>6543</td>\n",
       "      <td>6</td>\n",
       "      <td>alexandermccallsmith</td>\n",
       "      <td>0.940306</td>\n",
       "      <td>usa</td>\n",
       "      <td>-0.227732</td>\n",
       "      <td>theno1ladiesdetectiveagency</td>\n",
       "      <td>botswana</td>\n",
       "    </tr>\n",
       "  </tbody>\n",
       "</table>\n",
       "</div>"
      ],
      "text/plain": [
       "   User-ID  Book-Rating           Book-Author  Year-Of-Publication Location   \n",
       "0     2313            7           raybradbury            -0.670241      usa  \\\n",
       "1     2313            8             johnokada            -1.207090      usa   \n",
       "2     6543            8           raybradbury            -1.386040      usa   \n",
       "3     6543            9        jamespatterson             0.850831      usa   \n",
       "4     6543            6  alexandermccallsmith             0.940306      usa   \n",
       "\n",
       "        Age                    raw_title   categories  \n",
       "0 -1.171054         themartianchronicles      fiction  \n",
       "1 -1.171054                      nonoboy     japanese  \n",
       "2 -0.227732                fahrenheit451  bookburning  \n",
       "3 -0.227732               1sttodieanovel      fiction  \n",
       "4 -0.227732  theno1ladiesdetectiveagency     botswana  "
      ]
     },
     "execution_count": 4,
     "metadata": {},
     "output_type": "execute_result"
    }
   ],
   "source": [
    "scaler = StandardScaler()\n",
    "data['Age'] = scaler.fit_transform(np.array(data['Age']).reshape(-1, 1))\n",
    "data['Year-Of-Publication'] = scaler.fit_transform(np.array(data['Year-Of-Publication']).reshape(-1, 1))\n",
    "data.head(5)"
   ]
  },
  {
   "cell_type": "code",
   "execution_count": 5,
   "id": "02f0f01a",
   "metadata": {},
   "outputs": [
    {
     "data": {
      "text/html": [
       "<div>\n",
       "<style scoped>\n",
       "    .dataframe tbody tr th:only-of-type {\n",
       "        vertical-align: middle;\n",
       "    }\n",
       "\n",
       "    .dataframe tbody tr th {\n",
       "        vertical-align: top;\n",
       "    }\n",
       "\n",
       "    .dataframe thead th {\n",
       "        text-align: right;\n",
       "    }\n",
       "</style>\n",
       "<table border=\"1\" class=\"dataframe\">\n",
       "  <thead>\n",
       "    <tr style=\"text-align: right;\">\n",
       "      <th></th>\n",
       "      <th>User-ID</th>\n",
       "      <th>raw_title</th>\n",
       "      <th>Book-Rating</th>\n",
       "      <th>Year-Of-Publication</th>\n",
       "      <th>Age</th>\n",
       "    </tr>\n",
       "  </thead>\n",
       "  <tbody>\n",
       "    <tr>\n",
       "      <th>0</th>\n",
       "      <td>2313</td>\n",
       "      <td>themartianchronicles</td>\n",
       "      <td>7</td>\n",
       "      <td>-0.670241</td>\n",
       "      <td>-1.171054</td>\n",
       "    </tr>\n",
       "    <tr>\n",
       "      <th>1</th>\n",
       "      <td>2313</td>\n",
       "      <td>nonoboy</td>\n",
       "      <td>8</td>\n",
       "      <td>-1.207090</td>\n",
       "      <td>-1.171054</td>\n",
       "    </tr>\n",
       "    <tr>\n",
       "      <th>2</th>\n",
       "      <td>6543</td>\n",
       "      <td>fahrenheit451</td>\n",
       "      <td>8</td>\n",
       "      <td>-1.386040</td>\n",
       "      <td>-0.227732</td>\n",
       "    </tr>\n",
       "    <tr>\n",
       "      <th>3</th>\n",
       "      <td>6543</td>\n",
       "      <td>1sttodieanovel</td>\n",
       "      <td>9</td>\n",
       "      <td>0.850831</td>\n",
       "      <td>-0.227732</td>\n",
       "    </tr>\n",
       "    <tr>\n",
       "      <th>4</th>\n",
       "      <td>6543</td>\n",
       "      <td>theno1ladiesdetectiveagency</td>\n",
       "      <td>6</td>\n",
       "      <td>0.940306</td>\n",
       "      <td>-0.227732</td>\n",
       "    </tr>\n",
       "  </tbody>\n",
       "</table>\n",
       "</div>"
      ],
      "text/plain": [
       "   User-ID                    raw_title  Book-Rating  Year-Of-Publication   \n",
       "0     2313         themartianchronicles            7            -0.670241  \\\n",
       "1     2313                      nonoboy            8            -1.207090   \n",
       "2     6543                fahrenheit451            8            -1.386040   \n",
       "3     6543               1sttodieanovel            9             0.850831   \n",
       "4     6543  theno1ladiesdetectiveagency            6             0.940306   \n",
       "\n",
       "        Age  \n",
       "0 -1.171054  \n",
       "1 -1.171054  \n",
       "2 -0.227732  \n",
       "3 -0.227732  \n",
       "4 -0.227732  "
      ]
     },
     "execution_count": 5,
     "metadata": {},
     "output_type": "execute_result"
    }
   ],
   "source": [
    "cut_data = data[['User-ID', 'raw_title', 'Book-Rating', 'Year-Of-Publication', 'Age']]\n",
    "cut_data.head(5)"
   ]
  },
  {
   "cell_type": "code",
   "execution_count": 6,
   "id": "546ca26f",
   "metadata": {},
   "outputs": [
    {
     "name": "stderr",
     "output_type": "stream",
     "text": [
      "C:\\Users\\79237\\AppData\\Local\\Temp\\ipykernel_2572\\2909744414.py:2: SettingWithCopyWarning: \n",
      "A value is trying to be set on a copy of a slice from a DataFrame.\n",
      "Try using .loc[row_indexer,col_indexer] = value instead\n",
      "\n",
      "See the caveats in the documentation: https://pandas.pydata.org/pandas-docs/stable/user_guide/indexing.html#returning-a-view-versus-a-copy\n",
      "  cut_data['raw_title'] = label_encoder.fit_transform(cut_data['raw_title'])\n"
     ]
    },
    {
     "data": {
      "text/html": [
       "<div>\n",
       "<style scoped>\n",
       "    .dataframe tbody tr th:only-of-type {\n",
       "        vertical-align: middle;\n",
       "    }\n",
       "\n",
       "    .dataframe tbody tr th {\n",
       "        vertical-align: top;\n",
       "    }\n",
       "\n",
       "    .dataframe thead th {\n",
       "        text-align: right;\n",
       "    }\n",
       "</style>\n",
       "<table border=\"1\" class=\"dataframe\">\n",
       "  <thead>\n",
       "    <tr style=\"text-align: right;\">\n",
       "      <th></th>\n",
       "      <th>User-ID</th>\n",
       "      <th>raw_title</th>\n",
       "      <th>Book-Rating</th>\n",
       "      <th>Year-Of-Publication</th>\n",
       "      <th>Age</th>\n",
       "    </tr>\n",
       "  </thead>\n",
       "  <tbody>\n",
       "    <tr>\n",
       "      <th>0</th>\n",
       "      <td>2313</td>\n",
       "      <td>11266</td>\n",
       "      <td>7</td>\n",
       "      <td>-0.670241</td>\n",
       "      <td>-1.171054</td>\n",
       "    </tr>\n",
       "    <tr>\n",
       "      <th>1</th>\n",
       "      <td>2313</td>\n",
       "      <td>7036</td>\n",
       "      <td>8</td>\n",
       "      <td>-1.207090</td>\n",
       "      <td>-1.171054</td>\n",
       "    </tr>\n",
       "    <tr>\n",
       "      <th>2</th>\n",
       "      <td>6543</td>\n",
       "      <td>3469</td>\n",
       "      <td>8</td>\n",
       "      <td>-1.386040</td>\n",
       "      <td>-0.227732</td>\n",
       "    </tr>\n",
       "    <tr>\n",
       "      <th>3</th>\n",
       "      <td>6543</td>\n",
       "      <td>39</td>\n",
       "      <td>9</td>\n",
       "      <td>0.850831</td>\n",
       "      <td>-0.227732</td>\n",
       "    </tr>\n",
       "    <tr>\n",
       "      <th>4</th>\n",
       "      <td>6543</td>\n",
       "      <td>11466</td>\n",
       "      <td>6</td>\n",
       "      <td>0.940306</td>\n",
       "      <td>-0.227732</td>\n",
       "    </tr>\n",
       "  </tbody>\n",
       "</table>\n",
       "</div>"
      ],
      "text/plain": [
       "   User-ID  raw_title  Book-Rating  Year-Of-Publication       Age\n",
       "0     2313      11266            7            -0.670241 -1.171054\n",
       "1     2313       7036            8            -1.207090 -1.171054\n",
       "2     6543       3469            8            -1.386040 -0.227732\n",
       "3     6543         39            9             0.850831 -0.227732\n",
       "4     6543      11466            6             0.940306 -0.227732"
      ]
     },
     "execution_count": 6,
     "metadata": {},
     "output_type": "execute_result"
    }
   ],
   "source": [
    "label_encoder = LabelEncoder()\n",
    "cut_data['raw_title'] = label_encoder.fit_transform(cut_data['raw_title'])\n",
    "cut_data.head(5)"
   ]
  },
  {
   "cell_type": "code",
   "execution_count": 7,
   "id": "27bc7358",
   "metadata": {},
   "outputs": [
    {
     "data": {
      "text/html": [
       "<div>\n",
       "<style scoped>\n",
       "    .dataframe tbody tr th:only-of-type {\n",
       "        vertical-align: middle;\n",
       "    }\n",
       "\n",
       "    .dataframe tbody tr th {\n",
       "        vertical-align: top;\n",
       "    }\n",
       "\n",
       "    .dataframe thead th {\n",
       "        text-align: right;\n",
       "    }\n",
       "</style>\n",
       "<table border=\"1\" class=\"dataframe\">\n",
       "  <thead>\n",
       "    <tr style=\"text-align: right;\">\n",
       "      <th></th>\n",
       "      <th>user-id</th>\n",
       "      <th>book-id</th>\n",
       "      <th>rating</th>\n",
       "      <th>year</th>\n",
       "      <th>age</th>\n",
       "    </tr>\n",
       "  </thead>\n",
       "  <tbody>\n",
       "    <tr>\n",
       "      <th>0</th>\n",
       "      <td>2313</td>\n",
       "      <td>11266</td>\n",
       "      <td>7</td>\n",
       "      <td>-0.670241</td>\n",
       "      <td>-1.171054</td>\n",
       "    </tr>\n",
       "    <tr>\n",
       "      <th>1</th>\n",
       "      <td>2313</td>\n",
       "      <td>7036</td>\n",
       "      <td>8</td>\n",
       "      <td>-1.207090</td>\n",
       "      <td>-1.171054</td>\n",
       "    </tr>\n",
       "    <tr>\n",
       "      <th>2</th>\n",
       "      <td>6543</td>\n",
       "      <td>3469</td>\n",
       "      <td>8</td>\n",
       "      <td>-1.386040</td>\n",
       "      <td>-0.227732</td>\n",
       "    </tr>\n",
       "    <tr>\n",
       "      <th>3</th>\n",
       "      <td>6543</td>\n",
       "      <td>39</td>\n",
       "      <td>9</td>\n",
       "      <td>0.850831</td>\n",
       "      <td>-0.227732</td>\n",
       "    </tr>\n",
       "    <tr>\n",
       "      <th>4</th>\n",
       "      <td>6543</td>\n",
       "      <td>11466</td>\n",
       "      <td>6</td>\n",
       "      <td>0.940306</td>\n",
       "      <td>-0.227732</td>\n",
       "    </tr>\n",
       "  </tbody>\n",
       "</table>\n",
       "</div>"
      ],
      "text/plain": [
       "   user-id  book-id  rating      year       age\n",
       "0     2313    11266       7 -0.670241 -1.171054\n",
       "1     2313     7036       8 -1.207090 -1.171054\n",
       "2     6543     3469       8 -1.386040 -0.227732\n",
       "3     6543       39       9  0.850831 -0.227732\n",
       "4     6543    11466       6  0.940306 -0.227732"
      ]
     },
     "execution_count": 7,
     "metadata": {},
     "output_type": "execute_result"
    }
   ],
   "source": [
    "cut_data = cut_data.rename(columns={'User-ID': 'user-id', 'raw_title': 'book-id', 'Book-Rating': 'rating', 'Age': 'age', 'Year-Of-Publication': 'year'})\n",
    "cut_data.head(5)"
   ]
  },
  {
   "cell_type": "code",
   "execution_count": 8,
   "id": "da1fb137",
   "metadata": {},
   "outputs": [
    {
     "data": {
      "text/html": [
       "<div>\n",
       "<style scoped>\n",
       "    .dataframe tbody tr th:only-of-type {\n",
       "        vertical-align: middle;\n",
       "    }\n",
       "\n",
       "    .dataframe tbody tr th {\n",
       "        vertical-align: top;\n",
       "    }\n",
       "\n",
       "    .dataframe thead th {\n",
       "        text-align: right;\n",
       "    }\n",
       "</style>\n",
       "<table border=\"1\" class=\"dataframe\">\n",
       "  <thead>\n",
       "    <tr style=\"text-align: right;\">\n",
       "      <th></th>\n",
       "      <th>user-id</th>\n",
       "      <th>book-id</th>\n",
       "      <th>rating</th>\n",
       "      <th>year</th>\n",
       "      <th>age</th>\n",
       "    </tr>\n",
       "  </thead>\n",
       "  <tbody>\n",
       "    <tr>\n",
       "      <th>0</th>\n",
       "      <td>2313</td>\n",
       "      <td>11266</td>\n",
       "      <td>7.0</td>\n",
       "      <td>-0.670241</td>\n",
       "      <td>-1.171054</td>\n",
       "    </tr>\n",
       "    <tr>\n",
       "      <th>1</th>\n",
       "      <td>2313</td>\n",
       "      <td>7036</td>\n",
       "      <td>8.0</td>\n",
       "      <td>-1.207090</td>\n",
       "      <td>-1.171054</td>\n",
       "    </tr>\n",
       "    <tr>\n",
       "      <th>2</th>\n",
       "      <td>6543</td>\n",
       "      <td>3469</td>\n",
       "      <td>8.0</td>\n",
       "      <td>-1.386040</td>\n",
       "      <td>-0.227732</td>\n",
       "    </tr>\n",
       "    <tr>\n",
       "      <th>3</th>\n",
       "      <td>6543</td>\n",
       "      <td>39</td>\n",
       "      <td>9.0</td>\n",
       "      <td>0.850831</td>\n",
       "      <td>-0.227732</td>\n",
       "    </tr>\n",
       "    <tr>\n",
       "      <th>4</th>\n",
       "      <td>6543</td>\n",
       "      <td>11466</td>\n",
       "      <td>6.0</td>\n",
       "      <td>0.940306</td>\n",
       "      <td>-0.227732</td>\n",
       "    </tr>\n",
       "  </tbody>\n",
       "</table>\n",
       "</div>"
      ],
      "text/plain": [
       "   user-id  book-id  rating      year       age\n",
       "0     2313    11266     7.0 -0.670241 -1.171054\n",
       "1     2313     7036     8.0 -1.207090 -1.171054\n",
       "2     6543     3469     8.0 -1.386040 -0.227732\n",
       "3     6543       39     9.0  0.850831 -0.227732\n",
       "4     6543    11466     6.0  0.940306 -0.227732"
      ]
     },
     "execution_count": 8,
     "metadata": {},
     "output_type": "execute_result"
    }
   ],
   "source": [
    "cut_data['rating'] = cut_data['rating'].astype(float)\n",
    "cut_data.head(5)"
   ]
  },
  {
   "cell_type": "code",
   "execution_count": 9,
   "id": "56451ea4",
   "metadata": {},
   "outputs": [],
   "source": [
    "X = cut_data[['user-id', 'book-id', 'year', 'age']]\n",
    "y = cut_data['rating']"
   ]
  },
  {
   "cell_type": "code",
   "execution_count": 10,
   "id": "c72479fe",
   "metadata": {},
   "outputs": [],
   "source": [
    "X_train, X_test, y_train, y_test = train_test_split(X, y, test_size=0.2, random_state=42)"
   ]
  },
  {
   "cell_type": "code",
   "execution_count": 11,
   "id": "d153e167",
   "metadata": {},
   "outputs": [],
   "source": [
    "all_users = X_train['user-id'].unique()\n",
    "all_books = X_train['book-id'].unique()"
   ]
  },
  {
   "cell_type": "code",
   "execution_count": 12,
   "id": "e23ae42a",
   "metadata": {},
   "outputs": [],
   "source": [
    "user_input = keras.layers.Input(shape=(1,), name=\"User\")\n",
    "user_as_integer = keras.layers.IntegerLookup(vocabulary=all_users)(user_input)\n",
    "user_embedding = keras.layers.Embedding(input_dim=len(all_users) + 1, output_dim=32, embeddings_regularizer=keras.regularizers.l2(0.1))(user_as_integer)\n",
    "user_bias = keras.layers.Embedding(input_dim=len(all_users) + 1, output_dim=1)(user_as_integer)"
   ]
  },
  {
   "cell_type": "code",
   "execution_count": 13,
   "id": "b529457e",
   "metadata": {},
   "outputs": [],
   "source": [
    "book_input = keras.layers.Input(shape=(1,), name=\"Book\")\n",
    "book_as_integer = keras.layers.IntegerLookup(vocabulary=all_books)(book_input)\n",
    "book_embedding = keras.layers.Embedding(input_dim=len(all_books) + 1, output_dim=32, embeddings_regularizer=keras.regularizers.l2(0.1))(book_as_integer)\n",
    "book_bias = keras.layers.Embedding(input_dim=len(all_books) + 1, output_dim=1)(book_as_integer)"
   ]
  },
  {
   "cell_type": "code",
   "execution_count": 14,
   "id": "be3580b6",
   "metadata": {},
   "outputs": [],
   "source": [
    "year_input = keras.layers.Input(shape=(1,), name=\"Year\")\n",
    "year_dense = keras.layers.Dense(1, activation='relu')(year_input)"
   ]
  },
  {
   "cell_type": "code",
   "execution_count": 15,
   "id": "3d5b8dfb",
   "metadata": {},
   "outputs": [],
   "source": [
    "age_input = keras.layers.Input(shape=(1,), name=\"Age\")\n",
    "age_dense = keras.layers.Dense(1, activation='relu')(age_input)"
   ]
  },
  {
   "cell_type": "code",
   "execution_count": 16,
   "id": "abba4f33",
   "metadata": {},
   "outputs": [],
   "source": [
    "dot_product = keras.layers.Dot(axes=-1)([user_embedding, book_embedding])\n",
    "add = keras.layers.Add()([dot_product, user_bias, book_bias, year_dense, age_dense])\n",
    "flatten = keras.layers.Flatten()(add)"
   ]
  },
  {
   "cell_type": "code",
   "execution_count": 17,
   "id": "b70c3ef6",
   "metadata": {},
   "outputs": [
    {
     "name": "stdout",
     "output_type": "stream",
     "text": [
      "WARNING:tensorflow:From C:\\Users\\79237\\AppData\\Local\\Programs\\Python\\Python310\\lib\\site-packages\\keras\\src\\backend\\tensorflow\\core.py:188: The name tf.placeholder is deprecated. Please use tf.compat.v1.placeholder instead.\n",
      "\n"
     ]
    }
   ],
   "source": [
    "output = keras.layers.Lambda(lambda x: 9 * math.sigmoid(x) + 1, name=\"Rating\")(flatten)"
   ]
  },
  {
   "cell_type": "code",
   "execution_count": 19,
   "id": "b2fe630f",
   "metadata": {},
   "outputs": [],
   "source": [
    "model = keras.Model(inputs=[user_input, book_input, year_input, age_input], outputs=output)\n",
    "model.compile(loss=\"mse\", metrics=[keras.metrics.RootMeanSquaredError])"
   ]
  },
  {
   "cell_type": "code",
   "execution_count": 20,
   "id": "638b8198",
   "metadata": {},
   "outputs": [],
   "source": [
    "#keras.utils.plot_model(model, to_file=\"model.png\", show_shapes=True)\n",
    "#model.save(\"model.keras\")"
   ]
  },
  {
   "cell_type": "code",
   "execution_count": 21,
   "id": "96758db7",
   "metadata": {},
   "outputs": [
    {
     "name": "stdout",
     "output_type": "stream",
     "text": [
      "Epoch 1/50\n",
      "\u001b[1m196/196\u001b[0m \u001b[32m━━━━━━━━━━━━━━━━━━━━\u001b[0m\u001b[37m\u001b[0m \u001b[1m6s\u001b[0m 14ms/step - loss: 21.4024 - root_mean_squared_error: 2.4902 - val_loss: 5.0526 - val_root_mean_squared_error: 2.2490\n",
      "Epoch 2/50\n",
      "\u001b[1m196/196\u001b[0m \u001b[32m━━━━━━━━━━━━━━━━━━━━\u001b[0m\u001b[37m\u001b[0m \u001b[1m2s\u001b[0m 11ms/step - loss: 4.5154 - root_mean_squared_error: 2.1245 - val_loss: 3.8902 - val_root_mean_squared_error: 1.9734\n",
      "Epoch 3/50\n",
      "\u001b[1m196/196\u001b[0m \u001b[32m━━━━━━━━━━━━━━━━━━━━\u001b[0m\u001b[37m\u001b[0m \u001b[1m2s\u001b[0m 11ms/step - loss: 3.4946 - root_mean_squared_error: 1.8693 - val_loss: 3.3889 - val_root_mean_squared_error: 1.8420\n",
      "Epoch 4/50\n",
      "\u001b[1m196/196\u001b[0m \u001b[32m━━━━━━━━━━━━━━━━━━━━\u001b[0m\u001b[37m\u001b[0m \u001b[1m2s\u001b[0m 11ms/step - loss: 3.1493 - root_mean_squared_error: 1.7746 - val_loss: 3.2174 - val_root_mean_squared_error: 1.7947\n",
      "Epoch 5/50\n",
      "\u001b[1m196/196\u001b[0m \u001b[32m━━━━━━━━━━━━━━━━━━━━\u001b[0m\u001b[37m\u001b[0m \u001b[1m2s\u001b[0m 12ms/step - loss: 3.0206 - root_mean_squared_error: 1.7379 - val_loss: 3.1618 - val_root_mean_squared_error: 1.7790\n",
      "Epoch 6/50\n",
      "\u001b[1m196/196\u001b[0m \u001b[32m━━━━━━━━━━━━━━━━━━━━\u001b[0m\u001b[37m\u001b[0m \u001b[1m2s\u001b[0m 12ms/step - loss: 2.9275 - root_mean_squared_error: 1.7110 - val_loss: 3.1331 - val_root_mean_squared_error: 1.7709\n",
      "Epoch 7/50\n",
      "\u001b[1m196/196\u001b[0m \u001b[32m━━━━━━━━━━━━━━━━━━━━\u001b[0m\u001b[37m\u001b[0m \u001b[1m2s\u001b[0m 11ms/step - loss: 2.8830 - root_mean_squared_error: 1.6979 - val_loss: 3.1084 - val_root_mean_squared_error: 1.7639\n",
      "Epoch 8/50\n",
      "\u001b[1m196/196\u001b[0m \u001b[32m━━━━━━━━━━━━━━━━━━━━\u001b[0m\u001b[37m\u001b[0m \u001b[1m2s\u001b[0m 11ms/step - loss: 2.8241 - root_mean_squared_error: 1.6805 - val_loss: 3.0887 - val_root_mean_squared_error: 1.7583\n",
      "Epoch 9/50\n",
      "\u001b[1m196/196\u001b[0m \u001b[32m━━━━━━━━━━━━━━━━━━━━\u001b[0m\u001b[37m\u001b[0m \u001b[1m2s\u001b[0m 11ms/step - loss: 2.7932 - root_mean_squared_error: 1.6713 - val_loss: 3.0693 - val_root_mean_squared_error: 1.7528\n",
      "Epoch 10/50\n",
      "\u001b[1m196/196\u001b[0m \u001b[32m━━━━━━━━━━━━━━━━━━━━\u001b[0m\u001b[37m\u001b[0m \u001b[1m2s\u001b[0m 12ms/step - loss: 2.7195 - root_mean_squared_error: 1.6490 - val_loss: 3.0541 - val_root_mean_squared_error: 1.7484\n",
      "Epoch 11/50\n",
      "\u001b[1m196/196\u001b[0m \u001b[32m━━━━━━━━━━━━━━━━━━━━\u001b[0m\u001b[37m\u001b[0m \u001b[1m2s\u001b[0m 11ms/step - loss: 2.7197 - root_mean_squared_error: 1.6491 - val_loss: 3.0374 - val_root_mean_squared_error: 1.7436\n",
      "Epoch 12/50\n",
      "\u001b[1m196/196\u001b[0m \u001b[32m━━━━━━━━━━━━━━━━━━━━\u001b[0m\u001b[37m\u001b[0m \u001b[1m2s\u001b[0m 11ms/step - loss: 2.7001 - root_mean_squared_error: 1.6432 - val_loss: 3.0240 - val_root_mean_squared_error: 1.7397\n",
      "Epoch 13/50\n",
      "\u001b[1m196/196\u001b[0m \u001b[32m━━━━━━━━━━━━━━━━━━━━\u001b[0m\u001b[37m\u001b[0m \u001b[1m2s\u001b[0m 11ms/step - loss: 2.6852 - root_mean_squared_error: 1.6386 - val_loss: 3.0150 - val_root_mean_squared_error: 1.7371\n",
      "Epoch 14/50\n",
      "\u001b[1m196/196\u001b[0m \u001b[32m━━━━━━━━━━━━━━━━━━━━\u001b[0m\u001b[37m\u001b[0m \u001b[1m2s\u001b[0m 11ms/step - loss: 2.6108 - root_mean_squared_error: 1.6158 - val_loss: 3.0037 - val_root_mean_squared_error: 1.7339\n",
      "Epoch 15/50\n",
      "\u001b[1m196/196\u001b[0m \u001b[32m━━━━━━━━━━━━━━━━━━━━\u001b[0m\u001b[37m\u001b[0m \u001b[1m2s\u001b[0m 11ms/step - loss: 2.5500 - root_mean_squared_error: 1.5967 - val_loss: 2.9943 - val_root_mean_squared_error: 1.7311\n",
      "Epoch 16/50\n",
      "\u001b[1m196/196\u001b[0m \u001b[32m━━━━━━━━━━━━━━━━━━━━\u001b[0m\u001b[37m\u001b[0m \u001b[1m2s\u001b[0m 11ms/step - loss: 2.5695 - root_mean_squared_error: 1.6029 - val_loss: 2.9860 - val_root_mean_squared_error: 1.7287\n",
      "Epoch 17/50\n",
      "\u001b[1m196/196\u001b[0m \u001b[32m━━━━━━━━━━━━━━━━━━━━\u001b[0m\u001b[37m\u001b[0m \u001b[1m2s\u001b[0m 11ms/step - loss: 2.5440 - root_mean_squared_error: 1.5949 - val_loss: 2.9768 - val_root_mean_squared_error: 1.7260\n",
      "Epoch 18/50\n",
      "\u001b[1m196/196\u001b[0m \u001b[32m━━━━━━━━━━━━━━━━━━━━\u001b[0m\u001b[37m\u001b[0m \u001b[1m2s\u001b[0m 11ms/step - loss: 2.4892 - root_mean_squared_error: 1.5777 - val_loss: 2.9727 - val_root_mean_squared_error: 1.7248\n",
      "Epoch 19/50\n",
      "\u001b[1m196/196\u001b[0m \u001b[32m━━━━━━━━━━━━━━━━━━━━\u001b[0m\u001b[37m\u001b[0m \u001b[1m2s\u001b[0m 11ms/step - loss: 2.4578 - root_mean_squared_error: 1.5677 - val_loss: 2.9650 - val_root_mean_squared_error: 1.7226\n",
      "Epoch 20/50\n",
      "\u001b[1m196/196\u001b[0m \u001b[32m━━━━━━━━━━━━━━━━━━━━\u001b[0m\u001b[37m\u001b[0m \u001b[1m2s\u001b[0m 11ms/step - loss: 2.5090 - root_mean_squared_error: 1.5839 - val_loss: 2.9615 - val_root_mean_squared_error: 1.7216\n",
      "Epoch 21/50\n",
      "\u001b[1m196/196\u001b[0m \u001b[32m━━━━━━━━━━━━━━━━━━━━\u001b[0m\u001b[37m\u001b[0m \u001b[1m2s\u001b[0m 11ms/step - loss: 2.4421 - root_mean_squared_error: 1.5627 - val_loss: 2.9527 - val_root_mean_squared_error: 1.7190\n",
      "Epoch 22/50\n",
      "\u001b[1m196/196\u001b[0m \u001b[32m━━━━━━━━━━━━━━━━━━━━\u001b[0m\u001b[37m\u001b[0m \u001b[1m2s\u001b[0m 11ms/step - loss: 2.4188 - root_mean_squared_error: 1.5552 - val_loss: 2.9471 - val_root_mean_squared_error: 1.7174\n",
      "Epoch 23/50\n",
      "\u001b[1m196/196\u001b[0m \u001b[32m━━━━━━━━━━━━━━━━━━━━\u001b[0m\u001b[37m\u001b[0m \u001b[1m2s\u001b[0m 11ms/step - loss: 2.3912 - root_mean_squared_error: 1.5463 - val_loss: 2.9438 - val_root_mean_squared_error: 1.7164\n",
      "Epoch 24/50\n",
      "\u001b[1m196/196\u001b[0m \u001b[32m━━━━━━━━━━━━━━━━━━━━\u001b[0m\u001b[37m\u001b[0m \u001b[1m2s\u001b[0m 11ms/step - loss: 2.3655 - root_mean_squared_error: 1.5380 - val_loss: 2.9390 - val_root_mean_squared_error: 1.7150\n",
      "Epoch 25/50\n",
      "\u001b[1m196/196\u001b[0m \u001b[32m━━━━━━━━━━━━━━━━━━━━\u001b[0m\u001b[37m\u001b[0m \u001b[1m2s\u001b[0m 11ms/step - loss: 2.3713 - root_mean_squared_error: 1.5399 - val_loss: 2.9402 - val_root_mean_squared_error: 1.7153\n",
      "Epoch 26/50\n",
      "\u001b[1m196/196\u001b[0m \u001b[32m━━━━━━━━━━━━━━━━━━━━\u001b[0m\u001b[37m\u001b[0m \u001b[1m2s\u001b[0m 11ms/step - loss: 2.3461 - root_mean_squared_error: 1.5317 - val_loss: 2.9342 - val_root_mean_squared_error: 1.7136\n",
      "Epoch 27/50\n",
      "\u001b[1m196/196\u001b[0m \u001b[32m━━━━━━━━━━━━━━━━━━━━\u001b[0m\u001b[37m\u001b[0m \u001b[1m2s\u001b[0m 11ms/step - loss: 2.3423 - root_mean_squared_error: 1.5302 - val_loss: 2.9308 - val_root_mean_squared_error: 1.7126\n",
      "Epoch 28/50\n",
      "\u001b[1m196/196\u001b[0m \u001b[32m━━━━━━━━━━━━━━━━━━━━\u001b[0m\u001b[37m\u001b[0m \u001b[1m2s\u001b[0m 11ms/step - loss: 2.3318 - root_mean_squared_error: 1.5269 - val_loss: 2.9260 - val_root_mean_squared_error: 1.7111\n",
      "Epoch 29/50\n",
      "\u001b[1m196/196\u001b[0m \u001b[32m━━━━━━━━━━━━━━━━━━━━\u001b[0m\u001b[37m\u001b[0m \u001b[1m2s\u001b[0m 11ms/step - loss: 2.2913 - root_mean_squared_error: 1.5136 - val_loss: 2.9256 - val_root_mean_squared_error: 1.7110\n",
      "Epoch 30/50\n",
      "\u001b[1m196/196\u001b[0m \u001b[32m━━━━━━━━━━━━━━━━━━━━\u001b[0m\u001b[37m\u001b[0m \u001b[1m2s\u001b[0m 11ms/step - loss: 2.2852 - root_mean_squared_error: 1.5116 - val_loss: 2.9214 - val_root_mean_squared_error: 1.7098\n",
      "Epoch 31/50\n",
      "\u001b[1m196/196\u001b[0m \u001b[32m━━━━━━━━━━━━━━━━━━━━\u001b[0m\u001b[37m\u001b[0m \u001b[1m2s\u001b[0m 11ms/step - loss: 2.2293 - root_mean_squared_error: 1.4930 - val_loss: 2.9227 - val_root_mean_squared_error: 1.7102\n",
      "Epoch 32/50\n",
      "\u001b[1m196/196\u001b[0m \u001b[32m━━━━━━━━━━━━━━━━━━━━\u001b[0m\u001b[37m\u001b[0m \u001b[1m2s\u001b[0m 11ms/step - loss: 2.2627 - root_mean_squared_error: 1.5042 - val_loss: 2.9149 - val_root_mean_squared_error: 1.7079\n",
      "Epoch 33/50\n",
      "\u001b[1m196/196\u001b[0m \u001b[32m━━━━━━━━━━━━━━━━━━━━\u001b[0m\u001b[37m\u001b[0m \u001b[1m2s\u001b[0m 11ms/step - loss: 2.2251 - root_mean_squared_error: 1.4917 - val_loss: 2.9175 - val_root_mean_squared_error: 1.7086\n",
      "Epoch 34/50\n",
      "\u001b[1m196/196\u001b[0m \u001b[32m━━━━━━━━━━━━━━━━━━━━\u001b[0m\u001b[37m\u001b[0m \u001b[1m2s\u001b[0m 11ms/step - loss: 2.1752 - root_mean_squared_error: 1.4748 - val_loss: 2.9190 - val_root_mean_squared_error: 1.7091\n",
      "Epoch 35/50\n",
      "\u001b[1m196/196\u001b[0m \u001b[32m━━━━━━━━━━━━━━━━━━━━\u001b[0m\u001b[37m\u001b[0m \u001b[1m2s\u001b[0m 11ms/step - loss: 2.2018 - root_mean_squared_error: 1.4838 - val_loss: 2.9145 - val_root_mean_squared_error: 1.7077\n",
      "Epoch 36/50\n",
      "\u001b[1m196/196\u001b[0m \u001b[32m━━━━━━━━━━━━━━━━━━━━\u001b[0m\u001b[37m\u001b[0m \u001b[1m2s\u001b[0m 11ms/step - loss: 2.1657 - root_mean_squared_error: 1.4716 - val_loss: 2.9093 - val_root_mean_squared_error: 1.7062\n",
      "Epoch 37/50\n",
      "\u001b[1m196/196\u001b[0m \u001b[32m━━━━━━━━━━━━━━━━━━━━\u001b[0m\u001b[37m\u001b[0m \u001b[1m2s\u001b[0m 11ms/step - loss: 2.1763 - root_mean_squared_error: 1.4751 - val_loss: 2.9139 - val_root_mean_squared_error: 1.7076\n",
      "Epoch 38/50\n",
      "\u001b[1m196/196\u001b[0m \u001b[32m━━━━━━━━━━━━━━━━━━━━\u001b[0m\u001b[37m\u001b[0m \u001b[1m2s\u001b[0m 11ms/step - loss: 2.1382 - root_mean_squared_error: 1.4622 - val_loss: 2.9144 - val_root_mean_squared_error: 1.7077\n",
      "Epoch 39/50\n",
      "\u001b[1m196/196\u001b[0m \u001b[32m━━━━━━━━━━━━━━━━━━━━\u001b[0m\u001b[37m\u001b[0m \u001b[1m2s\u001b[0m 11ms/step - loss: 2.1646 - root_mean_squared_error: 1.4712 - val_loss: 2.9105 - val_root_mean_squared_error: 1.7065\n",
      "Epoch 40/50\n",
      "\u001b[1m196/196\u001b[0m \u001b[32m━━━━━━━━━━━━━━━━━━━━\u001b[0m\u001b[37m\u001b[0m \u001b[1m2s\u001b[0m 11ms/step - loss: 2.1613 - root_mean_squared_error: 1.4701 - val_loss: 2.9068 - val_root_mean_squared_error: 1.7054\n",
      "Epoch 41/50\n",
      "\u001b[1m196/196\u001b[0m \u001b[32m━━━━━━━━━━━━━━━━━━━━\u001b[0m\u001b[37m\u001b[0m \u001b[1m2s\u001b[0m 11ms/step - loss: 2.1213 - root_mean_squared_error: 1.4563 - val_loss: 2.9126 - val_root_mean_squared_error: 1.7072\n",
      "Epoch 42/50\n",
      "\u001b[1m196/196\u001b[0m \u001b[32m━━━━━━━━━━━━━━━━━━━━\u001b[0m\u001b[37m\u001b[0m \u001b[1m2s\u001b[0m 11ms/step - loss: 2.0941 - root_mean_squared_error: 1.4471 - val_loss: 2.9079 - val_root_mean_squared_error: 1.7058\n",
      "Epoch 43/50\n"
     ]
    },
    {
     "name": "stdout",
     "output_type": "stream",
     "text": [
      "\u001b[1m196/196\u001b[0m \u001b[32m━━━━━━━━━━━━━━━━━━━━\u001b[0m\u001b[37m\u001b[0m \u001b[1m2s\u001b[0m 11ms/step - loss: 2.1282 - root_mean_squared_error: 1.4587 - val_loss: 2.9079 - val_root_mean_squared_error: 1.7058\n",
      "Epoch 44/50\n",
      "\u001b[1m196/196\u001b[0m \u001b[32m━━━━━━━━━━━━━━━━━━━━\u001b[0m\u001b[37m\u001b[0m \u001b[1m2s\u001b[0m 11ms/step - loss: 2.1122 - root_mean_squared_error: 1.4533 - val_loss: 2.9078 - val_root_mean_squared_error: 1.7058\n",
      "Epoch 45/50\n",
      "\u001b[1m196/196\u001b[0m \u001b[32m━━━━━━━━━━━━━━━━━━━━\u001b[0m\u001b[37m\u001b[0m \u001b[1m2s\u001b[0m 11ms/step - loss: 2.0726 - root_mean_squared_error: 1.4396 - val_loss: 2.9073 - val_root_mean_squared_error: 1.7056\n",
      "Epoch 46/50\n",
      "\u001b[1m196/196\u001b[0m \u001b[32m━━━━━━━━━━━━━━━━━━━━\u001b[0m\u001b[37m\u001b[0m \u001b[1m2s\u001b[0m 11ms/step - loss: 2.0838 - root_mean_squared_error: 1.4435 - val_loss: 2.9032 - val_root_mean_squared_error: 1.7044\n",
      "Epoch 47/50\n",
      "\u001b[1m196/196\u001b[0m \u001b[32m━━━━━━━━━━━━━━━━━━━━\u001b[0m\u001b[37m\u001b[0m \u001b[1m2s\u001b[0m 11ms/step - loss: 2.0980 - root_mean_squared_error: 1.4484 - val_loss: 2.9026 - val_root_mean_squared_error: 1.7042\n",
      "Epoch 48/50\n",
      "\u001b[1m196/196\u001b[0m \u001b[32m━━━━━━━━━━━━━━━━━━━━\u001b[0m\u001b[37m\u001b[0m \u001b[1m2s\u001b[0m 11ms/step - loss: 2.0406 - root_mean_squared_error: 1.4284 - val_loss: 2.9085 - val_root_mean_squared_error: 1.7059\n",
      "Epoch 49/50\n",
      "\u001b[1m196/196\u001b[0m \u001b[32m━━━━━━━━━━━━━━━━━━━━\u001b[0m\u001b[37m\u001b[0m \u001b[1m2s\u001b[0m 11ms/step - loss: 2.0486 - root_mean_squared_error: 1.4313 - val_loss: 2.9117 - val_root_mean_squared_error: 1.7069\n",
      "Epoch 50/50\n",
      "\u001b[1m196/196\u001b[0m \u001b[32m━━━━━━━━━━━━━━━━━━━━\u001b[0m\u001b[37m\u001b[0m \u001b[1m2s\u001b[0m 11ms/step - loss: 2.0350 - root_mean_squared_error: 1.4265 - val_loss: 2.9094 - val_root_mean_squared_error: 1.7062\n"
     ]
    }
   ],
   "source": [
    "history = model.fit(x=[X_train['user-id'], X_train['book-id'], X_train['year'], X_train['age']], y=y_train, batch_size=256, epochs=50, validation_split=0.1)"
   ]
  },
  {
   "cell_type": "code",
   "execution_count": 20,
   "id": "0b777982",
   "metadata": {},
   "outputs": [
    {
     "data": {
      "image/png": "[encoded data removed]",
      "text/plain": [
       "<Figure size 1000x600 with 1 Axes>"
      ]
     },
     "metadata": {},
     "output_type": "display_data"
    }
   ],
   "source": [
    "history_df = pd.DataFrame({'loss': history.history['loss'], 'val_loss': history.history['val_loss']}).reset_index(drop=False).rename(columns={'index': 'epoch'})\n",
    "plt.figure(figsize=(10, 6))\n",
    "sns.lineplot(x=history_df['epoch'], y=history_df['loss'], label='Training Loss')\n",
    "sns.lineplot(x=history_df['epoch'], y=history_df['val_loss'], label='Validation Loss')\n",
    "plt.title('Training and Validation Loss')\n",
    "plt.xlabel('Epoch')\n",
    "plt.ylabel('Loss')\n",
    "plt.legend()\n",
    "plt.show()"
   ]
  },
  {
   "cell_type": "code",
   "execution_count": 21,
   "id": "1c3391ac",
   "metadata": {},
   "outputs": [
    {
     "name": "stdout",
     "output_type": "stream",
     "text": [
      "\u001b[1m436/436\u001b[0m \u001b[32m━━━━━━━━━━━━━━━━━━━━\u001b[0m\u001b[37m\u001b[0m \u001b[1m1s\u001b[0m 3ms/step - loss: 2.7130 - root_mean_squared_error: 1.6468\n"
     ]
    }
   ],
   "source": [
    "test_scores = model.evaluate(x=[X_test['user-id'], X_test['book-id'], X_test['year'], X_test['age']], y=y_test)"
   ]
  },
  {
   "cell_type": "code",
   "execution_count": 22,
   "id": "967bbfc8",
   "metadata": {},
   "outputs": [
    {
     "name": "stdout",
     "output_type": "stream",
     "text": [
      "\u001b[1m436/436\u001b[0m \u001b[32m━━━━━━━━━━━━━━━━━━━━\u001b[0m\u001b[37m\u001b[0m \u001b[1m2s\u001b[0m 3ms/step\n"
     ]
    },
    {
     "data": {
      "text/plain": [
       "0.1561574213770962"
      ]
     },
     "execution_count": 22,
     "metadata": {},
     "output_type": "execute_result"
    }
   ],
   "source": [
    "r2_score(y_test, np.ravel(model.predict([X_test['user-id'], X_test['book-id'], X_test['year'], X_test['age']])))"
   ]
  }
 ],
 "metadata": {
  "kernelspec": {
   "display_name": "Python 3 (ipykernel)",
   "language": "python",
   "name": "python3"
  },
  "language_info": {
   "codemirror_mode": {
    "name": "ipython",
    "version": 3
   },
   "file_extension": ".py",
   "mimetype": "text/x-python",
   "name": "python",
   "nbconvert_exporter": "python",
   "pygments_lexer": "ipython3",
   "version": "3.10.6"
  }
 },
 "nbformat": 4,
 "nbformat_minor": 5
}
