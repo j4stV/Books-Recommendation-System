{
 "cells": [
  {
   "cell_type": "code",
   "execution_count": 1,
   "id": "6a1e4f20",
   "metadata": {},
   "outputs": [],
   "source": [
    "import pandas as pd\n",
    "import numpy as np\n",
    "import seaborn as sns\n",
    "import matplotlib.pyplot as plt\n",
    "from tensorflow import keras\n",
    "from tensorflow import math\n",
    "from sklearn.model_selection import train_test_split\n",
    "from sklearn.preprocessing import LabelEncoder\n",
    "from sklearn.preprocessing import StandardScaler \n",
    "from sklearn.metrics import r2_score"
   ]
  },
  {
   "cell_type": "code",
   "execution_count": 2,
   "id": "31216e6d",
   "metadata": {},
   "outputs": [
    {
     "data": {
      "text/html": [
       "<div>\n",
       "<style scoped>\n",
       "    .dataframe tbody tr th:only-of-type {\n",
       "        vertical-align: middle;\n",
       "    }\n",
       "\n",
       "    .dataframe tbody tr th {\n",
       "        vertical-align: top;\n",
       "    }\n",
       "\n",
       "    .dataframe thead th {\n",
       "        text-align: right;\n",
       "    }\n",
       "</style>\n",
       "<table border=\"1\" class=\"dataframe\">\n",
       "  <thead>\n",
       "    <tr style=\"text-align: right;\">\n",
       "      <th></th>\n",
       "      <th>User-ID</th>\n",
       "      <th>Book-Rating</th>\n",
       "      <th>Book-Author</th>\n",
       "      <th>Year-Of-Publication</th>\n",
       "      <th>Location</th>\n",
       "      <th>Age</th>\n",
       "      <th>raw_title</th>\n",
       "      <th>categories</th>\n",
       "    </tr>\n",
       "  </thead>\n",
       "  <tbody>\n",
       "    <tr>\n",
       "      <th>0</th>\n",
       "      <td>2313</td>\n",
       "      <td>7</td>\n",
       "      <td>raybradbury</td>\n",
       "      <td>1984.0</td>\n",
       "      <td>usa</td>\n",
       "      <td>23.0</td>\n",
       "      <td>themartianchronicles</td>\n",
       "      <td>fiction</td>\n",
       "    </tr>\n",
       "    <tr>\n",
       "      <th>1</th>\n",
       "      <td>2313</td>\n",
       "      <td>8</td>\n",
       "      <td>johnokada</td>\n",
       "      <td>1978.0</td>\n",
       "      <td>usa</td>\n",
       "      <td>23.0</td>\n",
       "      <td>nonoboy</td>\n",
       "      <td>japanese</td>\n",
       "    </tr>\n",
       "    <tr>\n",
       "      <th>2</th>\n",
       "      <td>6543</td>\n",
       "      <td>8</td>\n",
       "      <td>raybradbury</td>\n",
       "      <td>1976.0</td>\n",
       "      <td>usa</td>\n",
       "      <td>34.0</td>\n",
       "      <td>fahrenheit451</td>\n",
       "      <td>bookburning</td>\n",
       "    </tr>\n",
       "    <tr>\n",
       "      <th>3</th>\n",
       "      <td>6543</td>\n",
       "      <td>9</td>\n",
       "      <td>jamespatterson</td>\n",
       "      <td>2001.0</td>\n",
       "      <td>usa</td>\n",
       "      <td>34.0</td>\n",
       "      <td>1sttodieanovel</td>\n",
       "      <td>fiction</td>\n",
       "    </tr>\n",
       "    <tr>\n",
       "      <th>4</th>\n",
       "      <td>6543</td>\n",
       "      <td>6</td>\n",
       "      <td>alexandermccallsmith</td>\n",
       "      <td>2002.0</td>\n",
       "      <td>usa</td>\n",
       "      <td>34.0</td>\n",
       "      <td>theno1ladiesdetectiveagency</td>\n",
       "      <td>botswana</td>\n",
       "    </tr>\n",
       "  </tbody>\n",
       "</table>\n",
       "</div>"
      ],
      "text/plain": [
       "   User-ID  Book-Rating           Book-Author  Year-Of-Publication Location   \n",
       "0     2313            7           raybradbury               1984.0      usa  \\\n",
       "1     2313            8             johnokada               1978.0      usa   \n",
       "2     6543            8           raybradbury               1976.0      usa   \n",
       "3     6543            9        jamespatterson               2001.0      usa   \n",
       "4     6543            6  alexandermccallsmith               2002.0      usa   \n",
       "\n",
       "    Age                    raw_title   categories  \n",
       "0  23.0         themartianchronicles      fiction  \n",
       "1  23.0                      nonoboy     japanese  \n",
       "2  34.0                fahrenheit451  bookburning  \n",
       "3  34.0               1sttodieanovel      fiction  \n",
       "4  34.0  theno1ladiesdetectiveagency     botswana  "
      ]
     },
     "execution_count": 2,
     "metadata": {},
     "output_type": "execute_result"
    }
   ],
   "source": [
    "data = pd.read_csv('data/preprocessed_data.csv')\n",
    "data.head(5)"
   ]
  },
  {
   "cell_type": "code",
   "execution_count": 3,
   "id": "2e8c3534",
   "metadata": {},
   "outputs": [],
   "source": [
    "data['Age'] = data['Age'].fillna(data['Age'].median())\n",
    "data['Year-Of-Publication'] = data['Year-Of-Publication'].fillna(data['Year-Of-Publication'].median())"
   ]
  },
  {
   "cell_type": "code",
   "execution_count": 4,
   "id": "e0708138",
   "metadata": {},
   "outputs": [
    {
     "data": {
      "text/html": [
       "<div>\n",
       "<style scoped>\n",
       "    .dataframe tbody tr th:only-of-type {\n",
       "        vertical-align: middle;\n",
       "    }\n",
       "\n",
       "    .dataframe tbody tr th {\n",
       "        vertical-align: top;\n",
       "    }\n",
       "\n",
       "    .dataframe thead th {\n",
       "        text-align: right;\n",
       "    }\n",
       "</style>\n",
       "<table border=\"1\" class=\"dataframe\">\n",
       "  <thead>\n",
       "    <tr style=\"text-align: right;\">\n",
       "      <th></th>\n",
       "      <th>User-ID</th>\n",
       "      <th>Book-Rating</th>\n",
       "      <th>Book-Author</th>\n",
       "      <th>Year-Of-Publication</th>\n",
       "      <th>Location</th>\n",
       "      <th>Age</th>\n",
       "      <th>raw_title</th>\n",
       "      <th>categories</th>\n",
       "    </tr>\n",
       "  </thead>\n",
       "  <tbody>\n",
       "    <tr>\n",
       "      <th>0</th>\n",
       "      <td>2313</td>\n",
       "      <td>7</td>\n",
       "      <td>raybradbury</td>\n",
       "      <td>-0.670241</td>\n",
       "      <td>usa</td>\n",
       "      <td>-1.171054</td>\n",
       "      <td>themartianchronicles</td>\n",
       "      <td>fiction</td>\n",
       "    </tr>\n",
       "    <tr>\n",
       "      <th>1</th>\n",
       "      <td>2313</td>\n",
       "      <td>8</td>\n",
       "      <td>johnokada</td>\n",
       "      <td>-1.207090</td>\n",
       "      <td>usa</td>\n",
       "      <td>-1.171054</td>\n",
       "      <td>nonoboy</td>\n",
       "      <td>japanese</td>\n",
       "    </tr>\n",
       "    <tr>\n",
       "      <th>2</th>\n",
       "      <td>6543</td>\n",
       "      <td>8</td>\n",
       "      <td>raybradbury</td>\n",
       "      <td>-1.386040</td>\n",
       "      <td>usa</td>\n",
       "      <td>-0.227732</td>\n",
       "      <td>fahrenheit451</td>\n",
       "      <td>bookburning</td>\n",
       "    </tr>\n",
       "    <tr>\n",
       "      <th>3</th>\n",
       "      <td>6543</td>\n",
       "      <td>9</td>\n",
       "      <td>jamespatterson</td>\n",
       "      <td>0.850831</td>\n",
       "      <td>usa</td>\n",
       "      <td>-0.227732</td>\n",
       "      <td>1sttodieanovel</td>\n",
       "      <td>fiction</td>\n",
       "    </tr>\n",
       "    <tr>\n",
       "      <th>4</th>\n",
       "      <td>6543</td>\n",
       "      <td>6</td>\n",
       "      <td>alexandermccallsmith</td>\n",
       "      <td>0.940306</td>\n",
       "      <td>usa</td>\n",
       "      <td>-0.227732</td>\n",
       "      <td>theno1ladiesdetectiveagency</td>\n",
       "      <td>botswana</td>\n",
       "    </tr>\n",
       "  </tbody>\n",
       "</table>\n",
       "</div>"
      ],
      "text/plain": [
       "   User-ID  Book-Rating           Book-Author  Year-Of-Publication Location   \n",
       "0     2313            7           raybradbury            -0.670241      usa  \\\n",
       "1     2313            8             johnokada            -1.207090      usa   \n",
       "2     6543            8           raybradbury            -1.386040      usa   \n",
       "3     6543            9        jamespatterson             0.850831      usa   \n",
       "4     6543            6  alexandermccallsmith             0.940306      usa   \n",
       "\n",
       "        Age                    raw_title   categories  \n",
       "0 -1.171054         themartianchronicles      fiction  \n",
       "1 -1.171054                      nonoboy     japanese  \n",
       "2 -0.227732                fahrenheit451  bookburning  \n",
       "3 -0.227732               1sttodieanovel      fiction  \n",
       "4 -0.227732  theno1ladiesdetectiveagency     botswana  "
      ]
     },
     "execution_count": 4,
     "metadata": {},
     "output_type": "execute_result"
    }
   ],
   "source": [
    "scaler = StandardScaler()\n",
    "data['Age'] = scaler.fit_transform(np.array(data['Age']).reshape(-1, 1))\n",
    "data['Year-Of-Publication'] = scaler.fit_transform(np.array(data['Year-Of-Publication']).reshape(-1, 1))\n",
    "data.head(5)"
   ]
  },
  {
   "cell_type": "code",
   "execution_count": 5,
   "id": "02f0f01a",
   "metadata": {},
   "outputs": [
    {
     "data": {
      "text/html": [
       "<div>\n",
       "<style scoped>\n",
       "    .dataframe tbody tr th:only-of-type {\n",
       "        vertical-align: middle;\n",
       "    }\n",
       "\n",
       "    .dataframe tbody tr th {\n",
       "        vertical-align: top;\n",
       "    }\n",
       "\n",
       "    .dataframe thead th {\n",
       "        text-align: right;\n",
       "    }\n",
       "</style>\n",
       "<table border=\"1\" class=\"dataframe\">\n",
       "  <thead>\n",
       "    <tr style=\"text-align: right;\">\n",
       "      <th></th>\n",
       "      <th>User-ID</th>\n",
       "      <th>raw_title</th>\n",
       "      <th>Book-Rating</th>\n",
       "      <th>Year-Of-Publication</th>\n",
       "      <th>Age</th>\n",
       "      <th>Book-Author</th>\n",
       "      <th>Location</th>\n",
       "    </tr>\n",
       "  </thead>\n",
       "  <tbody>\n",
       "    <tr>\n",
       "      <th>0</th>\n",
       "      <td>2313</td>\n",
       "      <td>themartianchronicles</td>\n",
       "      <td>7</td>\n",
       "      <td>-0.670241</td>\n",
       "      <td>-1.171054</td>\n",
       "      <td>raybradbury</td>\n",
       "      <td>usa</td>\n",
       "    </tr>\n",
       "    <tr>\n",
       "      <th>1</th>\n",
       "      <td>2313</td>\n",
       "      <td>nonoboy</td>\n",
       "      <td>8</td>\n",
       "      <td>-1.207090</td>\n",
       "      <td>-1.171054</td>\n",
       "      <td>johnokada</td>\n",
       "      <td>usa</td>\n",
       "    </tr>\n",
       "    <tr>\n",
       "      <th>2</th>\n",
       "      <td>6543</td>\n",
       "      <td>fahrenheit451</td>\n",
       "      <td>8</td>\n",
       "      <td>-1.386040</td>\n",
       "      <td>-0.227732</td>\n",
       "      <td>raybradbury</td>\n",
       "      <td>usa</td>\n",
       "    </tr>\n",
       "    <tr>\n",
       "      <th>3</th>\n",
       "      <td>6543</td>\n",
       "      <td>1sttodieanovel</td>\n",
       "      <td>9</td>\n",
       "      <td>0.850831</td>\n",
       "      <td>-0.227732</td>\n",
       "      <td>jamespatterson</td>\n",
       "      <td>usa</td>\n",
       "    </tr>\n",
       "    <tr>\n",
       "      <th>4</th>\n",
       "      <td>6543</td>\n",
       "      <td>theno1ladiesdetectiveagency</td>\n",
       "      <td>6</td>\n",
       "      <td>0.940306</td>\n",
       "      <td>-0.227732</td>\n",
       "      <td>alexandermccallsmith</td>\n",
       "      <td>usa</td>\n",
       "    </tr>\n",
       "  </tbody>\n",
       "</table>\n",
       "</div>"
      ],
      "text/plain": [
       "   User-ID                    raw_title  Book-Rating  Year-Of-Publication   \n",
       "0     2313         themartianchronicles            7            -0.670241  \\\n",
       "1     2313                      nonoboy            8            -1.207090   \n",
       "2     6543                fahrenheit451            8            -1.386040   \n",
       "3     6543               1sttodieanovel            9             0.850831   \n",
       "4     6543  theno1ladiesdetectiveagency            6             0.940306   \n",
       "\n",
       "        Age           Book-Author Location  \n",
       "0 -1.171054           raybradbury      usa  \n",
       "1 -1.171054             johnokada      usa  \n",
       "2 -0.227732           raybradbury      usa  \n",
       "3 -0.227732        jamespatterson      usa  \n",
       "4 -0.227732  alexandermccallsmith      usa  "
      ]
     },
     "execution_count": 5,
     "metadata": {},
     "output_type": "execute_result"
    }
   ],
   "source": [
    "cut_data = data[['User-ID', 'raw_title', 'Book-Rating', 'Year-Of-Publication', 'Age', 'Book-Author', 'Location']]\n",
    "cut_data.head(5)"
   ]
  },
  {
   "cell_type": "code",
   "execution_count": 6,
   "id": "546ca26f",
   "metadata": {},
   "outputs": [
    {
     "name": "stderr",
     "output_type": "stream",
     "text": [
      "C:\\Users\\79237\\AppData\\Local\\Temp\\ipykernel_13864\\389378534.py:2: SettingWithCopyWarning: \n",
      "A value is trying to be set on a copy of a slice from a DataFrame.\n",
      "Try using .loc[row_indexer,col_indexer] = value instead\n",
      "\n",
      "See the caveats in the documentation: https://pandas.pydata.org/pandas-docs/stable/user_guide/indexing.html#returning-a-view-versus-a-copy\n",
      "  cut_data['raw_title'] = label_encoder.fit_transform(cut_data['raw_title'])\n",
      "C:\\Users\\79237\\AppData\\Local\\Temp\\ipykernel_13864\\389378534.py:3: SettingWithCopyWarning: \n",
      "A value is trying to be set on a copy of a slice from a DataFrame.\n",
      "Try using .loc[row_indexer,col_indexer] = value instead\n",
      "\n",
      "See the caveats in the documentation: https://pandas.pydata.org/pandas-docs/stable/user_guide/indexing.html#returning-a-view-versus-a-copy\n",
      "  cut_data['Book-Author'] = label_encoder.fit_transform(cut_data['Book-Author'])\n",
      "C:\\Users\\79237\\AppData\\Local\\Temp\\ipykernel_13864\\389378534.py:4: SettingWithCopyWarning: \n",
      "A value is trying to be set on a copy of a slice from a DataFrame.\n",
      "Try using .loc[row_indexer,col_indexer] = value instead\n",
      "\n",
      "See the caveats in the documentation: https://pandas.pydata.org/pandas-docs/stable/user_guide/indexing.html#returning-a-view-versus-a-copy\n",
      "  cut_data['Location'] = label_encoder.fit_transform(cut_data['Location'])\n"
     ]
    },
    {
     "data": {
      "text/html": [
       "<div>\n",
       "<style scoped>\n",
       "    .dataframe tbody tr th:only-of-type {\n",
       "        vertical-align: middle;\n",
       "    }\n",
       "\n",
       "    .dataframe tbody tr th {\n",
       "        vertical-align: top;\n",
       "    }\n",
       "\n",
       "    .dataframe thead th {\n",
       "        text-align: right;\n",
       "    }\n",
       "</style>\n",
       "<table border=\"1\" class=\"dataframe\">\n",
       "  <thead>\n",
       "    <tr style=\"text-align: right;\">\n",
       "      <th></th>\n",
       "      <th>User-ID</th>\n",
       "      <th>raw_title</th>\n",
       "      <th>Book-Rating</th>\n",
       "      <th>Year-Of-Publication</th>\n",
       "      <th>Age</th>\n",
       "      <th>Book-Author</th>\n",
       "      <th>Location</th>\n",
       "    </tr>\n",
       "  </thead>\n",
       "  <tbody>\n",
       "    <tr>\n",
       "      <th>0</th>\n",
       "      <td>2313</td>\n",
       "      <td>11266</td>\n",
       "      <td>7</td>\n",
       "      <td>-0.670241</td>\n",
       "      <td>-1.171054</td>\n",
       "      <td>8308</td>\n",
       "      <td>110</td>\n",
       "    </tr>\n",
       "    <tr>\n",
       "      <th>1</th>\n",
       "      <td>2313</td>\n",
       "      <td>7036</td>\n",
       "      <td>8</td>\n",
       "      <td>-1.207090</td>\n",
       "      <td>-1.171054</td>\n",
       "      <td>5065</td>\n",
       "      <td>110</td>\n",
       "    </tr>\n",
       "    <tr>\n",
       "      <th>2</th>\n",
       "      <td>6543</td>\n",
       "      <td>3469</td>\n",
       "      <td>8</td>\n",
       "      <td>-1.386040</td>\n",
       "      <td>-0.227732</td>\n",
       "      <td>8308</td>\n",
       "      <td>110</td>\n",
       "    </tr>\n",
       "    <tr>\n",
       "      <th>3</th>\n",
       "      <td>6543</td>\n",
       "      <td>39</td>\n",
       "      <td>9</td>\n",
       "      <td>0.850831</td>\n",
       "      <td>-0.227732</td>\n",
       "      <td>4264</td>\n",
       "      <td>110</td>\n",
       "    </tr>\n",
       "    <tr>\n",
       "      <th>4</th>\n",
       "      <td>6543</td>\n",
       "      <td>11466</td>\n",
       "      <td>6</td>\n",
       "      <td>0.940306</td>\n",
       "      <td>-0.227732</td>\n",
       "      <td>176</td>\n",
       "      <td>110</td>\n",
       "    </tr>\n",
       "  </tbody>\n",
       "</table>\n",
       "</div>"
      ],
      "text/plain": [
       "   User-ID  raw_title  Book-Rating  Year-Of-Publication       Age   \n",
       "0     2313      11266            7            -0.670241 -1.171054  \\\n",
       "1     2313       7036            8            -1.207090 -1.171054   \n",
       "2     6543       3469            8            -1.386040 -0.227732   \n",
       "3     6543         39            9             0.850831 -0.227732   \n",
       "4     6543      11466            6             0.940306 -0.227732   \n",
       "\n",
       "   Book-Author  Location  \n",
       "0         8308       110  \n",
       "1         5065       110  \n",
       "2         8308       110  \n",
       "3         4264       110  \n",
       "4          176       110  "
      ]
     },
     "execution_count": 6,
     "metadata": {},
     "output_type": "execute_result"
    }
   ],
   "source": [
    "label_encoder = LabelEncoder()\n",
    "cut_data['raw_title'] = label_encoder.fit_transform(cut_data['raw_title'])\n",
    "cut_data['Book-Author'] = label_encoder.fit_transform(cut_data['Book-Author'])\n",
    "cut_data['Location'] = label_encoder.fit_transform(cut_data['Location'])\n",
    "cut_data.head(5)"
   ]
  },
  {
   "cell_type": "code",
   "execution_count": 7,
   "id": "27bc7358",
   "metadata": {},
   "outputs": [
    {
     "data": {
      "text/html": [
       "<div>\n",
       "<style scoped>\n",
       "    .dataframe tbody tr th:only-of-type {\n",
       "        vertical-align: middle;\n",
       "    }\n",
       "\n",
       "    .dataframe tbody tr th {\n",
       "        vertical-align: top;\n",
       "    }\n",
       "\n",
       "    .dataframe thead th {\n",
       "        text-align: right;\n",
       "    }\n",
       "</style>\n",
       "<table border=\"1\" class=\"dataframe\">\n",
       "  <thead>\n",
       "    <tr style=\"text-align: right;\">\n",
       "      <th></th>\n",
       "      <th>user-id</th>\n",
       "      <th>book-id</th>\n",
       "      <th>rating</th>\n",
       "      <th>year</th>\n",
       "      <th>age</th>\n",
       "      <th>author</th>\n",
       "      <th>location</th>\n",
       "    </tr>\n",
       "  </thead>\n",
       "  <tbody>\n",
       "    <tr>\n",
       "      <th>0</th>\n",
       "      <td>2313</td>\n",
       "      <td>11266</td>\n",
       "      <td>7</td>\n",
       "      <td>-0.670241</td>\n",
       "      <td>-1.171054</td>\n",
       "      <td>8308</td>\n",
       "      <td>110</td>\n",
       "    </tr>\n",
       "    <tr>\n",
       "      <th>1</th>\n",
       "      <td>2313</td>\n",
       "      <td>7036</td>\n",
       "      <td>8</td>\n",
       "      <td>-1.207090</td>\n",
       "      <td>-1.171054</td>\n",
       "      <td>5065</td>\n",
       "      <td>110</td>\n",
       "    </tr>\n",
       "    <tr>\n",
       "      <th>2</th>\n",
       "      <td>6543</td>\n",
       "      <td>3469</td>\n",
       "      <td>8</td>\n",
       "      <td>-1.386040</td>\n",
       "      <td>-0.227732</td>\n",
       "      <td>8308</td>\n",
       "      <td>110</td>\n",
       "    </tr>\n",
       "    <tr>\n",
       "      <th>3</th>\n",
       "      <td>6543</td>\n",
       "      <td>39</td>\n",
       "      <td>9</td>\n",
       "      <td>0.850831</td>\n",
       "      <td>-0.227732</td>\n",
       "      <td>4264</td>\n",
       "      <td>110</td>\n",
       "    </tr>\n",
       "    <tr>\n",
       "      <th>4</th>\n",
       "      <td>6543</td>\n",
       "      <td>11466</td>\n",
       "      <td>6</td>\n",
       "      <td>0.940306</td>\n",
       "      <td>-0.227732</td>\n",
       "      <td>176</td>\n",
       "      <td>110</td>\n",
       "    </tr>\n",
       "  </tbody>\n",
       "</table>\n",
       "</div>"
      ],
      "text/plain": [
       "   user-id  book-id  rating      year       age  author  location\n",
       "0     2313    11266       7 -0.670241 -1.171054    8308       110\n",
       "1     2313     7036       8 -1.207090 -1.171054    5065       110\n",
       "2     6543     3469       8 -1.386040 -0.227732    8308       110\n",
       "3     6543       39       9  0.850831 -0.227732    4264       110\n",
       "4     6543    11466       6  0.940306 -0.227732     176       110"
      ]
     },
     "execution_count": 7,
     "metadata": {},
     "output_type": "execute_result"
    }
   ],
   "source": [
    "cut_data = cut_data.rename(columns={'User-ID': 'user-id', 'raw_title': 'book-id', 'Book-Rating': 'rating', 'Age': 'age', 'Year-Of-Publication': 'year', 'Book-Author': 'author', 'Location': 'location'})\n",
    "cut_data.head(5)"
   ]
  },
  {
   "cell_type": "code",
   "execution_count": 8,
   "id": "da1fb137",
   "metadata": {},
   "outputs": [
    {
     "data": {
      "text/html": [
       "<div>\n",
       "<style scoped>\n",
       "    .dataframe tbody tr th:only-of-type {\n",
       "        vertical-align: middle;\n",
       "    }\n",
       "\n",
       "    .dataframe tbody tr th {\n",
       "        vertical-align: top;\n",
       "    }\n",
       "\n",
       "    .dataframe thead th {\n",
       "        text-align: right;\n",
       "    }\n",
       "</style>\n",
       "<table border=\"1\" class=\"dataframe\">\n",
       "  <thead>\n",
       "    <tr style=\"text-align: right;\">\n",
       "      <th></th>\n",
       "      <th>user-id</th>\n",
       "      <th>book-id</th>\n",
       "      <th>rating</th>\n",
       "      <th>year</th>\n",
       "      <th>age</th>\n",
       "      <th>author</th>\n",
       "      <th>location</th>\n",
       "    </tr>\n",
       "  </thead>\n",
       "  <tbody>\n",
       "    <tr>\n",
       "      <th>0</th>\n",
       "      <td>2313</td>\n",
       "      <td>11266</td>\n",
       "      <td>7.0</td>\n",
       "      <td>-0.670241</td>\n",
       "      <td>-1.171054</td>\n",
       "      <td>8308</td>\n",
       "      <td>110</td>\n",
       "    </tr>\n",
       "    <tr>\n",
       "      <th>1</th>\n",
       "      <td>2313</td>\n",
       "      <td>7036</td>\n",
       "      <td>8.0</td>\n",
       "      <td>-1.207090</td>\n",
       "      <td>-1.171054</td>\n",
       "      <td>5065</td>\n",
       "      <td>110</td>\n",
       "    </tr>\n",
       "    <tr>\n",
       "      <th>2</th>\n",
       "      <td>6543</td>\n",
       "      <td>3469</td>\n",
       "      <td>8.0</td>\n",
       "      <td>-1.386040</td>\n",
       "      <td>-0.227732</td>\n",
       "      <td>8308</td>\n",
       "      <td>110</td>\n",
       "    </tr>\n",
       "    <tr>\n",
       "      <th>3</th>\n",
       "      <td>6543</td>\n",
       "      <td>39</td>\n",
       "      <td>9.0</td>\n",
       "      <td>0.850831</td>\n",
       "      <td>-0.227732</td>\n",
       "      <td>4264</td>\n",
       "      <td>110</td>\n",
       "    </tr>\n",
       "    <tr>\n",
       "      <th>4</th>\n",
       "      <td>6543</td>\n",
       "      <td>11466</td>\n",
       "      <td>6.0</td>\n",
       "      <td>0.940306</td>\n",
       "      <td>-0.227732</td>\n",
       "      <td>176</td>\n",
       "      <td>110</td>\n",
       "    </tr>\n",
       "  </tbody>\n",
       "</table>\n",
       "</div>"
      ],
      "text/plain": [
       "   user-id  book-id  rating      year       age  author  location\n",
       "0     2313    11266     7.0 -0.670241 -1.171054    8308       110\n",
       "1     2313     7036     8.0 -1.207090 -1.171054    5065       110\n",
       "2     6543     3469     8.0 -1.386040 -0.227732    8308       110\n",
       "3     6543       39     9.0  0.850831 -0.227732    4264       110\n",
       "4     6543    11466     6.0  0.940306 -0.227732     176       110"
      ]
     },
     "execution_count": 8,
     "metadata": {},
     "output_type": "execute_result"
    }
   ],
   "source": [
    "cut_data['rating'] = cut_data['rating'].astype(float)\n",
    "cut_data.head(5)"
   ]
  },
  {
   "cell_type": "code",
   "execution_count": 9,
   "id": "56451ea4",
   "metadata": {},
   "outputs": [],
   "source": [
    "X = cut_data[['user-id', 'book-id', 'year', 'age', 'author', 'location']]\n",
    "y = cut_data['rating']"
   ]
  },
  {
   "cell_type": "code",
   "execution_count": 10,
   "id": "c72479fe",
   "metadata": {},
   "outputs": [],
   "source": [
    "X_train, X_test, y_train, y_test = train_test_split(X, y, test_size=0.2, random_state=42)"
   ]
  },
  {
   "cell_type": "code",
   "execution_count": 11,
   "id": "d153e167",
   "metadata": {},
   "outputs": [],
   "source": [
    "all_users = X_train['user-id'].unique()\n",
    "all_books = X_train['book-id'].unique()\n",
    "all_authors = X_train['author'].unique()\n",
    "all_locations = X_train['location'].unique()"
   ]
  },
  {
   "cell_type": "code",
   "execution_count": 12,
   "id": "6264eca1",
   "metadata": {},
   "outputs": [],
   "source": [
    "year_input = keras.layers.Input(shape=(1,), name=\"Year\")\n",
    "age_input = keras.layers.Input(shape=(1,), name=\"Age\")\n",
    "concat_layer = keras.layers.Concatenate(axis=-1)([year_input, age_input])\n",
    "concat_layer1 = keras.layers.Dense(32, activation=\"relu\")(concat_layer)\n",
    "concat_layer2 = keras.layers.Dense(32, activation=\"relu\")(concat_layer1)\n",
    "concat_layer3 = keras.layers.Dense(1, activation=\"relu\")(concat_layer2)"
   ]
  },
  {
   "cell_type": "code",
   "execution_count": 13,
   "id": "1e6838bc",
   "metadata": {},
   "outputs": [],
   "source": [
    "#user_input = keras.layers.Input(shape=(1,), name=\"User\")\n",
    "#user_as_integer = keras.layers.IntegerLookup(vocabulary=all_users)(user_input)\n",
    "#location_input = keras.layers.Input(shape=(1,), name=\"Location\")\n",
    "#location_as_integer = keras.layers.IntegerLookup(vocabulary=all_locations)(location_input)\n",
    "#user_info = keras.layers.Concatenate()([user_input, location_input])"
   ]
  },
  {
   "cell_type": "code",
   "execution_count": 14,
   "id": "3f84973b",
   "metadata": {},
   "outputs": [],
   "source": [
    "#book_input = keras.layers.Input(shape=(1,), name=\"Book\")\n",
    "#book_as_integer = keras.layers.IntegerLookup(vocabulary=all_books)(book_input)\n",
    "#author_input = keras.layers.Input(shape=(1,), name=\"Author\")\n",
    "#author_as_integer = keras.layers.IntegerLookup(vocabulary=all_authors)(author_input)\n",
    "#book_info = keras.layers.Concatenate()([book_input, author_input])"
   ]
  },
  {
   "cell_type": "code",
   "execution_count": 13,
   "id": "e23ae42a",
   "metadata": {},
   "outputs": [],
   "source": [
    "user_input = keras.layers.Input(shape=(1,), name=\"User\")\n",
    "user_as_integer = keras.layers.IntegerLookup(vocabulary=all_users)(user_input)\n",
    "user_embedding = keras.layers.Embedding(input_dim=len(all_users) + 1, output_dim=32, embeddings_regularizer=keras.regularizers.l2(0.1))(user_as_integer)\n",
    "user_bias = keras.layers.Embedding(input_dim=len(all_users) + 1, output_dim=1)(user_as_integer)"
   ]
  },
  {
   "cell_type": "code",
   "execution_count": 14,
   "id": "b529457e",
   "metadata": {},
   "outputs": [],
   "source": [
    "book_input = keras.layers.Input(shape=(1,), name=\"Book\")\n",
    "book_as_integer = keras.layers.IntegerLookup(vocabulary=all_books)(book_input)\n",
    "book_embedding = keras.layers.Embedding(input_dim=len(all_books) + 1, output_dim=32, embeddings_regularizer=keras.regularizers.l2(0.1))(book_as_integer)\n",
    "book_bias = keras.layers.Embedding(input_dim=len(all_books) + 1, output_dim=1)(book_as_integer)"
   ]
  },
  {
   "cell_type": "code",
   "execution_count": 15,
   "id": "abba4f33",
   "metadata": {},
   "outputs": [],
   "source": [
    "dot_product = keras.layers.Dot(axes=-1)([user_embedding, book_embedding])\n",
    "add = keras.layers.Add()([dot_product, user_bias, book_bias, concat_layer3])\n",
    "flatten = keras.layers.Flatten()(add)"
   ]
  },
  {
   "cell_type": "code",
   "execution_count": 16,
   "id": "b70c3ef6",
   "metadata": {},
   "outputs": [
    {
     "name": "stdout",
     "output_type": "stream",
     "text": [
      "WARNING:tensorflow:From C:\\Users\\79237\\AppData\\Local\\Programs\\Python\\Python310\\lib\\site-packages\\keras\\src\\backend\\tensorflow\\core.py:188: The name tf.placeholder is deprecated. Please use tf.compat.v1.placeholder instead.\n",
      "\n"
     ]
    }
   ],
   "source": [
    "output = keras.layers.Lambda(lambda x: 9 * math.sigmoid(x) + 1, name=\"Rating\")(flatten)"
   ]
  },
  {
   "cell_type": "code",
   "execution_count": 17,
   "id": "b2fe630f",
   "metadata": {},
   "outputs": [],
   "source": [
    "model = keras.Model(inputs=[user_input, book_input, year_input, age_input], outputs=output)\n",
    "model.compile(loss=\"mse\", metrics=[keras.metrics.RootMeanSquaredError])"
   ]
  },
  {
   "cell_type": "code",
   "execution_count": 18,
   "id": "96758db7",
   "metadata": {},
   "outputs": [
    {
     "name": "stdout",
     "output_type": "stream",
     "text": [
      "Epoch 1/40\n",
      "\u001b[1m196/196\u001b[0m \u001b[32m━━━━━━━━━━━━━━━━━━━━\u001b[0m\u001b[37m\u001b[0m \u001b[1m3s\u001b[0m 11ms/step - loss: 19.2797 - root_mean_squared_error: 2.0169 - val_loss: 3.2992 - val_root_mean_squared_error: 1.8176\n",
      "Epoch 2/40\n",
      "\u001b[1m196/196\u001b[0m \u001b[32m━━━━━━━━━━━━━━━━━━━━\u001b[0m\u001b[37m\u001b[0m \u001b[1m2s\u001b[0m 10ms/step - loss: 3.1464 - root_mean_squared_error: 1.7738 - val_loss: 3.2425 - val_root_mean_squared_error: 1.8020\n",
      "Epoch 3/40\n",
      "\u001b[1m196/196\u001b[0m \u001b[32m━━━━━━━━━━━━━━━━━━━━\u001b[0m\u001b[37m\u001b[0m \u001b[1m2s\u001b[0m 10ms/step - loss: 3.1026 - root_mean_squared_error: 1.7614 - val_loss: 3.2132 - val_root_mean_squared_error: 1.7938\n",
      "Epoch 4/40\n",
      "\u001b[1m196/196\u001b[0m \u001b[32m━━━━━━━━━━━━━━━━━━━━\u001b[0m\u001b[37m\u001b[0m \u001b[1m2s\u001b[0m 10ms/step - loss: 3.0221 - root_mean_squared_error: 1.7384 - val_loss: 3.1767 - val_root_mean_squared_error: 1.7835\n",
      "Epoch 5/40\n",
      "\u001b[1m196/196\u001b[0m \u001b[32m━━━━━━━━━━━━━━━━━━━━\u001b[0m\u001b[37m\u001b[0m \u001b[1m2s\u001b[0m 10ms/step - loss: 2.9501 - root_mean_squared_error: 1.7176 - val_loss: 3.1398 - val_root_mean_squared_error: 1.7731\n",
      "Epoch 6/40\n",
      "\u001b[1m196/196\u001b[0m \u001b[32m━━━━━━━━━━━━━━━━━━━━\u001b[0m\u001b[37m\u001b[0m \u001b[1m2s\u001b[0m 10ms/step - loss: 2.8786 - root_mean_squared_error: 1.6966 - val_loss: 3.1306 - val_root_mean_squared_error: 1.7705\n",
      "Epoch 7/40\n",
      "\u001b[1m196/196\u001b[0m \u001b[32m━━━━━━━━━━━━━━━━━━━━\u001b[0m\u001b[37m\u001b[0m \u001b[1m2s\u001b[0m 12ms/step - loss: 2.8643 - root_mean_squared_error: 1.6924 - val_loss: 3.1093 - val_root_mean_squared_error: 1.7643\n",
      "Epoch 8/40\n",
      "\u001b[1m196/196\u001b[0m \u001b[32m━━━━━━━━━━━━━━━━━━━━\u001b[0m\u001b[37m\u001b[0m \u001b[1m2s\u001b[0m 11ms/step - loss: 2.8251 - root_mean_squared_error: 1.6808 - val_loss: 3.0774 - val_root_mean_squared_error: 1.7554\n",
      "Epoch 9/40\n",
      "\u001b[1m196/196\u001b[0m \u001b[32m━━━━━━━━━━━━━━━━━━━━\u001b[0m\u001b[37m\u001b[0m \u001b[1m2s\u001b[0m 11ms/step - loss: 2.7913 - root_mean_squared_error: 1.6707 - val_loss: 3.0591 - val_root_mean_squared_error: 1.7501\n",
      "Epoch 10/40\n",
      "\u001b[1m196/196\u001b[0m \u001b[32m━━━━━━━━━━━━━━━━━━━━\u001b[0m\u001b[37m\u001b[0m \u001b[1m2s\u001b[0m 11ms/step - loss: 2.7668 - root_mean_squared_error: 1.6633 - val_loss: 3.0503 - val_root_mean_squared_error: 1.7476\n",
      "Epoch 11/40\n",
      "\u001b[1m196/196\u001b[0m \u001b[32m━━━━━━━━━━━━━━━━━━━━\u001b[0m\u001b[37m\u001b[0m \u001b[1m2s\u001b[0m 11ms/step - loss: 2.7428 - root_mean_squared_error: 1.6560 - val_loss: 3.0344 - val_root_mean_squared_error: 1.7428\n",
      "Epoch 12/40\n",
      "\u001b[1m196/196\u001b[0m \u001b[32m━━━━━━━━━━━━━━━━━━━━\u001b[0m\u001b[37m\u001b[0m \u001b[1m2s\u001b[0m 11ms/step - loss: 2.6461 - root_mean_squared_error: 1.6267 - val_loss: 3.0151 - val_root_mean_squared_error: 1.7374\n",
      "Epoch 13/40\n",
      "\u001b[1m196/196\u001b[0m \u001b[32m━━━━━━━━━━━━━━━━━━━━\u001b[0m\u001b[37m\u001b[0m \u001b[1m2s\u001b[0m 11ms/step - loss: 2.6636 - root_mean_squared_error: 1.6320 - val_loss: 3.0186 - val_root_mean_squared_error: 1.7384\n",
      "Epoch 14/40\n",
      "\u001b[1m196/196\u001b[0m \u001b[32m━━━━━━━━━━━━━━━━━━━━\u001b[0m\u001b[37m\u001b[0m \u001b[1m2s\u001b[0m 11ms/step - loss: 2.6154 - root_mean_squared_error: 1.6171 - val_loss: 3.0012 - val_root_mean_squared_error: 1.7334\n",
      "Epoch 15/40\n",
      "\u001b[1m196/196\u001b[0m \u001b[32m━━━━━━━━━━━━━━━━━━━━\u001b[0m\u001b[37m\u001b[0m \u001b[1m2s\u001b[0m 11ms/step - loss: 2.5686 - root_mean_squared_error: 1.6027 - val_loss: 2.9955 - val_root_mean_squared_error: 1.7317\n",
      "Epoch 16/40\n",
      "\u001b[1m196/196\u001b[0m \u001b[32m━━━━━━━━━━━━━━━━━━━━\u001b[0m\u001b[37m\u001b[0m \u001b[1m2s\u001b[0m 11ms/step - loss: 2.5254 - root_mean_squared_error: 1.5891 - val_loss: 2.9758 - val_root_mean_squared_error: 1.7260\n",
      "Epoch 17/40\n",
      "\u001b[1m196/196\u001b[0m \u001b[32m━━━━━━━━━━━━━━━━━━━━\u001b[0m\u001b[37m\u001b[0m \u001b[1m2s\u001b[0m 11ms/step - loss: 2.5164 - root_mean_squared_error: 1.5863 - val_loss: 2.9691 - val_root_mean_squared_error: 1.7240\n",
      "Epoch 18/40\n",
      "\u001b[1m196/196\u001b[0m \u001b[32m━━━━━━━━━━━━━━━━━━━━\u001b[0m\u001b[37m\u001b[0m \u001b[1m2s\u001b[0m 11ms/step - loss: 2.4900 - root_mean_squared_error: 1.5779 - val_loss: 2.9696 - val_root_mean_squared_error: 1.7241\n",
      "Epoch 19/40\n",
      "\u001b[1m196/196\u001b[0m \u001b[32m━━━━━━━━━━━━━━━━━━━━\u001b[0m\u001b[37m\u001b[0m \u001b[1m2s\u001b[0m 11ms/step - loss: 2.4743 - root_mean_squared_error: 1.5730 - val_loss: 2.9511 - val_root_mean_squared_error: 1.7188\n",
      "Epoch 20/40\n",
      "\u001b[1m196/196\u001b[0m \u001b[32m━━━━━━━━━━━━━━━━━━━━\u001b[0m\u001b[37m\u001b[0m \u001b[1m2s\u001b[0m 11ms/step - loss: 2.4306 - root_mean_squared_error: 1.5590 - val_loss: 2.9866 - val_root_mean_squared_error: 1.7291\n",
      "Epoch 21/40\n",
      "\u001b[1m196/196\u001b[0m \u001b[32m━━━━━━━━━━━━━━━━━━━━\u001b[0m\u001b[37m\u001b[0m \u001b[1m2s\u001b[0m 11ms/step - loss: 2.4645 - root_mean_squared_error: 1.5698 - val_loss: 2.9461 - val_root_mean_squared_error: 1.7172\n",
      "Epoch 22/40\n",
      "\u001b[1m196/196\u001b[0m \u001b[32m━━━━━━━━━━━━━━━━━━━━\u001b[0m\u001b[37m\u001b[0m \u001b[1m2s\u001b[0m 11ms/step - loss: 2.4383 - root_mean_squared_error: 1.5615 - val_loss: 2.9369 - val_root_mean_squared_error: 1.7145\n",
      "Epoch 23/40\n",
      "\u001b[1m196/196\u001b[0m \u001b[32m━━━━━━━━━━━━━━━━━━━━\u001b[0m\u001b[37m\u001b[0m \u001b[1m2s\u001b[0m 11ms/step - loss: 2.3913 - root_mean_squared_error: 1.5463 - val_loss: 2.9406 - val_root_mean_squared_error: 1.7157\n",
      "Epoch 24/40\n",
      "\u001b[1m196/196\u001b[0m \u001b[32m━━━━━━━━━━━━━━━━━━━━\u001b[0m\u001b[37m\u001b[0m \u001b[1m2s\u001b[0m 11ms/step - loss: 2.3599 - root_mean_squared_error: 1.5362 - val_loss: 2.9490 - val_root_mean_squared_error: 1.7181\n",
      "Epoch 25/40\n",
      "\u001b[1m196/196\u001b[0m \u001b[32m━━━━━━━━━━━━━━━━━━━━\u001b[0m\u001b[37m\u001b[0m \u001b[1m2s\u001b[0m 11ms/step - loss: 2.3340 - root_mean_squared_error: 1.5277 - val_loss: 2.9287 - val_root_mean_squared_error: 1.7121\n",
      "Epoch 26/40\n",
      "\u001b[1m196/196\u001b[0m \u001b[32m━━━━━━━━━━━━━━━━━━━━\u001b[0m\u001b[37m\u001b[0m \u001b[1m2s\u001b[0m 11ms/step - loss: 2.3324 - root_mean_squared_error: 1.5272 - val_loss: 2.9351 - val_root_mean_squared_error: 1.7140\n",
      "Epoch 27/40\n",
      "\u001b[1m196/196\u001b[0m \u001b[32m━━━━━━━━━━━━━━━━━━━━\u001b[0m\u001b[37m\u001b[0m \u001b[1m2s\u001b[0m 11ms/step - loss: 2.3586 - root_mean_squared_error: 1.5357 - val_loss: 2.9229 - val_root_mean_squared_error: 1.7104\n",
      "Epoch 28/40\n",
      "\u001b[1m196/196\u001b[0m \u001b[32m━━━━━━━━━━━━━━━━━━━━\u001b[0m\u001b[37m\u001b[0m \u001b[1m2s\u001b[0m 11ms/step - loss: 2.2938 - root_mean_squared_error: 1.5145 - val_loss: 2.9249 - val_root_mean_squared_error: 1.7110\n",
      "Epoch 29/40\n",
      "\u001b[1m196/196\u001b[0m \u001b[32m━━━━━━━━━━━━━━━━━━━━\u001b[0m\u001b[37m\u001b[0m \u001b[1m2s\u001b[0m 11ms/step - loss: 2.2917 - root_mean_squared_error: 1.5138 - val_loss: 2.9294 - val_root_mean_squared_error: 1.7122\n",
      "Epoch 30/40\n",
      "\u001b[1m196/196\u001b[0m \u001b[32m━━━━━━━━━━━━━━━━━━━━\u001b[0m\u001b[37m\u001b[0m \u001b[1m2s\u001b[0m 11ms/step - loss: 2.2422 - root_mean_squared_error: 1.4974 - val_loss: 2.9147 - val_root_mean_squared_error: 1.7080\n",
      "Epoch 31/40\n",
      "\u001b[1m196/196\u001b[0m \u001b[32m━━━━━━━━━━━━━━━━━━━━\u001b[0m\u001b[37m\u001b[0m \u001b[1m2s\u001b[0m 11ms/step - loss: 2.2716 - root_mean_squared_error: 1.5071 - val_loss: 2.9086 - val_root_mean_squared_error: 1.7062\n",
      "Epoch 32/40\n",
      "\u001b[1m196/196\u001b[0m \u001b[32m━━━━━━━━━━━━━━━━━━━━\u001b[0m\u001b[37m\u001b[0m \u001b[1m2s\u001b[0m 11ms/step - loss: 2.2321 - root_mean_squared_error: 1.4940 - val_loss: 2.9237 - val_root_mean_squared_error: 1.7106\n",
      "Epoch 33/40\n",
      "\u001b[1m196/196\u001b[0m \u001b[32m━━━━━━━━━━━━━━━━━━━━\u001b[0m\u001b[37m\u001b[0m \u001b[1m2s\u001b[0m 11ms/step - loss: 2.2206 - root_mean_squared_error: 1.4901 - val_loss: 2.9060 - val_root_mean_squared_error: 1.7054\n",
      "Epoch 34/40\n",
      "\u001b[1m196/196\u001b[0m \u001b[32m━━━━━━━━━━━━━━━━━━━━\u001b[0m\u001b[37m\u001b[0m \u001b[1m2s\u001b[0m 11ms/step - loss: 2.2148 - root_mean_squared_error: 1.4882 - val_loss: 2.9015 - val_root_mean_squared_error: 1.7041\n",
      "Epoch 35/40\n",
      "\u001b[1m196/196\u001b[0m \u001b[32m━━━━━━━━━━━━━━━━━━━━\u001b[0m\u001b[37m\u001b[0m \u001b[1m2s\u001b[0m 11ms/step - loss: 2.1928 - root_mean_squared_error: 1.4808 - val_loss: 2.9247 - val_root_mean_squared_error: 1.7109\n",
      "Epoch 36/40\n",
      "\u001b[1m196/196\u001b[0m \u001b[32m━━━━━━━━━━━━━━━━━━━━\u001b[0m\u001b[37m\u001b[0m \u001b[1m2s\u001b[0m 11ms/step - loss: 2.1821 - root_mean_squared_error: 1.4772 - val_loss: 2.9127 - val_root_mean_squared_error: 1.7073\n",
      "Epoch 37/40\n",
      "\u001b[1m196/196\u001b[0m \u001b[32m━━━━━━━━━━━━━━━━━━━━\u001b[0m\u001b[37m\u001b[0m \u001b[1m2s\u001b[0m 11ms/step - loss: 2.1768 - root_mean_squared_error: 1.4754 - val_loss: 2.9065 - val_root_mean_squared_error: 1.7055\n",
      "Epoch 38/40\n",
      "\u001b[1m196/196\u001b[0m \u001b[32m━━━━━━━━━━━━━━━━━━━━\u001b[0m\u001b[37m\u001b[0m \u001b[1m2s\u001b[0m 11ms/step - loss: 2.1512 - root_mean_squared_error: 1.4667 - val_loss: 2.9029 - val_root_mean_squared_error: 1.7045\n",
      "Epoch 39/40\n",
      "\u001b[1m196/196\u001b[0m \u001b[32m━━━━━━━━━━━━━━━━━━━━\u001b[0m\u001b[37m\u001b[0m \u001b[1m2s\u001b[0m 11ms/step - loss: 2.1521 - root_mean_squared_error: 1.4670 - val_loss: 2.8935 - val_root_mean_squared_error: 1.7017\n",
      "Epoch 40/40\n",
      "\u001b[1m196/196\u001b[0m \u001b[32m━━━━━━━━━━━━━━━━━━━━\u001b[0m\u001b[37m\u001b[0m \u001b[1m2s\u001b[0m 11ms/step - loss: 2.1351 - root_mean_squared_error: 1.4612 - val_loss: 2.9093 - val_root_mean_squared_error: 1.7063\n"
     ]
    }
   ],
   "source": [
    "history = model.fit(x=[X_train['user-id'], X_train['book-id'], X_train['year'], X_train['age']], y=y_train, batch_size=256, epochs=40, validation_split=0.1)"
   ]
  },
  {
   "cell_type": "code",
   "execution_count": 19,
   "id": "0b777982",
   "metadata": {},
   "outputs": [
    {
     "data": {
      "image/png": "[encoded data removed]",
      "text/plain": [
       "<Figure size 1000x600 with 1 Axes>"
      ]
     },
     "metadata": {},
     "output_type": "display_data"
    }
   ],
   "source": [
    "history_df = pd.DataFrame({'loss': history.history['loss'], 'val_loss': history.history['val_loss']}).reset_index(drop=False).rename(columns={'index': 'epoch'})\n",
    "plt.figure(figsize=(10, 6))\n",
    "sns.lineplot(x=history_df['epoch'], y=history_df['loss'], label='Training Loss')\n",
    "sns.lineplot(x=history_df['epoch'], y=history_df['val_loss'], label='Validation Loss')\n",
    "plt.title('Training and Validation Loss')\n",
    "plt.xlabel('Epoch')\n",
    "plt.ylabel('Loss')\n",
    "plt.legend()\n",
    "plt.show()"
   ]
  },
  {
   "cell_type": "code",
   "execution_count": 20,
   "id": "1c3391ac",
   "metadata": {},
   "outputs": [
    {
     "name": "stdout",
     "output_type": "stream",
     "text": [
      "\u001b[1m436/436\u001b[0m \u001b[32m━━━━━━━━━━━━━━━━━━━━\u001b[0m\u001b[37m\u001b[0m \u001b[1m2s\u001b[0m 3ms/step - loss: 2.7200 - root_mean_squared_error: 1.6490\n"
     ]
    }
   ],
   "source": [
    "test_scores = model.evaluate(x=[X_test['user-id'], X_test['book-id'], X_test['year'], X_test['age']], y=y_test)"
   ]
  },
  {
   "cell_type": "code",
   "execution_count": 21,
   "id": "967bbfc8",
   "metadata": {},
   "outputs": [
    {
     "name": "stdout",
     "output_type": "stream",
     "text": [
      "\u001b[1m436/436\u001b[0m \u001b[32m━━━━━━━━━━━━━━━━━━━━\u001b[0m\u001b[37m\u001b[0m \u001b[1m2s\u001b[0m 3ms/step\n"
     ]
    },
    {
     "data": {
      "text/plain": [
       "0.1545775115286928"
      ]
     },
     "execution_count": 21,
     "metadata": {},
     "output_type": "execute_result"
    }
   ],
   "source": [
    "r2_score(y_test, np.ravel(model.predict([X_test['user-id'], X_test['book-id'], X_test['year'], X_test['age']])))"
   ]
  },
  {
   "cell_type": "code",
   "execution_count": 22,
   "id": "2c6ce009",
   "metadata": {},
   "outputs": [],
   "source": [
    "def get_recommendation(user_id, data, model, number):\n",
    "    pred_data = data[data['user-id'] != user_id]\n",
    "    book_id = pred_data.groupby('book-id').nth(0)['book-id']\n",
    "    year = pred_data.groupby('book-id').nth(0)['year']\n",
    "    user_age = pd.Series(np.array([data['age'][list(data['user-id']).index(user_id)]] * year.shape[0]))\n",
    "    user_id = pd.Series(np.array([user_id] * year.shape[0]))\n",
    "    predictions = model.predict(x=[user_id, book_id, year, user_age]).flatten()\n",
    "    rec_indices = np.argsort(predictions)[::-1][:number]\n",
    "    return np.array(book_id.iloc[rec_indices])"
   ]
  },
  {
   "cell_type": "code",
   "execution_count": 24,
   "id": "9824da16",
   "metadata": {},
   "outputs": [
    {
     "name": "stdout",
     "output_type": "stream",
     "text": [
      "\u001b[1m438/438\u001b[0m \u001b[32m━━━━━━━━━━━━━━━━━━━━\u001b[0m\u001b[37m\u001b[0m \u001b[1m2s\u001b[0m 3ms/step\n"
     ]
    },
    {
     "data": {
      "text/plain": [
       "array([10847, 10705, 12130,  5358,  1018,  5608, 11290,  5936,  9686,\n",
       "       10846])"
      ]
     },
     "execution_count": 24,
     "metadata": {},
     "output_type": "execute_result"
    }
   ],
   "source": [
    "get_recommendation(2313, cut_data, model, 10)"
   ]
  },
  {
   "cell_type": "code",
   "execution_count": null,
   "id": "60fc1fb4",
   "metadata": {},
   "outputs": [],
   "source": [
    "keras.utils.plot_model(model, to_file=\"model.png\", show_shapes=True)\n",
    "model.save(\"model.keras\")"
   ]
  }
 ],
 "metadata": {
  "kernelspec": {
   "display_name": "Python 3 (ipykernel)",
   "language": "python",
   "name": "python3"
  },
  "language_info": {
   "codemirror_mode": {
    "name": "ipython",
    "version": 3
   },
   "file_extension": ".py",
   "mimetype": "text/x-python",
   "name": "python",
   "nbconvert_exporter": "python",
   "pygments_lexer": "ipython3",
   "version": "3.10.6"
  }
 },
 "nbformat": 4,
 "nbformat_minor": 5
}
